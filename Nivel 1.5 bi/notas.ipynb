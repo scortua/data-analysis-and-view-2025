{
 "cells": [
  {
   "cell_type": "markdown",
   "id": "70f24eaf",
   "metadata": {},
   "source": [
    "# Introduccion Canva, Dimensiones y Estilos"
   ]
  },
  {
   "cell_type": "markdown",
   "id": "5f878ebe",
   "metadata": {},
   "source": [
    "Canvas es el nombre del plano donde se dibuja el grafico, que tiene obviamente diferentes estilos o plantillas."
   ]
  },
  {
   "cell_type": "code",
   "execution_count": 72,
   "id": "c5a3d496",
   "metadata": {},
   "outputs": [],
   "source": [
    "import pandas as pd\n",
    "import matplotlib.pyplot as plt\n",
    "import numpy as np"
   ]
  },
  {
   "cell_type": "code",
   "execution_count": 2,
   "id": "fd500248",
   "metadata": {},
   "outputs": [
    {
     "data": {
      "text/html": [
       "<div>\n",
       "<style scoped>\n",
       "    .dataframe tbody tr th:only-of-type {\n",
       "        vertical-align: middle;\n",
       "    }\n",
       "\n",
       "    .dataframe tbody tr th {\n",
       "        vertical-align: top;\n",
       "    }\n",
       "\n",
       "    .dataframe thead th {\n",
       "        text-align: right;\n",
       "    }\n",
       "</style>\n",
       "<table border=\"1\" class=\"dataframe\">\n",
       "  <thead>\n",
       "    <tr style=\"text-align: right;\">\n",
       "      <th></th>\n",
       "      <th>DAIRY</th>\n",
       "      <th>MEATS</th>\n",
       "      <th>SEAFOOD</th>\n",
       "    </tr>\n",
       "    <tr>\n",
       "      <th>fecha</th>\n",
       "      <th></th>\n",
       "      <th></th>\n",
       "      <th></th>\n",
       "    </tr>\n",
       "  </thead>\n",
       "  <tbody>\n",
       "    <tr>\n",
       "      <th>2015-01</th>\n",
       "      <td>1134521.0</td>\n",
       "      <td>543117.728891</td>\n",
       "      <td>40465.835012</td>\n",
       "    </tr>\n",
       "    <tr>\n",
       "      <th>2015-02</th>\n",
       "      <td>1020747.0</td>\n",
       "      <td>498735.076839</td>\n",
       "      <td>36066.561003</td>\n",
       "    </tr>\n",
       "    <tr>\n",
       "      <th>2015-03</th>\n",
       "      <td>1234851.0</td>\n",
       "      <td>546517.159221</td>\n",
       "      <td>43808.473074</td>\n",
       "    </tr>\n",
       "    <tr>\n",
       "      <th>2015-04</th>\n",
       "      <td>1181180.0</td>\n",
       "      <td>522304.280744</td>\n",
       "      <td>39983.471003</td>\n",
       "    </tr>\n",
       "    <tr>\n",
       "      <th>2015-05</th>\n",
       "      <td>1293308.0</td>\n",
       "      <td>591691.899734</td>\n",
       "      <td>42506.832015</td>\n",
       "    </tr>\n",
       "    <tr>\n",
       "      <th>2015-06</th>\n",
       "      <td>1243588.0</td>\n",
       "      <td>565014.130035</td>\n",
       "      <td>38780.552004</td>\n",
       "    </tr>\n",
       "    <tr>\n",
       "      <th>2015-07</th>\n",
       "      <td>1244815.0</td>\n",
       "      <td>594903.677368</td>\n",
       "      <td>38535.588006</td>\n",
       "    </tr>\n",
       "    <tr>\n",
       "      <th>2015-08</th>\n",
       "      <td>1263428.0</td>\n",
       "      <td>581214.143026</td>\n",
       "      <td>37767.580998</td>\n",
       "    </tr>\n",
       "    <tr>\n",
       "      <th>2015-09</th>\n",
       "      <td>1224619.0</td>\n",
       "      <td>562711.633157</td>\n",
       "      <td>41906.374010</td>\n",
       "    </tr>\n",
       "    <tr>\n",
       "      <th>2015-10</th>\n",
       "      <td>1314827.0</td>\n",
       "      <td>580788.361242</td>\n",
       "      <td>41423.962963</td>\n",
       "    </tr>\n",
       "    <tr>\n",
       "      <th>2015-11</th>\n",
       "      <td>1283672.0</td>\n",
       "      <td>535908.927954</td>\n",
       "      <td>38823.761011</td>\n",
       "    </tr>\n",
       "    <tr>\n",
       "      <th>2015-12</th>\n",
       "      <td>1394582.0</td>\n",
       "      <td>567381.391078</td>\n",
       "      <td>33728.276973</td>\n",
       "    </tr>\n",
       "  </tbody>\n",
       "</table>\n",
       "</div>"
      ],
      "text/plain": [
       "             DAIRY          MEATS       SEAFOOD\n",
       "fecha                                          \n",
       "2015-01  1134521.0  543117.728891  40465.835012\n",
       "2015-02  1020747.0  498735.076839  36066.561003\n",
       "2015-03  1234851.0  546517.159221  43808.473074\n",
       "2015-04  1181180.0  522304.280744  39983.471003\n",
       "2015-05  1293308.0  591691.899734  42506.832015\n",
       "2015-06  1243588.0  565014.130035  38780.552004\n",
       "2015-07  1244815.0  594903.677368  38535.588006\n",
       "2015-08  1263428.0  581214.143026  37767.580998\n",
       "2015-09  1224619.0  562711.633157  41906.374010\n",
       "2015-10  1314827.0  580788.361242  41423.962963\n",
       "2015-11  1283672.0  535908.927954  38823.761011\n",
       "2015-12  1394582.0  567381.391078  33728.276973"
      ]
     },
     "execution_count": 2,
     "metadata": {},
     "output_type": "execute_result"
    }
   ],
   "source": [
    "df = pd.read_csv('../data/tiendas_procesado.csv',index_col='fecha')\n",
    "df"
   ]
  },
  {
   "cell_type": "markdown",
   "id": "022e5063",
   "metadata": {},
   "source": [
    "## Configuracion Grafico lineas\n",
    "\n",
    "Pandas usa matplotlib como backend para dibujar. La idea básica es que cada columna del DataFrame se interpreta como una serie (línea) y el índice se usa por defecto como eje X (muy útil si el índice es temporal).\n",
    "\n",
    "Qué puedes controlar y cómo usarlo:\n",
    "- Series y eje X:\n",
    "    - Seleccionar columnas: pasar una lista a y o seleccionar sub-DataFrame (p. ej. df[['DAIRY','MEATS']]).\n",
    "    - x: usar otra columna como eje X si no quieres el índice.\n",
    "- Tamaño y escala:\n",
    "    - figsize: tuplas (anchura, altura) en pulgadas.\n",
    "    - xlim / ylim: límites del eje.\n",
    "    - logy: escala logarítmica en Y.\n",
    "- Estética de líneas:\n",
    "    - linewidth, linestyle, marker, markersize, alpha (transparencia).\n",
    "    - color o colormap para paletas automáticas.\n",
    "    - style: cadena de estilo (p. ej. '--o').\n",
    "- Etiquetas y leyenda:\n",
    "    - title, xlabel, ylabel.\n",
    "    - legend: mostrar/ocultar y controlar ubicación.\n",
    "- Rejilla y rotación:\n",
    "    - grid=True para cuadrícula.\n",
    "    - rot para rotar etiquetas del eje X.\n",
    "- Subplots y ejes secundarios:\n",
    "    - subplots=True para separar cada columna en su propio eje.\n",
    "    - secondary_y para dibujar una columna en un eje Y secundario.\n",
    "- Integración con matplotlib:\n",
    "    - Pasar ax para dibujar sobre un eje existente y combinar trazas con mayor control (anotaciones, text, tight_layout).\n",
    "- Otras opciones:\n",
    "    - use_index (True/False), sharex/sharey, sort_columns, table (mostrar tabla de valores), legend_kwds.\n",
    "\n",
    "Buenas prácticas:\n",
    "- Asegúrate de tener el índice en formato temporal si representas series temporales (usar pd.to_datetime + set_index).\n",
    "- Normaliza o escala series si tienen magnitudes muy distintas; alternativamente usa secondary_y.\n",
    "- Añade título, etiquetas y grid para mejorar la lectura.\n",
    "- Para figuras finales, ajusta figsize y linewidth para que las líneas sean visibles al exportar.\n",
    "\n",
    "Ejemplos de uso (ilustrativos):\n",
    "```python\n",
    "# varias series en una sola figura\n",
    "df[['DAIRY','MEATS','SEAFOOD']].plot(\n",
    "        y=['DAIRY','MEATS','SEAFOOD'],\n",
    "        figsize=(12,6),\n",
    "        linewidth=2,\n",
    "        marker='o',\n",
    "        title='Ventas por categoría (2015)',\n",
    "        grid=True\n",
    ")\n",
    "```\n"
   ]
  },
  {
   "cell_type": "code",
   "execution_count": 7,
   "id": "33c16736",
   "metadata": {},
   "outputs": [],
   "source": [
    "plt.rcParams['figure.figsize'] = (15,3) # Cambia el tamaño por defecto de las figuras"
   ]
  },
  {
   "cell_type": "markdown",
   "id": "b94a0a88",
   "metadata": {},
   "source": [
    "### Grafico Matplotlib"
   ]
  },
  {
   "cell_type": "markdown",
   "id": "ef5c9584",
   "metadata": {},
   "source": [
    "Ahora se puede establecer los temas en [matplotlib](https://matplotlib.org/stable/gallery/style_sheets/style_sheets_reference.html)"
   ]
  },
  {
   "cell_type": "code",
   "execution_count": 54,
   "id": "c784737c",
   "metadata": {},
   "outputs": [],
   "source": [
    "plt.style.use('ggplot') # Cambia el tema de las gráficas"
   ]
  },
  {
   "cell_type": "code",
   "execution_count": null,
   "id": "570ca3e2",
   "metadata": {},
   "outputs": [
    {
     "data": {
      "text/plain": [
       "<matplotlib.legend.Legend at 0x288d245fc50>"
      ]
     },
     "execution_count": 167,
     "metadata": {},
     "output_type": "execute_result"
    },
    {
     "data": {
      "image/png": "[encoded data removed]",
      "text/plain": [
       "<Figure size 500x300 with 1 Axes>"
      ]
     },
     "metadata": {},
     "output_type": "display_data"
    }
   ],
   "source": [
    "ax = df.plot.line(\n",
    "    figsize=(5,3),\n",
    "    title='Ventas de 3 productos en 2015',\n",
    ")\n",
    "ax.xaxis.grid(\n",
    "    visible=True, # activa o desactiva las lineas verticales si es false el resto se borra\n",
    "    color='blue', # color de las lineas blue, red, green, etc o en HEX \n",
    "    alpha=0.2, # transparencia de las lineas de 0 a 1\n",
    "    linewidth=1, # grosor de las lineas desde 0\n",
    ")\n",
    "ax.yaxis.grid(\n",
    "    visible=True, # activa o desactiva las lineas horizontales si es false el resto se borra\n",
    "    color='#28bf50', # color de las lineas\n",
    "    linestyle='--', # estilo de las lineas: '-', '--', '-.', ':'\n",
    ")\n",
    "ax.legend(\n",
    "    title='Tipo Producto',\n",
    "    labels=['Lacteos','Carnes','Mar'],\n",
    "    fontsize=7,\n",
    "    # colocacion de la leyenda\n",
    "    loc='upper left', # 'upper right', 'upper left', 'lower left', 'lower right', 'right', 'center left', 'center right', 'lower center', 'upper center', 'center'\n",
    "    bbox_to_anchor=(1, 1), # (x,y) para ajustar la posicion exacta de la leyenda que son porcentajes \n",
    "    labelcolor=['#1f77b4', '#ff7f0e', '#2ca02c'], # colores de las etiquetas en HEX\n",
    "    title_fontproperties={\n",
    "        'size':10\n",
    "    },\n",
    "    alignment='center', # alinea las etiquetas a la izquierda, derecha o centro\n",
    "    ncol=1 # numero de columnas que tendra la leyenda (1,2,3...\n",
    "    # si no quieres la leyenda -> ax.legend().set_visible(False)\n",
    ")"
   ]
  },
  {
   "cell_type": "code",
   "execution_count": 113,
   "id": "edeacf37",
   "metadata": {},
   "outputs": [
    {
     "data": {
      "text/plain": [
       "Text(8, 1000000, 'Noviembre OJO!')"
      ]
     },
     "execution_count": 113,
     "metadata": {},
     "output_type": "execute_result"
    },
    {
     "data": {
      "image/png": "[encoded data removed]",
      "text/plain": [
       "<Figure size 1500x300 with 1 Axes>"
      ]
     },
     "metadata": {},
     "output_type": "display_data"
    }
   ],
   "source": [
    "ax = df.plot.line(\n",
    "    figsize=(15,3),\n",
    ")\n",
    "# titulo del grafico\n",
    "ax.set_title(\n",
    "    'Ventas de 3 productos en 2015',\n",
    "    fontdict={\n",
    "        'fontsize':20,\n",
    "        'weight':'bold',\n",
    "        'color':'#008080',\n",
    "    }\n",
    ")\n",
    "# ticks o etiquetas de los niveles de los ejes\n",
    "ax.set_xticks(\n",
    "    np.arange(0,len(df),1)[::2] # se pueden dar saltos al colocar [::2] o cambiar el 1 por 2,3,4 etc\n",
    ")\n",
    "ax.set_xticklabels(\n",
    "    df.index.values[::2], # se pueden dar saltos al colocar [::2] o cambiar el 1 por 2,3,4 etc\n",
    "    rotation=45, # rotacion de las etiquetas\n",
    "    fontdict={\n",
    "        'family':'serif',\n",
    "        'color':'#a0522d',\n",
    "        'weight':'bold',\n",
    "        'size':10,\n",
    "    }\n",
    ")\n",
    "ax.set_yticks(\n",
    "    [500000,1000000],\n",
    ")\n",
    "ax.set_yticklabels(\n",
    "    ['Medio Millon','Millon'],\n",
    "    rotation=0, # rotacion de las etiquetas\n",
    ")\n",
    "# etiqueta del eje\n",
    "ax.set_xlabel(\n",
    "    'Fecha',\n",
    "    loc='center', # 'left', 'center', 'right'\n",
    "\n",
    ") \n",
    "ax.set_ylabel(\n",
    "    'Ventas por millones',\n",
    "    loc='center', # 'top', 'center', 'bottom'\n",
    "    fontdict={\n",
    "        'name':'Comic Sans MS',\n",
    "        'color':'red',\n",
    "        'fontsize':14,\n",
    "    }\n",
    ")\n",
    "\n",
    "ax.annotate(\n",
    "    'Noviembre OJO!',\n",
    "    xy=(10,1300000),\n",
    "    color='blue',\n",
    "    xytext=(8,1000000),\n",
    "    horizontalalignment='right',\n",
    "    arrowprops={\n",
    "        'color':'red',\n",
    "        'headwidth':10,\n",
    "        'headlength':5,\n",
    "    },\n",
    ")\n"
   ]
  },
  {
   "cell_type": "markdown",
   "id": "eef69001",
   "metadata": {},
   "source": [
    "Ahora matplotlib saca el objeto de la grafica ahora se pueden hacer detalles mas personalizados sin necesidad de llamar todo sino solamente al objeto.\n",
    "\n",
    "Los colores en los graficos se pueden definir con HEX."
   ]
  },
  {
   "cell_type": "code",
   "execution_count": 193,
   "id": "19049fba",
   "metadata": {},
   "outputs": [
    {
     "data": {
      "text/plain": [
       "Text(0.5, 1.0, 'SEAFOOD')"
      ]
     },
     "execution_count": 193,
     "metadata": {},
     "output_type": "execute_result"
    },
    {
     "data": {
      "image/png": "[encoded data removed]",
      "text/plain": [
       "<Figure size 1000x400 with 3 Axes>"
      ]
     },
     "metadata": {},
     "output_type": "display_data"
    }
   ],
   "source": [
    "# devuelve el objeto y la lista de graficos ya sea por cada uno\n",
    "fig,axs =plt.subplots(3,1,constrained_layout=True)   # filas y columnas y acomodador automatico de espacio\n",
    "fig.suptitle(\n",
    "    'Ventas de 3 productos'\n",
    ")\n",
    "fig.supylabel('Ventas por millones')\n",
    "fig.supxlabel('Fechas')\n",
    "fig.set_size_inches(8,6)\n",
    "plt.style.use('ggplot')\n",
    "df.plot.line(\n",
    "    figsize=(10,4),\n",
    "    y='DAIRY',\n",
    "    ax=axs[0],  # se asigna el grafico al objeto axs[0], axs[1], axs[2] etc dependiendo de la cantidad de graficos que se hayan creado\n",
    "    color='blue',\n",
    ")\n",
    "df.plot.line(\n",
    "    figsize=(10,4),\n",
    "    y='MEATS',\n",
    "    ax=axs[1],  # se asigna el grafico al objeto axs[0], axs[1], axs[2] etc dependiendo de la cantidad de graficos que se hayan creado\n",
    "    color='red',\n",
    ")\n",
    "df.plot.line(\n",
    "    figsize=(10,4),\n",
    "    y='SEAFOOD',\n",
    "    ax=axs[2],  # se asigna el grafico al objeto axs[0], axs[1], axs[2] etc dependiendo de la cantidad de graficos que se hayan creado\n",
    "    color='green',\n",
    ")\n",
    "\n",
    "axs[0].set_xticklabels([])\n",
    "axs[1].set_xticklabels([])\n",
    "\n",
    "axs[0].set_xlabel('')\n",
    "axs[1].set_xlabel('')\n",
    "axs[2].set_xlabel('')\n",
    "\n",
    "axs[0].legend().set_visible(False)\n",
    "axs[1].legend().set_visible(False)\n",
    "axs[2].legend().set_visible(False)\n",
    "\n",
    "axs[0].set_title('DAIRY',fontdict={'fontsize':8,'color':'blue'},loc='center')\n",
    "axs[1].set_title('MEATS')\n",
    "axs[2].set_title('SEAFOOD')\n"
   ]
  },
  {
   "cell_type": "code",
   "execution_count": 215,
   "id": "b8757d47",
   "metadata": {},
   "outputs": [
    {
     "data": {
      "text/plain": [
       "<Figure size 1500x300 with 0 Axes>"
      ]
     },
     "metadata": {},
     "output_type": "display_data"
    }
   ],
   "source": [
    "plt.savefig(\n",
    "    './images/grafico_matplotlib.png',\n",
    "    format='png', # PNG, JPG, SVG, PDF\n",
    "    dpi=1200, # resolucion de la imagen\n",
    "    bbox_inches='tight' # ajusta los margenes de la imagen al contenido\n",
    ") # guarda la imagen en el directorio especificado"
   ]
  },
  {
   "cell_type": "markdown",
   "id": "6a2f339a",
   "metadata": {},
   "source": [
    "### Grafico Seaborn"
   ]
  },
  {
   "cell_type": "code",
   "execution_count": 11,
   "id": "518d8394",
   "metadata": {},
   "outputs": [],
   "source": [
    "import seaborn as sns"
   ]
  },
  {
   "cell_type": "markdown",
   "id": "9f21b14e",
   "metadata": {},
   "source": [
    "Al igual se pueden personalizar las figuras, temas estilos como matplotlib o propiamente [seaborn](https://seaborn.pydata.org/tutorial/aesthetics.html)"
   ]
  },
  {
   "cell_type": "code",
   "execution_count": null,
   "id": "1a9bbe81",
   "metadata": {},
   "outputs": [
    {
     "data": {
      "text/plain": [
       "Text(11, 1250000, 'Noviembre')"
      ]
     },
     "execution_count": 121,
     "metadata": {},
     "output_type": "execute_result"
    },
    {
     "data": {
      "image/png": "[encoded data removed]",
      "text/plain": [
       "<Figure size 1000x500 with 1 Axes>"
      ]
     },
     "metadata": {},
     "output_type": "display_data"
    }
   ],
   "source": [
    "# metodo global\n",
    "plt.figure(\n",
    "    figsize=(10,5)\n",
    ")\n",
    "plt.grid(\n",
    "    visible=True,\n",
    "    axis='x',\n",
    "    color='blue',\n",
    "    alpha=0.3,\n",
    "    linestyle='--',\n",
    "    linewidth=1,\n",
    ")\n",
    "plt.grid(\n",
    "    visible=False,\n",
    "    axis='y',\n",
    ")\n",
    "# metodos de seaborn\n",
    "sns.set_style('dark') # darkgrid, whitegrid, dark, white, ticks)\n",
    "sns.set_theme('paper') # paper, notebook, talk, poster\n",
    "\n",
    "ax = sns.lineplot(\n",
    "    data=df,\n",
    ")\n",
    "\n",
    "ax.set_xticks(\n",
    "    [0,10],\n",
    ")\n",
    "ax.set_xticklabels(\n",
    "    ['Enero','Noviembre'],\n",
    "    rotation=60,\n",
    ")\n",
    "ax.axhline( # igual existe axvline\n",
    "    y=1300000,\n",
    "    color='red',\n",
    "    linestyle='--',\n",
    "    alpha=0.5,\n",
    ")\n",
    "ax.annotate( \n",
    "    'Noviembre',\n",
    "    xy=(11,1250000),\n",
    "    horizontalalignment='center',\n",
    "    color='red',\n",
    "    fontstyle='italic',\n",
    "    alpha=0.7,\n",
    "    size=7,\n",
    ")\n"
   ]
  },
  {
   "cell_type": "code",
   "execution_count": null,
   "id": "c316534c",
   "metadata": {},
   "outputs": [
    {
     "data": {
      "image/png": "[encoded data removed]",
      "text/plain": [
       "<Figure size 1500x300 with 1 Axes>"
      ]
     },
     "metadata": {},
     "output_type": "display_data"
    }
   ],
   "source": [
    "# metodo global\n",
    "plt.title(\n",
    "    'Ventas de 2015',\n",
    "    fontsize=16,\n",
    "    loc='center', # 'left', 'center', 'right'\n",
    "    pad=20, # espacio entre el titulo y la grafica\n",
    ")\n",
    "plt.xlabel(\n",
    "    'Mis Fecha',\n",
    "    fontsize=12,\n",
    "    loc='center', # 'left', 'center', 'right'\n",
    "    labelpad=15, # espacio entre la etiqueta y el eje\n",
    ")\n",
    "plt.ylabel(\n",
    "    'Mis Ventas',\n",
    "    fontsize=12,\n",
    "    loc='center', # 'top', 'center', 'bottom'\n",
    "    labelpad=15, # espacio entre la etiqueta y el eje\n",
    ")\n",
    "\n",
    "sns.set_style('dark') # darkgrid, whitegrid, dark, white, ticks)\n",
    "sns.set_theme('paper') # paper, notebook, talk, poster\n",
    "\n",
    "ax = sns.lineplot(\n",
    "    data=df,\n",
    ")\n",
    "\"\"\"\n",
    "ax.set(\n",
    "    title='Ventas de 2015',\n",
    "    xlabel='Mis Fecha',\n",
    "    ylabel='Mis Ventas',\n",
    ")\n",
    "\"\"\""
   ]
  },
  {
   "cell_type": "code",
   "execution_count": 207,
   "id": "c2bfd03f",
   "metadata": {},
   "outputs": [
    {
     "data": {
      "text/plain": [
       "<Figure size 1500x300 with 0 Axes>"
      ]
     },
     "metadata": {},
     "output_type": "display_data"
    }
   ],
   "source": [
    "plt.savefig(\n",
    "    './images/grafico_seaborn.png',\n",
    "    format='png',\n",
    "    dpi=300,\n",
    "    bbox_inches='tight' # ajusta los margenes de la imagen al contenido\n",
    ")"
   ]
  },
  {
   "cell_type": "markdown",
   "id": "6d91d735",
   "metadata": {},
   "source": [
    "### Grafico Plotly"
   ]
  },
  {
   "cell_type": "code",
   "execution_count": 24,
   "id": "05032455",
   "metadata": {},
   "outputs": [],
   "source": [
    "import plotly.express as px"
   ]
  },
  {
   "cell_type": "markdown",
   "id": "08d613c8",
   "metadata": {},
   "source": [
    "Ahi se puede ver los temas de [plotly](https://plotly.com/python/templates/)"
   ]
  },
  {
   "cell_type": "code",
   "execution_count": 174,
   "id": "a58fb2f3",
   "metadata": {},
   "outputs": [
    {
     "data": {
      "application/vnd.plotly.v1+json": {
       "config": {
        "plotlyServerURL": "https://plot.ly"
       },
       "data": [
        {
         "hovertemplate": "variable=DAIRY<br>fecha=%{x}<br>value=%{y}<extra></extra>",
         "legendgroup": "DAIRY",
         "line": {
          "color": "#636efa",
          "dash": "solid"
         },
         "marker": {
          "symbol": "circle"
         },
         "mode": "lines",
         "name": "DAIRY",
         "orientation": "v",
         "showlegend": true,
         "type": "scatter",
         "x": [
          "2015-01",
          "2015-02",
          "2015-03",
          "2015-04",
          "2015-05",
          "2015-06",
          "2015-07",
          "2015-08",
          "2015-09",
          "2015-10",
          "2015-11",
          "2015-12"
         ],
         "xaxis": "x",
         "y": {
          "bdata": "AAAAALlPMUEAAAAAliYvQQAAAACj1zJBAAAAAPwFMkEAAAAA/LszQQAAAADE+TJBAAAAAI/+MkEAAAAAREczQQAAAACrrzJBAAAAAAsQNEEAAAAAWJYzQQAAAACWRzVB",
          "dtype": "f8"
         },
         "yaxis": "y"
        },
        {
         "hovertemplate": "variable=MEATS<br>fecha=%{x}<br>value=%{y}<extra></extra>",
         "legendgroup": "MEATS",
         "line": {
          "color": "#EF553B",
          "dash": "solid"
         },
         "marker": {
          "symbol": "circle"
         },
         "mode": "lines",
         "name": "MEATS",
         "orientation": "v",
         "showlegend": true,
         "type": "scatter",
         "x": [
          "2015-01",
          "2015-02",
          "2015-03",
          "2015-04",
          "2015-05",
          "2015-06",
          "2015-07",
          "2015-08",
          "2015-09",
          "2015-10",
          "2015-11",
          "2015-12"
         ],
         "xaxis": "x",
         "y": {
          "bdata": "fzMxdRuTIEEA4q5OvHAeQThqhVGqrSBB6lp7HwHhH0FS76nMlw4iQZHyk0IsPiFBf/rPWq8nIkExtDpJvLwhQYAnLUQvLCFBILb0uGi5IUFkyRzbyVogQShgO8iqUCFB",
          "dtype": "f8"
         },
         "yaxis": "y"
        },
        {
         "hovertemplate": "variable=SEAFOOD<br>fecha=%{x}<br>value=%{y}<extra></extra>",
         "legendgroup": "SEAFOOD",
         "line": {
          "color": "#00cc96",
          "dash": "solid"
         },
         "marker": {
          "symbol": "circle"
         },
         "mode": "lines",
         "name": "SEAFOOD",
         "orientation": "v",
         "showlegend": true,
         "type": "scatter",
         "x": [
          "2015-01",
          "2015-02",
          "2015-03",
          "2015-04",
          "2015-05",
          "2015-06",
          "2015-07",
          "2015-08",
          "2015-09",
          "2015-10",
          "2015-11",
          "2015-12"
         ],
         "xaxis": "x",
         "y": {
          "bdata": "+RVruDrC40Av77vzUZzhQOK2bCMPZOVAu9VzEu+F40DZ692fWsHkQJiABKqR7+JAy7/x0PLQ4kCyEYiX8nDiQCw95PdLduRAyJ6Y0P455ED8KDRa+PTiQAza9dwIeOBA",
          "dtype": "f8"
         },
         "yaxis": "y"
        }
       ],
       "layout": {
        "font": {
         "color": "#ff7f0e",
         "family": "Timers New Roman"
        },
        "height": 400,
        "legend": {
         "bgcolor": "lightgrey",
         "bordercolor": "black",
         "borderwidth": 2,
         "font": {
          "color": "green",
          "family": "Arial",
          "size": 10
         },
         "title": {
          "font": {
           "color": "red"
          },
          "text": "Tipo Producto"
         },
         "tracegroupgap": 0,
         "x": 1.05,
         "y": 0.5
        },
        "margin": {
         "t": 60
        },
        "template": {
         "data": {
          "bar": [
           {
            "error_x": {
             "color": "#f2f5fa"
            },
            "error_y": {
             "color": "#f2f5fa"
            },
            "marker": {
             "line": {
              "color": "rgb(17,17,17)",
              "width": 0.5
             },
             "pattern": {
              "fillmode": "overlay",
              "size": 10,
              "solidity": 0.2
             }
            },
            "type": "bar"
           }
          ],
          "barpolar": [
           {
            "marker": {
             "line": {
              "color": "rgb(17,17,17)",
              "width": 0.5
             },
             "pattern": {
              "fillmode": "overlay",
              "size": 10,
              "solidity": 0.2
             }
            },
            "type": "barpolar"
           }
          ],
          "carpet": [
           {
            "aaxis": {
             "endlinecolor": "#A2B1C6",
             "gridcolor": "#506784",
             "linecolor": "#506784",
             "minorgridcolor": "#506784",
             "startlinecolor": "#A2B1C6"
            },
            "baxis": {
             "endlinecolor": "#A2B1C6",
             "gridcolor": "#506784",
             "linecolor": "#506784",
             "minorgridcolor": "#506784",
             "startlinecolor": "#A2B1C6"
            },
            "type": "carpet"
           }
          ],
          "choropleth": [
           {
            "colorbar": {
             "outlinewidth": 0,
             "ticks": ""
            },
            "type": "choropleth"
           }
          ],
          "contour": [
           {
            "colorbar": {
             "outlinewidth": 0,
             "ticks": ""
            },
            "colorscale": [
             [
              0,
              "#0d0887"
             ],
             [
              0.1111111111111111,
              "#46039f"
             ],
             [
              0.2222222222222222,
              "#7201a8"
             ],
             [
              0.3333333333333333,
              "#9c179e"
             ],
             [
              0.4444444444444444,
              "#bd3786"
             ],
             [
              0.5555555555555556,
              "#d8576b"
             ],
             [
              0.6666666666666666,
              "#ed7953"
             ],
             [
              0.7777777777777778,
              "#fb9f3a"
             ],
             [
              0.8888888888888888,
              "#fdca26"
             ],
             [
              1,
              "#f0f921"
             ]
            ],
            "type": "contour"
           }
          ],
          "contourcarpet": [
           {
            "colorbar": {
             "outlinewidth": 0,
             "ticks": ""
            },
            "type": "contourcarpet"
           }
          ],
          "heatmap": [
           {
            "colorbar": {
             "outlinewidth": 0,
             "ticks": ""
            },
            "colorscale": [
             [
              0,
              "#0d0887"
             ],
             [
              0.1111111111111111,
              "#46039f"
             ],
             [
              0.2222222222222222,
              "#7201a8"
             ],
             [
              0.3333333333333333,
              "#9c179e"
             ],
             [
              0.4444444444444444,
              "#bd3786"
             ],
             [
              0.5555555555555556,
              "#d8576b"
             ],
             [
              0.6666666666666666,
              "#ed7953"
             ],
             [
              0.7777777777777778,
              "#fb9f3a"
             ],
             [
              0.8888888888888888,
              "#fdca26"
             ],
             [
              1,
              "#f0f921"
             ]
            ],
            "type": "heatmap"
           }
          ],
          "histogram": [
           {
            "marker": {
             "pattern": {
              "fillmode": "overlay",
              "size": 10,
              "solidity": 0.2
             }
            },
            "type": "histogram"
           }
          ],
          "histogram2d": [
           {
            "colorbar": {
             "outlinewidth": 0,
             "ticks": ""
            },
            "colorscale": [
             [
              0,
              "#0d0887"
             ],
             [
              0.1111111111111111,
              "#46039f"
             ],
             [
              0.2222222222222222,
              "#7201a8"
             ],
             [
              0.3333333333333333,
              "#9c179e"
             ],
             [
              0.4444444444444444,
              "#bd3786"
             ],
             [
              0.5555555555555556,
              "#d8576b"
             ],
             [
              0.6666666666666666,
              "#ed7953"
             ],
             [
              0.7777777777777778,
              "#fb9f3a"
             ],
             [
              0.8888888888888888,
              "#fdca26"
             ],
             [
              1,
              "#f0f921"
             ]
            ],
            "type": "histogram2d"
           }
          ],
          "histogram2dcontour": [
           {
            "colorbar": {
             "outlinewidth": 0,
             "ticks": ""
            },
            "colorscale": [
             [
              0,
              "#0d0887"
             ],
             [
              0.1111111111111111,
              "#46039f"
             ],
             [
              0.2222222222222222,
              "#7201a8"
             ],
             [
              0.3333333333333333,
              "#9c179e"
             ],
             [
              0.4444444444444444,
              "#bd3786"
             ],
             [
              0.5555555555555556,
              "#d8576b"
             ],
             [
              0.6666666666666666,
              "#ed7953"
             ],
             [
              0.7777777777777778,
              "#fb9f3a"
             ],
             [
              0.8888888888888888,
              "#fdca26"
             ],
             [
              1,
              "#f0f921"
             ]
            ],
            "type": "histogram2dcontour"
           }
          ],
          "mesh3d": [
           {
            "colorbar": {
             "outlinewidth": 0,
             "ticks": ""
            },
            "type": "mesh3d"
           }
          ],
          "parcoords": [
           {
            "line": {
             "colorbar": {
              "outlinewidth": 0,
              "ticks": ""
             }
            },
            "type": "parcoords"
           }
          ],
          "pie": [
           {
            "automargin": true,
            "type": "pie"
           }
          ],
          "scatter": [
           {
            "marker": {
             "line": {
              "color": "#283442"
             }
            },
            "type": "scatter"
           }
          ],
          "scatter3d": [
           {
            "line": {
             "colorbar": {
              "outlinewidth": 0,
              "ticks": ""
             }
            },
            "marker": {
             "colorbar": {
              "outlinewidth": 0,
              "ticks": ""
             }
            },
            "type": "scatter3d"
           }
          ],
          "scattercarpet": [
           {
            "marker": {
             "colorbar": {
              "outlinewidth": 0,
              "ticks": ""
             }
            },
            "type": "scattercarpet"
           }
          ],
          "scattergeo": [
           {
            "marker": {
             "colorbar": {
              "outlinewidth": 0,
              "ticks": ""
             }
            },
            "type": "scattergeo"
           }
          ],
          "scattergl": [
           {
            "marker": {
             "line": {
              "color": "#283442"
             }
            },
            "type": "scattergl"
           }
          ],
          "scattermap": [
           {
            "marker": {
             "colorbar": {
              "outlinewidth": 0,
              "ticks": ""
             }
            },
            "type": "scattermap"
           }
          ],
          "scattermapbox": [
           {
            "marker": {
             "colorbar": {
              "outlinewidth": 0,
              "ticks": ""
             }
            },
            "type": "scattermapbox"
           }
          ],
          "scatterpolar": [
           {
            "marker": {
             "colorbar": {
              "outlinewidth": 0,
              "ticks": ""
             }
            },
            "type": "scatterpolar"
           }
          ],
          "scatterpolargl": [
           {
            "marker": {
             "colorbar": {
              "outlinewidth": 0,
              "ticks": ""
             }
            },
            "type": "scatterpolargl"
           }
          ],
          "scatterternary": [
           {
            "marker": {
             "colorbar": {
              "outlinewidth": 0,
              "ticks": ""
             }
            },
            "type": "scatterternary"
           }
          ],
          "surface": [
           {
            "colorbar": {
             "outlinewidth": 0,
             "ticks": ""
            },
            "colorscale": [
             [
              0,
              "#0d0887"
             ],
             [
              0.1111111111111111,
              "#46039f"
             ],
             [
              0.2222222222222222,
              "#7201a8"
             ],
             [
              0.3333333333333333,
              "#9c179e"
             ],
             [
              0.4444444444444444,
              "#bd3786"
             ],
             [
              0.5555555555555556,
              "#d8576b"
             ],
             [
              0.6666666666666666,
              "#ed7953"
             ],
             [
              0.7777777777777778,
              "#fb9f3a"
             ],
             [
              0.8888888888888888,
              "#fdca26"
             ],
             [
              1,
              "#f0f921"
             ]
            ],
            "type": "surface"
           }
          ],
          "table": [
           {
            "cells": {
             "fill": {
              "color": "#506784"
             },
             "line": {
              "color": "rgb(17,17,17)"
             }
            },
            "header": {
             "fill": {
              "color": "#2a3f5f"
             },
             "line": {
              "color": "rgb(17,17,17)"
             }
            },
            "type": "table"
           }
          ]
         },
         "layout": {
          "annotationdefaults": {
           "arrowcolor": "#f2f5fa",
           "arrowhead": 0,
           "arrowwidth": 1
          },
          "autotypenumbers": "strict",
          "coloraxis": {
           "colorbar": {
            "outlinewidth": 0,
            "ticks": ""
           }
          },
          "colorscale": {
           "diverging": [
            [
             0,
             "#8e0152"
            ],
            [
             0.1,
             "#c51b7d"
            ],
            [
             0.2,
             "#de77ae"
            ],
            [
             0.3,
             "#f1b6da"
            ],
            [
             0.4,
             "#fde0ef"
            ],
            [
             0.5,
             "#f7f7f7"
            ],
            [
             0.6,
             "#e6f5d0"
            ],
            [
             0.7,
             "#b8e186"
            ],
            [
             0.8,
             "#7fbc41"
            ],
            [
             0.9,
             "#4d9221"
            ],
            [
             1,
             "#276419"
            ]
           ],
           "sequential": [
            [
             0,
             "#0d0887"
            ],
            [
             0.1111111111111111,
             "#46039f"
            ],
            [
             0.2222222222222222,
             "#7201a8"
            ],
            [
             0.3333333333333333,
             "#9c179e"
            ],
            [
             0.4444444444444444,
             "#bd3786"
            ],
            [
             0.5555555555555556,
             "#d8576b"
            ],
            [
             0.6666666666666666,
             "#ed7953"
            ],
            [
             0.7777777777777778,
             "#fb9f3a"
            ],
            [
             0.8888888888888888,
             "#fdca26"
            ],
            [
             1,
             "#f0f921"
            ]
           ],
           "sequentialminus": [
            [
             0,
             "#0d0887"
            ],
            [
             0.1111111111111111,
             "#46039f"
            ],
            [
             0.2222222222222222,
             "#7201a8"
            ],
            [
             0.3333333333333333,
             "#9c179e"
            ],
            [
             0.4444444444444444,
             "#bd3786"
            ],
            [
             0.5555555555555556,
             "#d8576b"
            ],
            [
             0.6666666666666666,
             "#ed7953"
            ],
            [
             0.7777777777777778,
             "#fb9f3a"
            ],
            [
             0.8888888888888888,
             "#fdca26"
            ],
            [
             1,
             "#f0f921"
            ]
           ]
          },
          "colorway": [
           "#636efa",
           "#EF553B",
           "#00cc96",
           "#ab63fa",
           "#FFA15A",
           "#19d3f3",
           "#FF6692",
           "#B6E880",
           "#FF97FF",
           "#FECB52"
          ],
          "font": {
           "color": "#f2f5fa"
          },
          "geo": {
           "bgcolor": "rgb(17,17,17)",
           "lakecolor": "rgb(17,17,17)",
           "landcolor": "rgb(17,17,17)",
           "showlakes": true,
           "showland": true,
           "subunitcolor": "#506784"
          },
          "hoverlabel": {
           "align": "left"
          },
          "hovermode": "closest",
          "mapbox": {
           "style": "dark"
          },
          "paper_bgcolor": "rgb(17,17,17)",
          "plot_bgcolor": "rgb(17,17,17)",
          "polar": {
           "angularaxis": {
            "gridcolor": "#506784",
            "linecolor": "#506784",
            "ticks": ""
           },
           "bgcolor": "rgb(17,17,17)",
           "radialaxis": {
            "gridcolor": "#506784",
            "linecolor": "#506784",
            "ticks": ""
           }
          },
          "scene": {
           "xaxis": {
            "backgroundcolor": "rgb(17,17,17)",
            "gridcolor": "#506784",
            "gridwidth": 2,
            "linecolor": "#506784",
            "showbackground": true,
            "ticks": "",
            "zerolinecolor": "#C8D4E3"
           },
           "yaxis": {
            "backgroundcolor": "rgb(17,17,17)",
            "gridcolor": "#506784",
            "gridwidth": 2,
            "linecolor": "#506784",
            "showbackground": true,
            "ticks": "",
            "zerolinecolor": "#C8D4E3"
           },
           "zaxis": {
            "backgroundcolor": "rgb(17,17,17)",
            "gridcolor": "#506784",
            "gridwidth": 2,
            "linecolor": "#506784",
            "showbackground": true,
            "ticks": "",
            "zerolinecolor": "#C8D4E3"
           }
          },
          "shapedefaults": {
           "line": {
            "color": "#f2f5fa"
           }
          },
          "sliderdefaults": {
           "bgcolor": "#C8D4E3",
           "bordercolor": "rgb(17,17,17)",
           "borderwidth": 1,
           "tickwidth": 0
          },
          "ternary": {
           "aaxis": {
            "gridcolor": "#506784",
            "linecolor": "#506784",
            "ticks": ""
           },
           "baxis": {
            "gridcolor": "#506784",
            "linecolor": "#506784",
            "ticks": ""
           },
           "bgcolor": "rgb(17,17,17)",
           "caxis": {
            "gridcolor": "#506784",
            "linecolor": "#506784",
            "ticks": ""
           }
          },
          "title": {
           "x": 0.05
          },
          "updatemenudefaults": {
           "bgcolor": "#506784",
           "borderwidth": 0
          },
          "xaxis": {
           "automargin": true,
           "gridcolor": "#283442",
           "linecolor": "#506784",
           "ticks": "",
           "title": {
            "standoff": 15
           },
           "zerolinecolor": "#283442",
           "zerolinewidth": 2
          },
          "yaxis": {
           "automargin": true,
           "gridcolor": "#283442",
           "linecolor": "#506784",
           "ticks": "",
           "title": {
            "standoff": 15
           },
           "zerolinecolor": "#283442",
           "zerolinewidth": 2
          }
         }
        },
        "title": {
         "font": {
          "color": "blue",
          "family": "Comic Sans MS"
         }
        },
        "width": 800,
        "xaxis": {
         "anchor": "y",
         "domain": [
          0,
          1
         ],
         "showgrid": false,
         "title": {
          "text": "Periodo"
         }
        },
        "yaxis": {
         "anchor": "x",
         "domain": [
          0,
          1
         ],
         "gridcolor": "white",
         "griddash": "solid",
         "gridwidth": 1,
         "minor": {
          "griddash": "dot"
         },
         "showgrid": true,
         "title": {
          "text": "Ventas"
         }
        }
       }
      }
     },
     "metadata": {},
     "output_type": "display_data"
    }
   ],
   "source": [
    "fig = px.line(\n",
    "    df,\n",
    "    width=800, # ancho de la figura\n",
    "    height=400, # altura de la figura\n",
    "    template='plotly_dark' # plotly, plotly_white, plotly_dark, ggplot2, seaborn, simple_white, none\n",
    ")\n",
    "fig.update_layout(\n",
    "    xaxis_title='Periodo', # titulo del eje x\n",
    "    yaxis_title='Ventas', # titulo del eje y\n",
    "    font_color='#ff7f0e', # color de la fuente\n",
    "    font_family='Timers New Roman', # tipo de letra\n",
    "    legend_font_color='green', # color de la fuente de la leyenda\n",
    "    legend_title_font_color='red', # color de la fuente del titulo de la leyenda\n",
    "    title_font_color='blue', # color de la fuente del titulo\n",
    "    title_font_family='Comic Sans MS', # tipo de letra del titulo\n",
    "    # leyenda\n",
    "    legend_title_text='Tipo Producto',\n",
    "    legend={\n",
    "        'y':0.5,\n",
    "        'x':1.05,\n",
    "        'font':{\n",
    "            'family':'Arial',\n",
    "            'size':10,\n",
    "            'color':'green',\n",
    "        },\n",
    "        'bgcolor':'lightgrey',\n",
    "        'bordercolor':'black',\n",
    "        'borderwidth':2,\n",
    "    }\n",
    ")\n",
    "fig.update_xaxes(\n",
    "    showgrid= False,\n",
    ")\n",
    "fig.update_yaxes(\n",
    "    showgrid=True,\n",
    "    gridwidth=1,\n",
    "    gridcolor='white',\n",
    "    griddash='solid', # 'solid', 'dot', 'dash', 'longdash', 'dashdot', 'longdashdot'\n",
    "    minor_griddash='dot', # 'solid', 'dot', 'dash', 'longdash', 'dashdot', 'longdashdot'\n",
    "    \n",
    ")\n",
    "fig.show()"
   ]
  },
  {
   "cell_type": "code",
   "execution_count": 149,
   "id": "948923e7",
   "metadata": {},
   "outputs": [
    {
     "data": {
      "application/vnd.plotly.v1+json": {
       "config": {
        "plotlyServerURL": "https://plot.ly"
       },
       "data": [
        {
         "hovertemplate": "variable=DAIRY<br>fecha=%{x}<br>value=%{y}<extra></extra>",
         "legendgroup": "DAIRY",
         "line": {
          "color": "#636efa",
          "dash": "solid"
         },
         "marker": {
          "symbol": "circle"
         },
         "mode": "lines",
         "name": "DAIRY",
         "orientation": "v",
         "showlegend": true,
         "type": "scatter",
         "x": [
          "2015-01",
          "2015-02",
          "2015-03",
          "2015-04",
          "2015-05",
          "2015-06",
          "2015-07",
          "2015-08",
          "2015-09",
          "2015-10",
          "2015-11",
          "2015-12"
         ],
         "xaxis": "x",
         "y": {
          "bdata": "AAAAALlPMUEAAAAAliYvQQAAAACj1zJBAAAAAPwFMkEAAAAA/LszQQAAAADE+TJBAAAAAI/+MkEAAAAAREczQQAAAACrrzJBAAAAAAsQNEEAAAAAWJYzQQAAAACWRzVB",
          "dtype": "f8"
         },
         "yaxis": "y"
        },
        {
         "hovertemplate": "variable=MEATS<br>fecha=%{x}<br>value=%{y}<extra></extra>",
         "legendgroup": "MEATS",
         "line": {
          "color": "#EF553B",
          "dash": "solid"
         },
         "marker": {
          "symbol": "circle"
         },
         "mode": "lines",
         "name": "MEATS",
         "orientation": "v",
         "showlegend": true,
         "type": "scatter",
         "x": [
          "2015-01",
          "2015-02",
          "2015-03",
          "2015-04",
          "2015-05",
          "2015-06",
          "2015-07",
          "2015-08",
          "2015-09",
          "2015-10",
          "2015-11",
          "2015-12"
         ],
         "xaxis": "x",
         "y": {
          "bdata": "fzMxdRuTIEEA4q5OvHAeQThqhVGqrSBB6lp7HwHhH0FS76nMlw4iQZHyk0IsPiFBf/rPWq8nIkExtDpJvLwhQYAnLUQvLCFBILb0uGi5IUFkyRzbyVogQShgO8iqUCFB",
          "dtype": "f8"
         },
         "yaxis": "y"
        },
        {
         "hovertemplate": "variable=SEAFOOD<br>fecha=%{x}<br>value=%{y}<extra></extra>",
         "legendgroup": "SEAFOOD",
         "line": {
          "color": "#00cc96",
          "dash": "solid"
         },
         "marker": {
          "symbol": "circle"
         },
         "mode": "lines",
         "name": "SEAFOOD",
         "orientation": "v",
         "showlegend": true,
         "type": "scatter",
         "x": [
          "2015-01",
          "2015-02",
          "2015-03",
          "2015-04",
          "2015-05",
          "2015-06",
          "2015-07",
          "2015-08",
          "2015-09",
          "2015-10",
          "2015-11",
          "2015-12"
         ],
         "xaxis": "x",
         "y": {
          "bdata": "+RVruDrC40Av77vzUZzhQOK2bCMPZOVAu9VzEu+F40DZ692fWsHkQJiABKqR7+JAy7/x0PLQ4kCyEYiX8nDiQCw95PdLduRAyJ6Y0P455ED8KDRa+PTiQAza9dwIeOBA",
          "dtype": "f8"
         },
         "yaxis": "y"
        }
       ],
       "layout": {
        "annotations": [
         {
          "arrowhead": 3,
          "arrowsize": 1,
          "arrowwidth": 2,
          "font": {
           "color": "white",
           "size": 12
          },
          "opacity": 0.8,
          "showarrow": true,
          "text": "Noviembre",
          "x": "2015-03",
          "y": "1250000"
         },
         {
          "font": {
           "color": "violet",
           "size": 12
          },
          "showarrow": false,
          "text": "Linea Top",
          "x": 1,
          "xanchor": "right",
          "xref": "x domain",
          "y": 1250000,
          "yanchor": "bottom",
          "yref": "y"
         }
        ],
        "height": 400,
        "legend": {
         "title": {
          "text": "variable"
         },
         "tracegroupgap": 0
        },
        "margin": {
         "t": 60
        },
        "shapes": [
         {
          "line": {
           "color": "red",
           "dash": "dot",
           "width": 4
          },
          "opacity": 0.8,
          "type": "line",
          "x0": 0,
          "x1": 1,
          "xref": "x domain",
          "y0": 1250000,
          "y1": 1250000,
          "yref": "y"
         }
        ],
        "template": {
         "data": {
          "bar": [
           {
            "error_x": {
             "color": "#f2f5fa"
            },
            "error_y": {
             "color": "#f2f5fa"
            },
            "marker": {
             "line": {
              "color": "rgb(17,17,17)",
              "width": 0.5
             },
             "pattern": {
              "fillmode": "overlay",
              "size": 10,
              "solidity": 0.2
             }
            },
            "type": "bar"
           }
          ],
          "barpolar": [
           {
            "marker": {
             "line": {
              "color": "rgb(17,17,17)",
              "width": 0.5
             },
             "pattern": {
              "fillmode": "overlay",
              "size": 10,
              "solidity": 0.2
             }
            },
            "type": "barpolar"
           }
          ],
          "carpet": [
           {
            "aaxis": {
             "endlinecolor": "#A2B1C6",
             "gridcolor": "#506784",
             "linecolor": "#506784",
             "minorgridcolor": "#506784",
             "startlinecolor": "#A2B1C6"
            },
            "baxis": {
             "endlinecolor": "#A2B1C6",
             "gridcolor": "#506784",
             "linecolor": "#506784",
             "minorgridcolor": "#506784",
             "startlinecolor": "#A2B1C6"
            },
            "type": "carpet"
           }
          ],
          "choropleth": [
           {
            "colorbar": {
             "outlinewidth": 0,
             "ticks": ""
            },
            "type": "choropleth"
           }
          ],
          "contour": [
           {
            "colorbar": {
             "outlinewidth": 0,
             "ticks": ""
            },
            "colorscale": [
             [
              0,
              "#0d0887"
             ],
             [
              0.1111111111111111,
              "#46039f"
             ],
             [
              0.2222222222222222,
              "#7201a8"
             ],
             [
              0.3333333333333333,
              "#9c179e"
             ],
             [
              0.4444444444444444,
              "#bd3786"
             ],
             [
              0.5555555555555556,
              "#d8576b"
             ],
             [
              0.6666666666666666,
              "#ed7953"
             ],
             [
              0.7777777777777778,
              "#fb9f3a"
             ],
             [
              0.8888888888888888,
              "#fdca26"
             ],
             [
              1,
              "#f0f921"
             ]
            ],
            "type": "contour"
           }
          ],
          "contourcarpet": [
           {
            "colorbar": {
             "outlinewidth": 0,
             "ticks": ""
            },
            "type": "contourcarpet"
           }
          ],
          "heatmap": [
           {
            "colorbar": {
             "outlinewidth": 0,
             "ticks": ""
            },
            "colorscale": [
             [
              0,
              "#0d0887"
             ],
             [
              0.1111111111111111,
              "#46039f"
             ],
             [
              0.2222222222222222,
              "#7201a8"
             ],
             [
              0.3333333333333333,
              "#9c179e"
             ],
             [
              0.4444444444444444,
              "#bd3786"
             ],
             [
              0.5555555555555556,
              "#d8576b"
             ],
             [
              0.6666666666666666,
              "#ed7953"
             ],
             [
              0.7777777777777778,
              "#fb9f3a"
             ],
             [
              0.8888888888888888,
              "#fdca26"
             ],
             [
              1,
              "#f0f921"
             ]
            ],
            "type": "heatmap"
           }
          ],
          "histogram": [
           {
            "marker": {
             "pattern": {
              "fillmode": "overlay",
              "size": 10,
              "solidity": 0.2
             }
            },
            "type": "histogram"
           }
          ],
          "histogram2d": [
           {
            "colorbar": {
             "outlinewidth": 0,
             "ticks": ""
            },
            "colorscale": [
             [
              0,
              "#0d0887"
             ],
             [
              0.1111111111111111,
              "#46039f"
             ],
             [
              0.2222222222222222,
              "#7201a8"
             ],
             [
              0.3333333333333333,
              "#9c179e"
             ],
             [
              0.4444444444444444,
              "#bd3786"
             ],
             [
              0.5555555555555556,
              "#d8576b"
             ],
             [
              0.6666666666666666,
              "#ed7953"
             ],
             [
              0.7777777777777778,
              "#fb9f3a"
             ],
             [
              0.8888888888888888,
              "#fdca26"
             ],
             [
              1,
              "#f0f921"
             ]
            ],
            "type": "histogram2d"
           }
          ],
          "histogram2dcontour": [
           {
            "colorbar": {
             "outlinewidth": 0,
             "ticks": ""
            },
            "colorscale": [
             [
              0,
              "#0d0887"
             ],
             [
              0.1111111111111111,
              "#46039f"
             ],
             [
              0.2222222222222222,
              "#7201a8"
             ],
             [
              0.3333333333333333,
              "#9c179e"
             ],
             [
              0.4444444444444444,
              "#bd3786"
             ],
             [
              0.5555555555555556,
              "#d8576b"
             ],
             [
              0.6666666666666666,
              "#ed7953"
             ],
             [
              0.7777777777777778,
              "#fb9f3a"
             ],
             [
              0.8888888888888888,
              "#fdca26"
             ],
             [
              1,
              "#f0f921"
             ]
            ],
            "type": "histogram2dcontour"
           }
          ],
          "mesh3d": [
           {
            "colorbar": {
             "outlinewidth": 0,
             "ticks": ""
            },
            "type": "mesh3d"
           }
          ],
          "parcoords": [
           {
            "line": {
             "colorbar": {
              "outlinewidth": 0,
              "ticks": ""
             }
            },
            "type": "parcoords"
           }
          ],
          "pie": [
           {
            "automargin": true,
            "type": "pie"
           }
          ],
          "scatter": [
           {
            "marker": {
             "line": {
              "color": "#283442"
             }
            },
            "type": "scatter"
           }
          ],
          "scatter3d": [
           {
            "line": {
             "colorbar": {
              "outlinewidth": 0,
              "ticks": ""
             }
            },
            "marker": {
             "colorbar": {
              "outlinewidth": 0,
              "ticks": ""
             }
            },
            "type": "scatter3d"
           }
          ],
          "scattercarpet": [
           {
            "marker": {
             "colorbar": {
              "outlinewidth": 0,
              "ticks": ""
             }
            },
            "type": "scattercarpet"
           }
          ],
          "scattergeo": [
           {
            "marker": {
             "colorbar": {
              "outlinewidth": 0,
              "ticks": ""
             }
            },
            "type": "scattergeo"
           }
          ],
          "scattergl": [
           {
            "marker": {
             "line": {
              "color": "#283442"
             }
            },
            "type": "scattergl"
           }
          ],
          "scattermap": [
           {
            "marker": {
             "colorbar": {
              "outlinewidth": 0,
              "ticks": ""
             }
            },
            "type": "scattermap"
           }
          ],
          "scattermapbox": [
           {
            "marker": {
             "colorbar": {
              "outlinewidth": 0,
              "ticks": ""
             }
            },
            "type": "scattermapbox"
           }
          ],
          "scatterpolar": [
           {
            "marker": {
             "colorbar": {
              "outlinewidth": 0,
              "ticks": ""
             }
            },
            "type": "scatterpolar"
           }
          ],
          "scatterpolargl": [
           {
            "marker": {
             "colorbar": {
              "outlinewidth": 0,
              "ticks": ""
             }
            },
            "type": "scatterpolargl"
           }
          ],
          "scatterternary": [
           {
            "marker": {
             "colorbar": {
              "outlinewidth": 0,
              "ticks": ""
             }
            },
            "type": "scatterternary"
           }
          ],
          "surface": [
           {
            "colorbar": {
             "outlinewidth": 0,
             "ticks": ""
            },
            "colorscale": [
             [
              0,
              "#0d0887"
             ],
             [
              0.1111111111111111,
              "#46039f"
             ],
             [
              0.2222222222222222,
              "#7201a8"
             ],
             [
              0.3333333333333333,
              "#9c179e"
             ],
             [
              0.4444444444444444,
              "#bd3786"
             ],
             [
              0.5555555555555556,
              "#d8576b"
             ],
             [
              0.6666666666666666,
              "#ed7953"
             ],
             [
              0.7777777777777778,
              "#fb9f3a"
             ],
             [
              0.8888888888888888,
              "#fdca26"
             ],
             [
              1,
              "#f0f921"
             ]
            ],
            "type": "surface"
           }
          ],
          "table": [
           {
            "cells": {
             "fill": {
              "color": "#506784"
             },
             "line": {
              "color": "rgb(17,17,17)"
             }
            },
            "header": {
             "fill": {
              "color": "#2a3f5f"
             },
             "line": {
              "color": "rgb(17,17,17)"
             }
            },
            "type": "table"
           }
          ]
         },
         "layout": {
          "annotationdefaults": {
           "arrowcolor": "#f2f5fa",
           "arrowhead": 0,
           "arrowwidth": 1
          },
          "autotypenumbers": "strict",
          "coloraxis": {
           "colorbar": {
            "outlinewidth": 0,
            "ticks": ""
           }
          },
          "colorscale": {
           "diverging": [
            [
             0,
             "#8e0152"
            ],
            [
             0.1,
             "#c51b7d"
            ],
            [
             0.2,
             "#de77ae"
            ],
            [
             0.3,
             "#f1b6da"
            ],
            [
             0.4,
             "#fde0ef"
            ],
            [
             0.5,
             "#f7f7f7"
            ],
            [
             0.6,
             "#e6f5d0"
            ],
            [
             0.7,
             "#b8e186"
            ],
            [
             0.8,
             "#7fbc41"
            ],
            [
             0.9,
             "#4d9221"
            ],
            [
             1,
             "#276419"
            ]
           ],
           "sequential": [
            [
             0,
             "#0d0887"
            ],
            [
             0.1111111111111111,
             "#46039f"
            ],
            [
             0.2222222222222222,
             "#7201a8"
            ],
            [
             0.3333333333333333,
             "#9c179e"
            ],
            [
             0.4444444444444444,
             "#bd3786"
            ],
            [
             0.5555555555555556,
             "#d8576b"
            ],
            [
             0.6666666666666666,
             "#ed7953"
            ],
            [
             0.7777777777777778,
             "#fb9f3a"
            ],
            [
             0.8888888888888888,
             "#fdca26"
            ],
            [
             1,
             "#f0f921"
            ]
           ],
           "sequentialminus": [
            [
             0,
             "#0d0887"
            ],
            [
             0.1111111111111111,
             "#46039f"
            ],
            [
             0.2222222222222222,
             "#7201a8"
            ],
            [
             0.3333333333333333,
             "#9c179e"
            ],
            [
             0.4444444444444444,
             "#bd3786"
            ],
            [
             0.5555555555555556,
             "#d8576b"
            ],
            [
             0.6666666666666666,
             "#ed7953"
            ],
            [
             0.7777777777777778,
             "#fb9f3a"
            ],
            [
             0.8888888888888888,
             "#fdca26"
            ],
            [
             1,
             "#f0f921"
            ]
           ]
          },
          "colorway": [
           "#636efa",
           "#EF553B",
           "#00cc96",
           "#ab63fa",
           "#FFA15A",
           "#19d3f3",
           "#FF6692",
           "#B6E880",
           "#FF97FF",
           "#FECB52"
          ],
          "font": {
           "color": "#f2f5fa"
          },
          "geo": {
           "bgcolor": "rgb(17,17,17)",
           "lakecolor": "rgb(17,17,17)",
           "landcolor": "rgb(17,17,17)",
           "showlakes": true,
           "showland": true,
           "subunitcolor": "#506784"
          },
          "hoverlabel": {
           "align": "left"
          },
          "hovermode": "closest",
          "mapbox": {
           "style": "dark"
          },
          "paper_bgcolor": "rgb(17,17,17)",
          "plot_bgcolor": "rgb(17,17,17)",
          "polar": {
           "angularaxis": {
            "gridcolor": "#506784",
            "linecolor": "#506784",
            "ticks": ""
           },
           "bgcolor": "rgb(17,17,17)",
           "radialaxis": {
            "gridcolor": "#506784",
            "linecolor": "#506784",
            "ticks": ""
           }
          },
          "scene": {
           "xaxis": {
            "backgroundcolor": "rgb(17,17,17)",
            "gridcolor": "#506784",
            "gridwidth": 2,
            "linecolor": "#506784",
            "showbackground": true,
            "ticks": "",
            "zerolinecolor": "#C8D4E3"
           },
           "yaxis": {
            "backgroundcolor": "rgb(17,17,17)",
            "gridcolor": "#506784",
            "gridwidth": 2,
            "linecolor": "#506784",
            "showbackground": true,
            "ticks": "",
            "zerolinecolor": "#C8D4E3"
           },
           "zaxis": {
            "backgroundcolor": "rgb(17,17,17)",
            "gridcolor": "#506784",
            "gridwidth": 2,
            "linecolor": "#506784",
            "showbackground": true,
            "ticks": "",
            "zerolinecolor": "#C8D4E3"
           }
          },
          "shapedefaults": {
           "line": {
            "color": "#f2f5fa"
           }
          },
          "sliderdefaults": {
           "bgcolor": "#C8D4E3",
           "bordercolor": "rgb(17,17,17)",
           "borderwidth": 1,
           "tickwidth": 0
          },
          "ternary": {
           "aaxis": {
            "gridcolor": "#506784",
            "linecolor": "#506784",
            "ticks": ""
           },
           "baxis": {
            "gridcolor": "#506784",
            "linecolor": "#506784",
            "ticks": ""
           },
           "bgcolor": "rgb(17,17,17)",
           "caxis": {
            "gridcolor": "#506784",
            "linecolor": "#506784",
            "ticks": ""
           }
          },
          "title": {
           "x": 0.05
          },
          "updatemenudefaults": {
           "bgcolor": "#506784",
           "borderwidth": 0
          },
          "xaxis": {
           "automargin": true,
           "gridcolor": "#283442",
           "linecolor": "#506784",
           "ticks": "",
           "title": {
            "standoff": 15
           },
           "zerolinecolor": "#283442",
           "zerolinewidth": 2
          },
          "yaxis": {
           "automargin": true,
           "gridcolor": "#283442",
           "linecolor": "#506784",
           "ticks": "",
           "title": {
            "standoff": 15
           },
           "zerolinecolor": "#283442",
           "zerolinewidth": 2
          }
         }
        },
        "width": 800,
        "xaxis": {
         "anchor": "y",
         "domain": [
          0,
          1
         ],
         "title": {
          "text": "fecha"
         }
        },
        "yaxis": {
         "anchor": "x",
         "domain": [
          0,
          1
         ],
         "title": {
          "text": "value"
         }
        }
       }
      }
     },
     "metadata": {},
     "output_type": "display_data"
    }
   ],
   "source": [
    "fig = px.line(\n",
    "    df,\n",
    "    width=800, # ancho de la figura\n",
    "    height=400, # altura de la figura\n",
    "    template='plotly_dark' # plotly, plotly_white, plotly_dark, ggplot2, seaborn, simple_white, none\n",
    ")\n",
    "fig.add_annotation(\n",
    "    x='2015-03',\n",
    "    y='1250000',\n",
    "    text='Noviembre',\n",
    "    opacity=0.8,\n",
    "    font={\n",
    "        'size':12,\n",
    "        'color':'white',\n",
    "    },\n",
    "    showarrow=True,\n",
    "    arrowsize=1,\n",
    "    arrowwidth=2,\n",
    "    arrowhead=3, # 0 al 8\n",
    ")\n",
    "fig.add_hline(\n",
    "    y=1250000,\n",
    "    annotation_text='Linea Top',\n",
    "    annotation_position='top right', # 'top left', 'top right', 'bottom left', 'bottom right'\n",
    "    annotation_font_color='violet',\n",
    "    annotation_font_size=12,\n",
    "    line_dash='dot', # 'solid', 'dot', 'dash', 'longdash', 'dashdot', 'longdashdot'\n",
    "    opacity=0.8,\n",
    "    line_width=4,\n",
    "    line_color='red'\n",
    ")\n",
    "fig.show()"
   ]
  },
  {
   "cell_type": "code",
   "execution_count": 98,
   "id": "969d9434",
   "metadata": {},
   "outputs": [
    {
     "data": {
      "application/vnd.plotly.v1+json": {
       "config": {
        "plotlyServerURL": "https://plot.ly"
       },
       "data": [
        {
         "hovertemplate": "productos=DAIRY<br>periodo=%{x}<br>ventas=%{y}<extra></extra>",
         "legendgroup": "DAIRY",
         "line": {
          "color": "#F8766D",
          "dash": "solid"
         },
         "marker": {
          "symbol": "circle"
         },
         "mode": "lines",
         "name": "DAIRY",
         "orientation": "v",
         "showlegend": true,
         "type": "scatter",
         "x": [
          "2015-01",
          "2015-02",
          "2015-03",
          "2015-04",
          "2015-05",
          "2015-06",
          "2015-07",
          "2015-08",
          "2015-09",
          "2015-10",
          "2015-11",
          "2015-12"
         ],
         "xaxis": "x",
         "y": {
          "bdata": "AAAAALlPMUEAAAAAliYvQQAAAACj1zJBAAAAAPwFMkEAAAAA/LszQQAAAADE+TJBAAAAAI/+MkEAAAAAREczQQAAAACrrzJBAAAAAAsQNEEAAAAAWJYzQQAAAACWRzVB",
          "dtype": "f8"
         },
         "yaxis": "y"
        },
        {
         "hovertemplate": "productos=MEATS<br>periodo=%{x}<br>ventas=%{y}<extra></extra>",
         "legendgroup": "MEATS",
         "line": {
          "color": "#A3A500",
          "dash": "solid"
         },
         "marker": {
          "symbol": "circle"
         },
         "mode": "lines",
         "name": "MEATS",
         "orientation": "v",
         "showlegend": true,
         "type": "scatter",
         "x": [
          "2015-01",
          "2015-02",
          "2015-03",
          "2015-04",
          "2015-05",
          "2015-06",
          "2015-07",
          "2015-08",
          "2015-09",
          "2015-10",
          "2015-11",
          "2015-12"
         ],
         "xaxis": "x",
         "y": {
          "bdata": "fzMxdRuTIEEA4q5OvHAeQThqhVGqrSBB6lp7HwHhH0FS76nMlw4iQZHyk0IsPiFBf/rPWq8nIkExtDpJvLwhQYAnLUQvLCFBILb0uGi5IUFkyRzbyVogQShgO8iqUCFB",
          "dtype": "f8"
         },
         "yaxis": "y"
        },
        {
         "hovertemplate": "productos=SEAFOOD<br>periodo=%{x}<br>ventas=%{y}<extra></extra>",
         "legendgroup": "SEAFOOD",
         "line": {
          "color": "#00BF7D",
          "dash": "solid"
         },
         "marker": {
          "symbol": "circle"
         },
         "mode": "lines",
         "name": "SEAFOOD",
         "orientation": "v",
         "showlegend": true,
         "type": "scatter",
         "x": [
          "2015-01",
          "2015-02",
          "2015-03",
          "2015-04",
          "2015-05",
          "2015-06",
          "2015-07",
          "2015-08",
          "2015-09",
          "2015-10",
          "2015-11",
          "2015-12"
         ],
         "xaxis": "x",
         "y": {
          "bdata": "+RVruDrC40Av77vzUZzhQOK2bCMPZOVAu9VzEu+F40DZ692fWsHkQJiABKqR7+JAy7/x0PLQ4kCyEYiX8nDiQCw95PdLduRAyJ6Y0P455ED8KDRa+PTiQAza9dwIeOBA",
          "dtype": "f8"
         },
         "yaxis": "y"
        }
       ],
       "layout": {
        "height": 400,
        "legend": {
         "title": {
          "text": "productos"
         },
         "tracegroupgap": 0
        },
        "template": {
         "data": {
          "bar": [
           {
            "error_x": {
             "color": "rgb(51,51,51)"
            },
            "error_y": {
             "color": "rgb(51,51,51)"
            },
            "marker": {
             "line": {
              "color": "rgb(237,237,237)",
              "width": 0.5
             },
             "pattern": {
              "fillmode": "overlay",
              "size": 10,
              "solidity": 0.2
             }
            },
            "type": "bar"
           }
          ],
          "barpolar": [
           {
            "marker": {
             "line": {
              "color": "rgb(237,237,237)",
              "width": 0.5
             },
             "pattern": {
              "fillmode": "overlay",
              "size": 10,
              "solidity": 0.2
             }
            },
            "type": "barpolar"
           }
          ],
          "carpet": [
           {
            "aaxis": {
             "endlinecolor": "rgb(51,51,51)",
             "gridcolor": "white",
             "linecolor": "white",
             "minorgridcolor": "white",
             "startlinecolor": "rgb(51,51,51)"
            },
            "baxis": {
             "endlinecolor": "rgb(51,51,51)",
             "gridcolor": "white",
             "linecolor": "white",
             "minorgridcolor": "white",
             "startlinecolor": "rgb(51,51,51)"
            },
            "type": "carpet"
           }
          ],
          "choropleth": [
           {
            "colorbar": {
             "outlinewidth": 0,
             "tickcolor": "rgb(237,237,237)",
             "ticklen": 6,
             "ticks": "inside"
            },
            "type": "choropleth"
           }
          ],
          "contour": [
           {
            "colorbar": {
             "outlinewidth": 0,
             "tickcolor": "rgb(237,237,237)",
             "ticklen": 6,
             "ticks": "inside"
            },
            "colorscale": [
             [
              0,
              "rgb(20,44,66)"
             ],
             [
              1,
              "rgb(90,179,244)"
             ]
            ],
            "type": "contour"
           }
          ],
          "contourcarpet": [
           {
            "colorbar": {
             "outlinewidth": 0,
             "tickcolor": "rgb(237,237,237)",
             "ticklen": 6,
             "ticks": "inside"
            },
            "type": "contourcarpet"
           }
          ],
          "heatmap": [
           {
            "colorbar": {
             "outlinewidth": 0,
             "tickcolor": "rgb(237,237,237)",
             "ticklen": 6,
             "ticks": "inside"
            },
            "colorscale": [
             [
              0,
              "rgb(20,44,66)"
             ],
             [
              1,
              "rgb(90,179,244)"
             ]
            ],
            "type": "heatmap"
           }
          ],
          "histogram": [
           {
            "marker": {
             "pattern": {
              "fillmode": "overlay",
              "size": 10,
              "solidity": 0.2
             }
            },
            "type": "histogram"
           }
          ],
          "histogram2d": [
           {
            "colorbar": {
             "outlinewidth": 0,
             "tickcolor": "rgb(237,237,237)",
             "ticklen": 6,
             "ticks": "inside"
            },
            "colorscale": [
             [
              0,
              "rgb(20,44,66)"
             ],
             [
              1,
              "rgb(90,179,244)"
             ]
            ],
            "type": "histogram2d"
           }
          ],
          "histogram2dcontour": [
           {
            "colorbar": {
             "outlinewidth": 0,
             "tickcolor": "rgb(237,237,237)",
             "ticklen": 6,
             "ticks": "inside"
            },
            "colorscale": [
             [
              0,
              "rgb(20,44,66)"
             ],
             [
              1,
              "rgb(90,179,244)"
             ]
            ],
            "type": "histogram2dcontour"
           }
          ],
          "mesh3d": [
           {
            "colorbar": {
             "outlinewidth": 0,
             "tickcolor": "rgb(237,237,237)",
             "ticklen": 6,
             "ticks": "inside"
            },
            "type": "mesh3d"
           }
          ],
          "parcoords": [
           {
            "line": {
             "colorbar": {
              "outlinewidth": 0,
              "tickcolor": "rgb(237,237,237)",
              "ticklen": 6,
              "ticks": "inside"
             }
            },
            "type": "parcoords"
           }
          ],
          "pie": [
           {
            "automargin": true,
            "type": "pie"
           }
          ],
          "scatter": [
           {
            "fillpattern": {
             "fillmode": "overlay",
             "size": 10,
             "solidity": 0.2
            },
            "type": "scatter"
           }
          ],
          "scatter3d": [
           {
            "line": {
             "colorbar": {
              "outlinewidth": 0,
              "tickcolor": "rgb(237,237,237)",
              "ticklen": 6,
              "ticks": "inside"
             }
            },
            "marker": {
             "colorbar": {
              "outlinewidth": 0,
              "tickcolor": "rgb(237,237,237)",
              "ticklen": 6,
              "ticks": "inside"
             }
            },
            "type": "scatter3d"
           }
          ],
          "scattercarpet": [
           {
            "marker": {
             "colorbar": {
              "outlinewidth": 0,
              "tickcolor": "rgb(237,237,237)",
              "ticklen": 6,
              "ticks": "inside"
             }
            },
            "type": "scattercarpet"
           }
          ],
          "scattergeo": [
           {
            "marker": {
             "colorbar": {
              "outlinewidth": 0,
              "tickcolor": "rgb(237,237,237)",
              "ticklen": 6,
              "ticks": "inside"
             }
            },
            "type": "scattergeo"
           }
          ],
          "scattergl": [
           {
            "marker": {
             "colorbar": {
              "outlinewidth": 0,
              "tickcolor": "rgb(237,237,237)",
              "ticklen": 6,
              "ticks": "inside"
             }
            },
            "type": "scattergl"
           }
          ],
          "scattermap": [
           {
            "marker": {
             "colorbar": {
              "outlinewidth": 0,
              "tickcolor": "rgb(237,237,237)",
              "ticklen": 6,
              "ticks": "inside"
             }
            },
            "type": "scattermap"
           }
          ],
          "scattermapbox": [
           {
            "marker": {
             "colorbar": {
              "outlinewidth": 0,
              "tickcolor": "rgb(237,237,237)",
              "ticklen": 6,
              "ticks": "inside"
             }
            },
            "type": "scattermapbox"
           }
          ],
          "scatterpolar": [
           {
            "marker": {
             "colorbar": {
              "outlinewidth": 0,
              "tickcolor": "rgb(237,237,237)",
              "ticklen": 6,
              "ticks": "inside"
             }
            },
            "type": "scatterpolar"
           }
          ],
          "scatterpolargl": [
           {
            "marker": {
             "colorbar": {
              "outlinewidth": 0,
              "tickcolor": "rgb(237,237,237)",
              "ticklen": 6,
              "ticks": "inside"
             }
            },
            "type": "scatterpolargl"
           }
          ],
          "scatterternary": [
           {
            "marker": {
             "colorbar": {
              "outlinewidth": 0,
              "tickcolor": "rgb(237,237,237)",
              "ticklen": 6,
              "ticks": "inside"
             }
            },
            "type": "scatterternary"
           }
          ],
          "surface": [
           {
            "colorbar": {
             "outlinewidth": 0,
             "tickcolor": "rgb(237,237,237)",
             "ticklen": 6,
             "ticks": "inside"
            },
            "colorscale": [
             [
              0,
              "rgb(20,44,66)"
             ],
             [
              1,
              "rgb(90,179,244)"
             ]
            ],
            "type": "surface"
           }
          ],
          "table": [
           {
            "cells": {
             "fill": {
              "color": "rgb(237,237,237)"
             },
             "line": {
              "color": "white"
             }
            },
            "header": {
             "fill": {
              "color": "rgb(217,217,217)"
             },
             "line": {
              "color": "white"
             }
            },
            "type": "table"
           }
          ]
         },
         "layout": {
          "annotationdefaults": {
           "arrowhead": 0,
           "arrowwidth": 1
          },
          "autotypenumbers": "strict",
          "coloraxis": {
           "colorbar": {
            "outlinewidth": 0,
            "tickcolor": "rgb(237,237,237)",
            "ticklen": 6,
            "ticks": "inside"
           }
          },
          "colorscale": {
           "sequential": [
            [
             0,
             "rgb(20,44,66)"
            ],
            [
             1,
             "rgb(90,179,244)"
            ]
           ],
           "sequentialminus": [
            [
             0,
             "rgb(20,44,66)"
            ],
            [
             1,
             "rgb(90,179,244)"
            ]
           ]
          },
          "colorway": [
           "#F8766D",
           "#A3A500",
           "#00BF7D",
           "#00B0F6",
           "#E76BF3"
          ],
          "font": {
           "color": "rgb(51,51,51)"
          },
          "geo": {
           "bgcolor": "white",
           "lakecolor": "white",
           "landcolor": "rgb(237,237,237)",
           "showlakes": true,
           "showland": true,
           "subunitcolor": "white"
          },
          "hoverlabel": {
           "align": "left"
          },
          "hovermode": "closest",
          "paper_bgcolor": "white",
          "plot_bgcolor": "rgb(237,237,237)",
          "polar": {
           "angularaxis": {
            "gridcolor": "white",
            "linecolor": "white",
            "showgrid": true,
            "tickcolor": "rgb(51,51,51)",
            "ticks": "outside"
           },
           "bgcolor": "rgb(237,237,237)",
           "radialaxis": {
            "gridcolor": "white",
            "linecolor": "white",
            "showgrid": true,
            "tickcolor": "rgb(51,51,51)",
            "ticks": "outside"
           }
          },
          "scene": {
           "xaxis": {
            "backgroundcolor": "rgb(237,237,237)",
            "gridcolor": "white",
            "gridwidth": 2,
            "linecolor": "white",
            "showbackground": true,
            "showgrid": true,
            "tickcolor": "rgb(51,51,51)",
            "ticks": "outside",
            "zerolinecolor": "white"
           },
           "yaxis": {
            "backgroundcolor": "rgb(237,237,237)",
            "gridcolor": "white",
            "gridwidth": 2,
            "linecolor": "white",
            "showbackground": true,
            "showgrid": true,
            "tickcolor": "rgb(51,51,51)",
            "ticks": "outside",
            "zerolinecolor": "white"
           },
           "zaxis": {
            "backgroundcolor": "rgb(237,237,237)",
            "gridcolor": "white",
            "gridwidth": 2,
            "linecolor": "white",
            "showbackground": true,
            "showgrid": true,
            "tickcolor": "rgb(51,51,51)",
            "ticks": "outside",
            "zerolinecolor": "white"
           }
          },
          "shapedefaults": {
           "fillcolor": "black",
           "line": {
            "width": 0
           },
           "opacity": 0.3
          },
          "ternary": {
           "aaxis": {
            "gridcolor": "white",
            "linecolor": "white",
            "showgrid": true,
            "tickcolor": "rgb(51,51,51)",
            "ticks": "outside"
           },
           "baxis": {
            "gridcolor": "white",
            "linecolor": "white",
            "showgrid": true,
            "tickcolor": "rgb(51,51,51)",
            "ticks": "outside"
           },
           "bgcolor": "rgb(237,237,237)",
           "caxis": {
            "gridcolor": "white",
            "linecolor": "white",
            "showgrid": true,
            "tickcolor": "rgb(51,51,51)",
            "ticks": "outside"
           }
          },
          "xaxis": {
           "automargin": true,
           "gridcolor": "white",
           "linecolor": "white",
           "showgrid": true,
           "tickcolor": "rgb(51,51,51)",
           "ticks": "outside",
           "title": {
            "standoff": 15
           },
           "zerolinecolor": "white"
          },
          "yaxis": {
           "automargin": true,
           "gridcolor": "white",
           "linecolor": "white",
           "showgrid": true,
           "tickcolor": "rgb(51,51,51)",
           "ticks": "outside",
           "title": {
            "standoff": 15
           },
           "zerolinecolor": "white"
          }
         }
        },
        "title": {
         "text": "Ventas de 2015"
        },
        "width": 800,
        "xaxis": {
         "anchor": "y",
         "domain": [
          0,
          1
         ],
         "tickangle": 45,
         "tickfont": {
          "color": "#ff7f0e",
          "family": "Arial",
          "size": 10
         },
         "tickmode": "array",
         "tickvals": [
          "2015-01",
          "2015-02",
          "2015-03",
          "2015-04",
          "2015-05",
          "2015-06",
          "2015-07",
          "2015-08",
          "2015-09",
          "2015-10",
          "2015-11",
          "2015-12"
         ],
         "title": {
          "font": {
           "color": "green",
           "family": "Arial",
           "size": 18
          },
          "text": "periodo"
         }
        },
        "yaxis": {
         "anchor": "x",
         "domain": [
          0,
          1
         ],
         "nticks": 20,
         "title": {
          "text": "ventas"
         }
        }
       }
      }
     },
     "metadata": {},
     "output_type": "display_data"
    }
   ],
   "source": [
    "fig = px.line(\n",
    "    df,\n",
    "    width=800, # ancho de la figura\n",
    "    height=400, # altura de la figura\n",
    "    template='ggplot2', # plotly, plotly_white, plotly_dark, ggplot2, seaborn, simple_white, none\n",
    "    title='Ventas de 2015',\n",
    "    labels={'fecha':'periodo','value':'ventas','variable':'productos'}\n",
    ")\n",
    "\"\"\"\n",
    "fig.update_layout(\n",
    "    xaxis_title='Mi Periodo',\n",
    "    yaxis_title='Mis Ventas',\n",
    ")\n",
    "\"\"\"\n",
    "fig.update_xaxes(\n",
    "    tickangle=45,\n",
    "    tickvals=df.index.values, # se pueden dar saltos al colocar [::2] o cambiar el 1 por 2,3,4 etc\n",
    "    tickmode='array',\n",
    "    title_font_family='Arial',\n",
    "    title_font_color='green',\n",
    "    title_font_size=18,\n",
    "    tickfont={\n",
    "        'family':'Arial',\n",
    "        'color':'#ff7f0e',\n",
    "        'size':10,\n",
    "    }\n",
    ")\n",
    "fig.update_yaxes(\n",
    "    nticks=20, # numero de niveles del eje equidistantes\n",
    "    # tickvals=[500000,1000000],\n",
    "    # dticks=500000, # distancia entre niveles del eje\n",
    "    # tickformat=',.0f', # formato de los numeros del eje\n",
    ")\n",
    "fig.show()"
   ]
  },
  {
   "cell_type": "code",
   "execution_count": 195,
   "id": "edc6d92c",
   "metadata": {},
   "outputs": [],
   "source": [
    "import plotly.graph_objects as go\n",
    "from plotly.subplots import make_subplots"
   ]
  },
  {
   "cell_type": "code",
   "execution_count": 200,
   "id": "bb880217",
   "metadata": {},
   "outputs": [
    {
     "data": {
      "application/vnd.plotly.v1+json": {
       "config": {
        "plotlyServerURL": "https://plot.ly"
       },
       "data": [
        {
         "name": "Lacteos",
         "type": "scatter",
         "x": [
          "2015-01",
          "2015-02",
          "2015-03",
          "2015-04",
          "2015-05",
          "2015-06",
          "2015-07",
          "2015-08",
          "2015-09",
          "2015-10",
          "2015-11",
          "2015-12"
         ],
         "xaxis": "x",
         "y": {
          "bdata": "AAAAALlPMUEAAAAAliYvQQAAAACj1zJBAAAAAPwFMkEAAAAA/LszQQAAAADE+TJBAAAAAI/+MkEAAAAAREczQQAAAACrrzJBAAAAAAsQNEEAAAAAWJYzQQAAAACWRzVB",
          "dtype": "f8"
         },
         "yaxis": "y"
        },
        {
         "name": "Carnes",
         "type": "scatter",
         "x": [
          "2015-01",
          "2015-02",
          "2015-03",
          "2015-04",
          "2015-05",
          "2015-06",
          "2015-07",
          "2015-08",
          "2015-09",
          "2015-10",
          "2015-11",
          "2015-12"
         ],
         "xaxis": "x2",
         "y": {
          "bdata": "fzMxdRuTIEEA4q5OvHAeQThqhVGqrSBB6lp7HwHhH0FS76nMlw4iQZHyk0IsPiFBf/rPWq8nIkExtDpJvLwhQYAnLUQvLCFBILb0uGi5IUFkyRzbyVogQShgO8iqUCFB",
          "dtype": "f8"
         },
         "yaxis": "y2"
        },
        {
         "name": "Mariscos",
         "type": "scatter",
         "x": [
          "2015-01",
          "2015-02",
          "2015-03",
          "2015-04",
          "2015-05",
          "2015-06",
          "2015-07",
          "2015-08",
          "2015-09",
          "2015-10",
          "2015-11",
          "2015-12"
         ],
         "xaxis": "x3",
         "y": {
          "bdata": "+RVruDrC40Av77vzUZzhQOK2bCMPZOVAu9VzEu+F40DZ692fWsHkQJiABKqR7+JAy7/x0PLQ4kCyEYiX8nDiQCw95PdLduRAyJ6Y0P455ED8KDRa+PTiQAza9dwIeOBA",
          "dtype": "f8"
         },
         "yaxis": "y3"
        }
       ],
       "layout": {
        "height": 600,
        "template": {
         "data": {
          "bar": [
           {
            "error_x": {
             "color": "#2a3f5f"
            },
            "error_y": {
             "color": "#2a3f5f"
            },
            "marker": {
             "line": {
              "color": "#E5ECF6",
              "width": 0.5
             },
             "pattern": {
              "fillmode": "overlay",
              "size": 10,
              "solidity": 0.2
             }
            },
            "type": "bar"
           }
          ],
          "barpolar": [
           {
            "marker": {
             "line": {
              "color": "#E5ECF6",
              "width": 0.5
             },
             "pattern": {
              "fillmode": "overlay",
              "size": 10,
              "solidity": 0.2
             }
            },
            "type": "barpolar"
           }
          ],
          "carpet": [
           {
            "aaxis": {
             "endlinecolor": "#2a3f5f",
             "gridcolor": "white",
             "linecolor": "white",
             "minorgridcolor": "white",
             "startlinecolor": "#2a3f5f"
            },
            "baxis": {
             "endlinecolor": "#2a3f5f",
             "gridcolor": "white",
             "linecolor": "white",
             "minorgridcolor": "white",
             "startlinecolor": "#2a3f5f"
            },
            "type": "carpet"
           }
          ],
          "choropleth": [
           {
            "colorbar": {
             "outlinewidth": 0,
             "ticks": ""
            },
            "type": "choropleth"
           }
          ],
          "contour": [
           {
            "colorbar": {
             "outlinewidth": 0,
             "ticks": ""
            },
            "colorscale": [
             [
              0,
              "#0d0887"
             ],
             [
              0.1111111111111111,
              "#46039f"
             ],
             [
              0.2222222222222222,
              "#7201a8"
             ],
             [
              0.3333333333333333,
              "#9c179e"
             ],
             [
              0.4444444444444444,
              "#bd3786"
             ],
             [
              0.5555555555555556,
              "#d8576b"
             ],
             [
              0.6666666666666666,
              "#ed7953"
             ],
             [
              0.7777777777777778,
              "#fb9f3a"
             ],
             [
              0.8888888888888888,
              "#fdca26"
             ],
             [
              1,
              "#f0f921"
             ]
            ],
            "type": "contour"
           }
          ],
          "contourcarpet": [
           {
            "colorbar": {
             "outlinewidth": 0,
             "ticks": ""
            },
            "type": "contourcarpet"
           }
          ],
          "heatmap": [
           {
            "colorbar": {
             "outlinewidth": 0,
             "ticks": ""
            },
            "colorscale": [
             [
              0,
              "#0d0887"
             ],
             [
              0.1111111111111111,
              "#46039f"
             ],
             [
              0.2222222222222222,
              "#7201a8"
             ],
             [
              0.3333333333333333,
              "#9c179e"
             ],
             [
              0.4444444444444444,
              "#bd3786"
             ],
             [
              0.5555555555555556,
              "#d8576b"
             ],
             [
              0.6666666666666666,
              "#ed7953"
             ],
             [
              0.7777777777777778,
              "#fb9f3a"
             ],
             [
              0.8888888888888888,
              "#fdca26"
             ],
             [
              1,
              "#f0f921"
             ]
            ],
            "type": "heatmap"
           }
          ],
          "histogram": [
           {
            "marker": {
             "pattern": {
              "fillmode": "overlay",
              "size": 10,
              "solidity": 0.2
             }
            },
            "type": "histogram"
           }
          ],
          "histogram2d": [
           {
            "colorbar": {
             "outlinewidth": 0,
             "ticks": ""
            },
            "colorscale": [
             [
              0,
              "#0d0887"
             ],
             [
              0.1111111111111111,
              "#46039f"
             ],
             [
              0.2222222222222222,
              "#7201a8"
             ],
             [
              0.3333333333333333,
              "#9c179e"
             ],
             [
              0.4444444444444444,
              "#bd3786"
             ],
             [
              0.5555555555555556,
              "#d8576b"
             ],
             [
              0.6666666666666666,
              "#ed7953"
             ],
             [
              0.7777777777777778,
              "#fb9f3a"
             ],
             [
              0.8888888888888888,
              "#fdca26"
             ],
             [
              1,
              "#f0f921"
             ]
            ],
            "type": "histogram2d"
           }
          ],
          "histogram2dcontour": [
           {
            "colorbar": {
             "outlinewidth": 0,
             "ticks": ""
            },
            "colorscale": [
             [
              0,
              "#0d0887"
             ],
             [
              0.1111111111111111,
              "#46039f"
             ],
             [
              0.2222222222222222,
              "#7201a8"
             ],
             [
              0.3333333333333333,
              "#9c179e"
             ],
             [
              0.4444444444444444,
              "#bd3786"
             ],
             [
              0.5555555555555556,
              "#d8576b"
             ],
             [
              0.6666666666666666,
              "#ed7953"
             ],
             [
              0.7777777777777778,
              "#fb9f3a"
             ],
             [
              0.8888888888888888,
              "#fdca26"
             ],
             [
              1,
              "#f0f921"
             ]
            ],
            "type": "histogram2dcontour"
           }
          ],
          "mesh3d": [
           {
            "colorbar": {
             "outlinewidth": 0,
             "ticks": ""
            },
            "type": "mesh3d"
           }
          ],
          "parcoords": [
           {
            "line": {
             "colorbar": {
              "outlinewidth": 0,
              "ticks": ""
             }
            },
            "type": "parcoords"
           }
          ],
          "pie": [
           {
            "automargin": true,
            "type": "pie"
           }
          ],
          "scatter": [
           {
            "fillpattern": {
             "fillmode": "overlay",
             "size": 10,
             "solidity": 0.2
            },
            "type": "scatter"
           }
          ],
          "scatter3d": [
           {
            "line": {
             "colorbar": {
              "outlinewidth": 0,
              "ticks": ""
             }
            },
            "marker": {
             "colorbar": {
              "outlinewidth": 0,
              "ticks": ""
             }
            },
            "type": "scatter3d"
           }
          ],
          "scattercarpet": [
           {
            "marker": {
             "colorbar": {
              "outlinewidth": 0,
              "ticks": ""
             }
            },
            "type": "scattercarpet"
           }
          ],
          "scattergeo": [
           {
            "marker": {
             "colorbar": {
              "outlinewidth": 0,
              "ticks": ""
             }
            },
            "type": "scattergeo"
           }
          ],
          "scattergl": [
           {
            "marker": {
             "colorbar": {
              "outlinewidth": 0,
              "ticks": ""
             }
            },
            "type": "scattergl"
           }
          ],
          "scattermap": [
           {
            "marker": {
             "colorbar": {
              "outlinewidth": 0,
              "ticks": ""
             }
            },
            "type": "scattermap"
           }
          ],
          "scattermapbox": [
           {
            "marker": {
             "colorbar": {
              "outlinewidth": 0,
              "ticks": ""
             }
            },
            "type": "scattermapbox"
           }
          ],
          "scatterpolar": [
           {
            "marker": {
             "colorbar": {
              "outlinewidth": 0,
              "ticks": ""
             }
            },
            "type": "scatterpolar"
           }
          ],
          "scatterpolargl": [
           {
            "marker": {
             "colorbar": {
              "outlinewidth": 0,
              "ticks": ""
             }
            },
            "type": "scatterpolargl"
           }
          ],
          "scatterternary": [
           {
            "marker": {
             "colorbar": {
              "outlinewidth": 0,
              "ticks": ""
             }
            },
            "type": "scatterternary"
           }
          ],
          "surface": [
           {
            "colorbar": {
             "outlinewidth": 0,
             "ticks": ""
            },
            "colorscale": [
             [
              0,
              "#0d0887"
             ],
             [
              0.1111111111111111,
              "#46039f"
             ],
             [
              0.2222222222222222,
              "#7201a8"
             ],
             [
              0.3333333333333333,
              "#9c179e"
             ],
             [
              0.4444444444444444,
              "#bd3786"
             ],
             [
              0.5555555555555556,
              "#d8576b"
             ],
             [
              0.6666666666666666,
              "#ed7953"
             ],
             [
              0.7777777777777778,
              "#fb9f3a"
             ],
             [
              0.8888888888888888,
              "#fdca26"
             ],
             [
              1,
              "#f0f921"
             ]
            ],
            "type": "surface"
           }
          ],
          "table": [
           {
            "cells": {
             "fill": {
              "color": "#EBF0F8"
             },
             "line": {
              "color": "white"
             }
            },
            "header": {
             "fill": {
              "color": "#C8D4E3"
             },
             "line": {
              "color": "white"
             }
            },
            "type": "table"
           }
          ]
         },
         "layout": {
          "annotationdefaults": {
           "arrowcolor": "#2a3f5f",
           "arrowhead": 0,
           "arrowwidth": 1
          },
          "autotypenumbers": "strict",
          "coloraxis": {
           "colorbar": {
            "outlinewidth": 0,
            "ticks": ""
           }
          },
          "colorscale": {
           "diverging": [
            [
             0,
             "#8e0152"
            ],
            [
             0.1,
             "#c51b7d"
            ],
            [
             0.2,
             "#de77ae"
            ],
            [
             0.3,
             "#f1b6da"
            ],
            [
             0.4,
             "#fde0ef"
            ],
            [
             0.5,
             "#f7f7f7"
            ],
            [
             0.6,
             "#e6f5d0"
            ],
            [
             0.7,
             "#b8e186"
            ],
            [
             0.8,
             "#7fbc41"
            ],
            [
             0.9,
             "#4d9221"
            ],
            [
             1,
             "#276419"
            ]
           ],
           "sequential": [
            [
             0,
             "#0d0887"
            ],
            [
             0.1111111111111111,
             "#46039f"
            ],
            [
             0.2222222222222222,
             "#7201a8"
            ],
            [
             0.3333333333333333,
             "#9c179e"
            ],
            [
             0.4444444444444444,
             "#bd3786"
            ],
            [
             0.5555555555555556,
             "#d8576b"
            ],
            [
             0.6666666666666666,
             "#ed7953"
            ],
            [
             0.7777777777777778,
             "#fb9f3a"
            ],
            [
             0.8888888888888888,
             "#fdca26"
            ],
            [
             1,
             "#f0f921"
            ]
           ],
           "sequentialminus": [
            [
             0,
             "#0d0887"
            ],
            [
             0.1111111111111111,
             "#46039f"
            ],
            [
             0.2222222222222222,
             "#7201a8"
            ],
            [
             0.3333333333333333,
             "#9c179e"
            ],
            [
             0.4444444444444444,
             "#bd3786"
            ],
            [
             0.5555555555555556,
             "#d8576b"
            ],
            [
             0.6666666666666666,
             "#ed7953"
            ],
            [
             0.7777777777777778,
             "#fb9f3a"
            ],
            [
             0.8888888888888888,
             "#fdca26"
            ],
            [
             1,
             "#f0f921"
            ]
           ]
          },
          "colorway": [
           "#636efa",
           "#EF553B",
           "#00cc96",
           "#ab63fa",
           "#FFA15A",
           "#19d3f3",
           "#FF6692",
           "#B6E880",
           "#FF97FF",
           "#FECB52"
          ],
          "font": {
           "color": "#2a3f5f"
          },
          "geo": {
           "bgcolor": "white",
           "lakecolor": "white",
           "landcolor": "#E5ECF6",
           "showlakes": true,
           "showland": true,
           "subunitcolor": "white"
          },
          "hoverlabel": {
           "align": "left"
          },
          "hovermode": "closest",
          "mapbox": {
           "style": "light"
          },
          "paper_bgcolor": "white",
          "plot_bgcolor": "#E5ECF6",
          "polar": {
           "angularaxis": {
            "gridcolor": "white",
            "linecolor": "white",
            "ticks": ""
           },
           "bgcolor": "#E5ECF6",
           "radialaxis": {
            "gridcolor": "white",
            "linecolor": "white",
            "ticks": ""
           }
          },
          "scene": {
           "xaxis": {
            "backgroundcolor": "#E5ECF6",
            "gridcolor": "white",
            "gridwidth": 2,
            "linecolor": "white",
            "showbackground": true,
            "ticks": "",
            "zerolinecolor": "white"
           },
           "yaxis": {
            "backgroundcolor": "#E5ECF6",
            "gridcolor": "white",
            "gridwidth": 2,
            "linecolor": "white",
            "showbackground": true,
            "ticks": "",
            "zerolinecolor": "white"
           },
           "zaxis": {
            "backgroundcolor": "#E5ECF6",
            "gridcolor": "white",
            "gridwidth": 2,
            "linecolor": "white",
            "showbackground": true,
            "ticks": "",
            "zerolinecolor": "white"
           }
          },
          "shapedefaults": {
           "line": {
            "color": "#2a3f5f"
           }
          },
          "ternary": {
           "aaxis": {
            "gridcolor": "white",
            "linecolor": "white",
            "ticks": ""
           },
           "baxis": {
            "gridcolor": "white",
            "linecolor": "white",
            "ticks": ""
           },
           "bgcolor": "#E5ECF6",
           "caxis": {
            "gridcolor": "white",
            "linecolor": "white",
            "ticks": ""
           }
          },
          "title": {
           "x": 0.05
          },
          "xaxis": {
           "automargin": true,
           "gridcolor": "white",
           "linecolor": "white",
           "ticks": "",
           "title": {
            "standoff": 15
           },
           "zerolinecolor": "white",
           "zerolinewidth": 2
          },
          "yaxis": {
           "automargin": true,
           "gridcolor": "white",
           "linecolor": "white",
           "ticks": "",
           "title": {
            "standoff": 15
           },
           "zerolinecolor": "white",
           "zerolinewidth": 2
          }
         }
        },
        "title": {
         "text": "Ventas de Productos"
        },
        "width": 700,
        "xaxis": {
         "anchor": "y",
         "domain": [
          0,
          1
         ]
        },
        "xaxis2": {
         "anchor": "y2",
         "domain": [
          0,
          1
         ]
        },
        "xaxis3": {
         "anchor": "y3",
         "domain": [
          0,
          1
         ]
        },
        "yaxis": {
         "anchor": "x",
         "domain": [
          0.7333333333333333,
          1
         ]
        },
        "yaxis2": {
         "anchor": "x2",
         "domain": [
          0.36666666666666664,
          0.6333333333333333
         ]
        },
        "yaxis3": {
         "anchor": "x3",
         "domain": [
          0,
          0.26666666666666666
         ]
        }
       }
      }
     },
     "metadata": {},
     "output_type": "display_data"
    }
   ],
   "source": [
    "fig = make_subplots(\n",
    "    rows=3,\n",
    "    cols=1\n",
    ")\n",
    "fig.append_trace(\n",
    "    go.Scatter(\n",
    "        x=df.index.values,\n",
    "        y=df['DAIRY'],\n",
    "        name='Lacteos',\n",
    "    ),\n",
    "    row=1,\n",
    "    col=1\n",
    ")\n",
    "fig.append_trace(\n",
    "    go.Scatter(\n",
    "        x=df.index.values,\n",
    "        y=df['MEATS'],\n",
    "        name='Carnes',\n",
    "    ),\n",
    "    row=2,\n",
    "    col=1\n",
    ")\n",
    "fig.append_trace(\n",
    "    go.Scatter(\n",
    "        x=df.index.values,\n",
    "        y=df['SEAFOOD'],\n",
    "        name='Mariscos',\n",
    "    ),\n",
    "    row=3,\n",
    "    col=1\n",
    ")\n",
    "\n",
    "fig.update_layout(\n",
    "    height=600,\n",
    "    width=700,\n",
    "    title_text='Ventas de Productos'\n",
    ")\n",
    "\n",
    "fig.show()"
   ]
  }
 ],
 "metadata": {
  "kernelspec": {
   "display_name": "myenv (3.13.7)",
   "language": "python",
   "name": "python3"
  },
  "language_info": {
   "codemirror_mode": {
    "name": "ipython",
    "version": 3
   },
   "file_extension": ".py",
   "mimetype": "text/x-python",
   "name": "python",
   "nbconvert_exporter": "python",
   "pygments_lexer": "ipython3",
   "version": "3.13.7"
  }
 },
 "nbformat": 4,
 "nbformat_minor": 5
}
