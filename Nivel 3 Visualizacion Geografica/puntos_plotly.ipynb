{
 "cells": [
  {
   "cell_type": "markdown",
   "id": "a510aa7c",
   "metadata": {},
   "source": [
    "# Introduccion Coordenadas. GEOJson, Shapeflies"
   ]
  },
  {
   "cell_type": "markdown",
   "id": "5d7406a5",
   "metadata": {},
   "source": [
    "Se siguen teniendo coordenadas como los ejes que se tenian, pero ahora la Latitud y la Longitud donde se pueden tratar coordenadas mercator donde se muestra en metros, pero que es algo mas complicada, con lo cual se pueden mostrar graficos en limites geograficos.\n",
    "\n",
    "## Formatos\n",
    "\n",
    "GeoJson -> es una estructura de json como en python un diccionario con lista marcando informacion.\n",
    "\n",
    "Shapefile -> es un archivo en documentos zip."
   ]
  },
  {
   "cell_type": "markdown",
   "id": "43696bfa",
   "metadata": {},
   "source": [
    "### EGeoJSON\n",
    "\n",
    "GeoJSON es una estructura JSON para representar datos geoespaciales. Claves importantes:\n",
    "- `type`: tipo de objeto (ej. `FeatureCollection`, `Feature`).\n",
    "- `features`: lista de `Feature` (solo en `FeatureCollection`).\n",
    "- `geometry`: contiene `type` (Point, LineString, Polygon, ...) y `coordinates`.\n",
    "- `properties`: atributos descriptivos  por feature\n",
    "- Las coordenadas están en orden [longitud, latitud] (grados).\n",
    "\n",
    "Ejemplo: una colección con un punto (cafetería), una línea (ruta) y un polígono (área de parque).\n",
    "\n",
    "```json\n",
    "{\n",
    "    \"type\": \"FeatureCollection\",\n",
    "    \"features\": [\n",
    "        {\n",
    "            \"type\": \"Feature\",\n",
    "            \"properties\": {\n",
    "                \"id\": \"cafe-1\",\n",
    "                \"name\": \"Café Central\",\n",
    "                \"category\": \"cafetería\",\n",
    "                \"open_hours\": \"08:00-20:00\"\n",
    "            },\n",
    "            \"geometry\": {\n",
    "                \"type\": \"Point\",\n",
    "                \"coordinates\": [-3.703790, 40.416775]\n",
    "            }\n",
    "        },\n",
    "        {\n",
    "            \"type\": \"Feature\",\n",
    "            \"properties\": {\n",
    "                \"id\": \"ruta-park\",\n",
    "                \"name\": \"Ruta Peatonal\",\n",
    "                \"distance_m\": 850\n",
    "            },\n",
    "            \"geometry\": {\n",
    "                \"type\": \"LineString\",\n",
    "                \"coordinates\": [\n",
    "                    [-3.705000, 40.417000],\n",
    "                    [-3.704000, 40.416500],\n",
    "                    [-3.703000, 40.416200]\n",
    "                ]\n",
    "            }\n",
    "        },\n",
    "        {\n",
    "            \"type\": \"Feature\",\n",
    "            \"properties\": {\n",
    "                \"id\": \"parque-1\",\n",
    "                \"name\": \"Parque Central\",\n",
    "                \"area_m2_est\": 12000,\n",
    "                \"type\": \"parque\"\n",
    "            },\n",
    "            \"geometry\": {\n",
    "                \"type\": \"Polygon\",\n",
    "                \"coordinates\": [\n",
    "                    [\n",
    "                        [-3.706000, 40.417500],\n",
    "                        [-3.705200, 40.416900],\n",
    "                        [-3.704600, 40.417100],\n",
    "                        [-3.705300, 40.417700],\n",
    "                        [-3.706000, 40.417500]\n",
    "                    ]\n",
    "                ]\n",
    "            }\n",
    "        }\n",
    "    ]\n",
    "}\n",
    "```\n",
    "\n",
    "Notas rápidas:\n",
    "- Un `Polygon` tiene un array de anillos; el primero es el anillo exterior.\n",
    "- Evita incluir CRS personalizados; GeoJSON usa WGS84 por defecto.\n",
    "- `properties` puede contener cualquier metadato útil (URLs, IDs, horarios, etc.).."
   ]
  },
  {
   "cell_type": "markdown",
   "id": "7a191ae6",
   "metadata": {},
   "source": [
    "### ShapeFile\n",
    "\n",
    "Formato vectorial de ESRI compuesto por varios archivos complementarios (.shp, .shx, .dbf, .prj) que almacenan geometría y atributos; suele distribuirse en ZIP y es importante conservar todos los archivos juntos y verificar la proyección (CRS)."
   ]
  },
  {
   "cell_type": "markdown",
   "id": "57793fba",
   "metadata": {},
   "source": [
    "# Mapa de Puntos y Burbujas"
   ]
  },
  {
   "cell_type": "code",
   "execution_count": 6,
   "id": "5e472a6b",
   "metadata": {},
   "outputs": [],
   "source": [
    "import pandas as pd\n",
    "# pd.set_option('display.max_columns',None)\n",
    "# pd.set_option('display.max_rows',None)"
   ]
  },
  {
   "cell_type": "code",
   "execution_count": 7,
   "id": "949c6b2c",
   "metadata": {},
   "outputs": [
    {
     "data": {
      "text/html": [
       "<div>\n",
       "<style scoped>\n",
       "    .dataframe tbody tr th:only-of-type {\n",
       "        vertical-align: middle;\n",
       "    }\n",
       "\n",
       "    .dataframe tbody tr th {\n",
       "        vertical-align: top;\n",
       "    }\n",
       "\n",
       "    .dataframe thead th {\n",
       "        text-align: right;\n",
       "    }\n",
       "</style>\n",
       "<table border=\"1\" class=\"dataframe\">\n",
       "  <thead>\n",
       "    <tr style=\"text-align: right;\">\n",
       "      <th></th>\n",
       "      <th>latitude</th>\n",
       "      <th>longitude</th>\n",
       "      <th>altitude</th>\n",
       "      <th>geometry</th>\n",
       "      <th>OBJECTID</th>\n",
       "      <th>IDESTACION</th>\n",
       "      <th>FECHAACTUAL</th>\n",
       "      <th>MODO</th>\n",
       "      <th>CODIGOESTACION</th>\n",
       "      <th>DENOMINACION</th>\n",
       "      <th>...</th>\n",
       "      <th>FECHAALTA</th>\n",
       "      <th>FECHAINICIO</th>\n",
       "      <th>FECHAFIN</th>\n",
       "      <th>X</th>\n",
       "      <th>Y</th>\n",
       "      <th>GRADOACCESIBILIDAD</th>\n",
       "      <th>SITUACIONCALLE</th>\n",
       "      <th>DENOMINACION_SAE</th>\n",
       "      <th>INTERURBANOS_CODIGOEMT_CRTM</th>\n",
       "      <th>INTERURBANOS_CODIGOEMT_EMPRESA</th>\n",
       "    </tr>\n",
       "  </thead>\n",
       "  <tbody>\n",
       "    <tr>\n",
       "      <th>0</th>\n",
       "      <td>40.424842</td>\n",
       "      <td>-3.707419</td>\n",
       "      <td>NaN</td>\n",
       "      <td>Point</td>\n",
       "      <td>1</td>\n",
       "      <td>4_38</td>\n",
       "      <td>20150709</td>\n",
       "      <td>4</td>\n",
       "      <td>38</td>\n",
       "      <td>NOVICIADO</td>\n",
       "      <td>...</td>\n",
       "      <td>19990405</td>\n",
       "      <td>19930701</td>\n",
       "      <td>NaN</td>\n",
       "      <td>440100</td>\n",
       "      <td>4475360</td>\n",
       "      <td>N</td>\n",
       "      <td>NaN</td>\n",
       "      <td>NaN</td>\n",
       "      <td>NaN</td>\n",
       "      <td>NaN</td>\n",
       "    </tr>\n",
       "    <tr>\n",
       "      <th>1</th>\n",
       "      <td>40.411472</td>\n",
       "      <td>-3.661785</td>\n",
       "      <td>NaN</td>\n",
       "      <td>Point</td>\n",
       "      <td>2</td>\n",
       "      <td>4_175</td>\n",
       "      <td>20150709</td>\n",
       "      <td>4</td>\n",
       "      <td>175</td>\n",
       "      <td>ESTRELLA</td>\n",
       "      <td>...</td>\n",
       "      <td>19990405</td>\n",
       "      <td>19930701</td>\n",
       "      <td>NaN</td>\n",
       "      <td>443960</td>\n",
       "      <td>4473846</td>\n",
       "      <td>N</td>\n",
       "      <td>NaN</td>\n",
       "      <td>NaN</td>\n",
       "      <td>NaN</td>\n",
       "      <td>NaN</td>\n",
       "    </tr>\n",
       "    <tr>\n",
       "      <th>2</th>\n",
       "      <td>40.441975</td>\n",
       "      <td>-3.701328</td>\n",
       "      <td>NaN</td>\n",
       "      <td>Point</td>\n",
       "      <td>3</td>\n",
       "      <td>4_7</td>\n",
       "      <td>20150709</td>\n",
       "      <td>4</td>\n",
       "      <td>7</td>\n",
       "      <td>RIOS ROSAS</td>\n",
       "      <td>...</td>\n",
       "      <td>19990405</td>\n",
       "      <td>19930701</td>\n",
       "      <td>NaN</td>\n",
       "      <td>440632</td>\n",
       "      <td>4477258</td>\n",
       "      <td>N</td>\n",
       "      <td>NaN</td>\n",
       "      <td>NaN</td>\n",
       "      <td>NaN</td>\n",
       "      <td>NaN</td>\n",
       "    </tr>\n",
       "    <tr>\n",
       "      <th>3</th>\n",
       "      <td>40.394808</td>\n",
       "      <td>-3.768128</td>\n",
       "      <td>NaN</td>\n",
       "      <td>Point</td>\n",
       "      <td>4</td>\n",
       "      <td>4_102</td>\n",
       "      <td>20150709</td>\n",
       "      <td>4</td>\n",
       "      <td>102</td>\n",
       "      <td>CAMPAMENTO</td>\n",
       "      <td>...</td>\n",
       "      <td>20021120</td>\n",
       "      <td>20020901</td>\n",
       "      <td>NaN</td>\n",
       "      <td>434921</td>\n",
       "      <td>4472069</td>\n",
       "      <td>N</td>\n",
       "      <td>NaN</td>\n",
       "      <td>NaN</td>\n",
       "      <td>NaN</td>\n",
       "      <td>NaN</td>\n",
       "    </tr>\n",
       "    <tr>\n",
       "      <th>4</th>\n",
       "      <td>40.387097</td>\n",
       "      <td>-3.706896</td>\n",
       "      <td>NaN</td>\n",
       "      <td>Point</td>\n",
       "      <td>5</td>\n",
       "      <td>4_109</td>\n",
       "      <td>20150709</td>\n",
       "      <td>4</td>\n",
       "      <td>109</td>\n",
       "      <td>USERA</td>\n",
       "      <td>...</td>\n",
       "      <td>19990405</td>\n",
       "      <td>19930701</td>\n",
       "      <td>NaN</td>\n",
       "      <td>440111</td>\n",
       "      <td>4471170</td>\n",
       "      <td>N</td>\n",
       "      <td>NaN</td>\n",
       "      <td>NaN</td>\n",
       "      <td>NaN</td>\n",
       "      <td>NaN</td>\n",
       "    </tr>\n",
       "    <tr>\n",
       "      <th>...</th>\n",
       "      <td>...</td>\n",
       "      <td>...</td>\n",
       "      <td>...</td>\n",
       "      <td>...</td>\n",
       "      <td>...</td>\n",
       "      <td>...</td>\n",
       "      <td>...</td>\n",
       "      <td>...</td>\n",
       "      <td>...</td>\n",
       "      <td>...</td>\n",
       "      <td>...</td>\n",
       "      <td>...</td>\n",
       "      <td>...</td>\n",
       "      <td>...</td>\n",
       "      <td>...</td>\n",
       "      <td>...</td>\n",
       "      <td>...</td>\n",
       "      <td>...</td>\n",
       "      <td>...</td>\n",
       "      <td>...</td>\n",
       "      <td>...</td>\n",
       "    </tr>\n",
       "    <tr>\n",
       "      <th>284</th>\n",
       "      <td>40.433158</td>\n",
       "      <td>-3.689542</td>\n",
       "      <td>NaN</td>\n",
       "      <td>Point</td>\n",
       "      <td>285</td>\n",
       "      <td>4_84</td>\n",
       "      <td>20150709</td>\n",
       "      <td>4</td>\n",
       "      <td>84</td>\n",
       "      <td>RUBEN DARIO</td>\n",
       "      <td>...</td>\n",
       "      <td>19990405</td>\n",
       "      <td>19930701</td>\n",
       "      <td>NaN</td>\n",
       "      <td>441624</td>\n",
       "      <td>4476271</td>\n",
       "      <td>N</td>\n",
       "      <td>NaN</td>\n",
       "      <td>NaN</td>\n",
       "      <td>NaN</td>\n",
       "      <td>NaN</td>\n",
       "    </tr>\n",
       "    <tr>\n",
       "      <th>285</th>\n",
       "      <td>40.429056</td>\n",
       "      <td>-3.702182</td>\n",
       "      <td>NaN</td>\n",
       "      <td>Point</td>\n",
       "      <td>286</td>\n",
       "      <td>4_9</td>\n",
       "      <td>20150709</td>\n",
       "      <td>4</td>\n",
       "      <td>9</td>\n",
       "      <td>BILBAO</td>\n",
       "      <td>...</td>\n",
       "      <td>19990405</td>\n",
       "      <td>19930701</td>\n",
       "      <td>NaN</td>\n",
       "      <td>440548</td>\n",
       "      <td>4475824</td>\n",
       "      <td>N</td>\n",
       "      <td>NaN</td>\n",
       "      <td>NaN</td>\n",
       "      <td>NaN</td>\n",
       "      <td>NaN</td>\n",
       "    </tr>\n",
       "    <tr>\n",
       "      <th>286</th>\n",
       "      <td>40.397356</td>\n",
       "      <td>-3.715960</td>\n",
       "      <td>NaN</td>\n",
       "      <td>Point</td>\n",
       "      <td>287</td>\n",
       "      <td>4_94</td>\n",
       "      <td>20150709</td>\n",
       "      <td>4</td>\n",
       "      <td>94</td>\n",
       "      <td>MARQUES DE VADILLO</td>\n",
       "      <td>...</td>\n",
       "      <td>19990405</td>\n",
       "      <td>19930701</td>\n",
       "      <td>NaN</td>\n",
       "      <td>439351</td>\n",
       "      <td>4472315</td>\n",
       "      <td>N</td>\n",
       "      <td>NaN</td>\n",
       "      <td>NaN</td>\n",
       "      <td>NaN</td>\n",
       "      <td>NaN</td>\n",
       "    </tr>\n",
       "    <tr>\n",
       "      <th>287</th>\n",
       "      <td>40.393352</td>\n",
       "      <td>-3.723605</td>\n",
       "      <td>NaN</td>\n",
       "      <td>Point</td>\n",
       "      <td>288</td>\n",
       "      <td>4_95</td>\n",
       "      <td>20150709</td>\n",
       "      <td>4</td>\n",
       "      <td>95</td>\n",
       "      <td>URGEL</td>\n",
       "      <td>...</td>\n",
       "      <td>19990405</td>\n",
       "      <td>19930701</td>\n",
       "      <td>NaN</td>\n",
       "      <td>438698</td>\n",
       "      <td>4471876</td>\n",
       "      <td>N</td>\n",
       "      <td>NaN</td>\n",
       "      <td>NaN</td>\n",
       "      <td>NaN</td>\n",
       "      <td>NaN</td>\n",
       "    </tr>\n",
       "    <tr>\n",
       "      <th>288</th>\n",
       "      <td>40.388847</td>\n",
       "      <td>-3.739825</td>\n",
       "      <td>NaN</td>\n",
       "      <td>Point</td>\n",
       "      <td>289</td>\n",
       "      <td>4_97</td>\n",
       "      <td>20150709</td>\n",
       "      <td>4</td>\n",
       "      <td>97</td>\n",
       "      <td>VISTA ALEGRE</td>\n",
       "      <td>...</td>\n",
       "      <td>19990405</td>\n",
       "      <td>19930701</td>\n",
       "      <td>NaN</td>\n",
       "      <td>437318</td>\n",
       "      <td>4471387</td>\n",
       "      <td>N</td>\n",
       "      <td>NaN</td>\n",
       "      <td>NaN</td>\n",
       "      <td>NaN</td>\n",
       "      <td>NaN</td>\n",
       "    </tr>\n",
       "  </tbody>\n",
       "</table>\n",
       "<p>289 rows × 56 columns</p>\n",
       "</div>"
      ],
      "text/plain": [
       "      latitude  longitude  altitude geometry  OBJECTID IDESTACION  \\\n",
       "0    40.424842  -3.707419       NaN    Point         1       4_38   \n",
       "1    40.411472  -3.661785       NaN    Point         2      4_175   \n",
       "2    40.441975  -3.701328       NaN    Point         3        4_7   \n",
       "3    40.394808  -3.768128       NaN    Point         4      4_102   \n",
       "4    40.387097  -3.706896       NaN    Point         5      4_109   \n",
       "..         ...        ...       ...      ...       ...        ...   \n",
       "284  40.433158  -3.689542       NaN    Point       285       4_84   \n",
       "285  40.429056  -3.702182       NaN    Point       286        4_9   \n",
       "286  40.397356  -3.715960       NaN    Point       287       4_94   \n",
       "287  40.393352  -3.723605       NaN    Point       288       4_95   \n",
       "288  40.388847  -3.739825       NaN    Point       289       4_97   \n",
       "\n",
       "     FECHAACTUAL  MODO  CODIGOESTACION        DENOMINACION  ... FECHAALTA  \\\n",
       "0       20150709     4              38           NOVICIADO  ...  19990405   \n",
       "1       20150709     4             175            ESTRELLA  ...  19990405   \n",
       "2       20150709     4               7          RIOS ROSAS  ...  19990405   \n",
       "3       20150709     4             102          CAMPAMENTO  ...  20021120   \n",
       "4       20150709     4             109               USERA  ...  19990405   \n",
       "..           ...   ...             ...                 ...  ...       ...   \n",
       "284     20150709     4              84         RUBEN DARIO  ...  19990405   \n",
       "285     20150709     4               9              BILBAO  ...  19990405   \n",
       "286     20150709     4              94  MARQUES DE VADILLO  ...  19990405   \n",
       "287     20150709     4              95               URGEL  ...  19990405   \n",
       "288     20150709     4              97        VISTA ALEGRE  ...  19990405   \n",
       "\n",
       "    FECHAINICIO  FECHAFIN       X        Y  GRADOACCESIBILIDAD  \\\n",
       "0      19930701       NaN  440100  4475360                   N   \n",
       "1      19930701       NaN  443960  4473846                   N   \n",
       "2      19930701       NaN  440632  4477258                   N   \n",
       "3      20020901       NaN  434921  4472069                   N   \n",
       "4      19930701       NaN  440111  4471170                   N   \n",
       "..          ...       ...     ...      ...                 ...   \n",
       "284    19930701       NaN  441624  4476271                   N   \n",
       "285    19930701       NaN  440548  4475824                   N   \n",
       "286    19930701       NaN  439351  4472315                   N   \n",
       "287    19930701       NaN  438698  4471876                   N   \n",
       "288    19930701       NaN  437318  4471387                   N   \n",
       "\n",
       "     SITUACIONCALLE DENOMINACION_SAE  INTERURBANOS_CODIGOEMT_CRTM  \\\n",
       "0               NaN              NaN                          NaN   \n",
       "1               NaN              NaN                          NaN   \n",
       "2               NaN              NaN                          NaN   \n",
       "3               NaN              NaN                          NaN   \n",
       "4               NaN              NaN                          NaN   \n",
       "..              ...              ...                          ...   \n",
       "284             NaN              NaN                          NaN   \n",
       "285             NaN              NaN                          NaN   \n",
       "286             NaN              NaN                          NaN   \n",
       "287             NaN              NaN                          NaN   \n",
       "288             NaN              NaN                          NaN   \n",
       "\n",
       "     INTERURBANOS_CODIGOEMT_EMPRESA  \n",
       "0                               NaN  \n",
       "1                               NaN  \n",
       "2                               NaN  \n",
       "3                               NaN  \n",
       "4                               NaN  \n",
       "..                              ...  \n",
       "284                             NaN  \n",
       "285                             NaN  \n",
       "286                             NaN  \n",
       "287                             NaN  \n",
       "288                             NaN  \n",
       "\n",
       "[289 rows x 56 columns]"
      ]
     },
     "execution_count": 7,
     "metadata": {},
     "output_type": "execute_result"
    }
   ],
   "source": [
    "dfc = pd.read_csv('../data/estaciones.csv')\n",
    "dfc"
   ]
  },
  {
   "cell_type": "code",
   "execution_count": 8,
   "id": "4d6ba89d",
   "metadata": {},
   "outputs": [
    {
     "name": "stdout",
     "output_type": "stream",
     "text": [
      "<class 'pandas.core.frame.DataFrame'>\n",
      "RangeIndex: 289 entries, 0 to 288\n",
      "Data columns (total 56 columns):\n",
      " #   Column                          Non-Null Count  Dtype  \n",
      "---  ------                          --------------  -----  \n",
      " 0   latitude                        289 non-null    float64\n",
      " 1   longitude                       289 non-null    float64\n",
      " 2   altitude                        0 non-null      float64\n",
      " 3   geometry                        289 non-null    object \n",
      " 4   OBJECTID                        289 non-null    int64  \n",
      " 5   IDESTACION                      289 non-null    object \n",
      " 6   FECHAACTUAL                     289 non-null    int64  \n",
      " 7   MODO                            289 non-null    int64  \n",
      " 8   CODIGOESTACION                  289 non-null    int64  \n",
      " 9   DENOMINACION                    289 non-null    object \n",
      " 10  OBSERVACIONES                   278 non-null    object \n",
      " 11  SITUACION                       289 non-null    object \n",
      " 12  CODIGOCTMESTACIONREDMETRO       289 non-null    int64  \n",
      " 13  CODIGOEMPRESA                   289 non-null    int64  \n",
      " 14  DENOMINACIONABREVIADA           0 non-null      float64\n",
      " 15  MODOINTERCAMBIADOR              288 non-null    float64\n",
      " 16  CODIGOINTERCAMBIADOR            288 non-null    float64\n",
      " 17  TIPO                            289 non-null    object \n",
      " 18  CODIGOPROVINCIA                 289 non-null    int64  \n",
      " 19  CODIGOMUNICIPIO                 289 non-null    int64  \n",
      " 20  CODIGOENTIDAD                   289 non-null    int64  \n",
      " 21  CODIGONUCLEO                    287 non-null    float64\n",
      " 22  CODIGOVIA                       289 non-null    object \n",
      " 23  TIPOVIA                         289 non-null    object \n",
      " 24  PARTICULA                       285 non-null    object \n",
      " 25  NOMBREVIA                       289 non-null    object \n",
      " 26  TIPONUMERO                      289 non-null    object \n",
      " 27  NUMEROPORTAL                    289 non-null    object \n",
      " 28  CALIFICADORPORTAL               15 non-null     object \n",
      " 29  CARRETERA                       0 non-null      float64\n",
      " 30  CODIGOPOSTAL                    288 non-null    float64\n",
      " 31  DISTRITO                        289 non-null    int64  \n",
      " 32  SECCIONCENSAL                   289 non-null    int64  \n",
      " 33  BARRIO                          241 non-null    float64\n",
      " 34  TESELA                          288 non-null    object \n",
      " 35  SECTORURBANO                    284 non-null    object \n",
      " 36  SECTOR                          88 non-null     float64\n",
      " 37  CORREDOR                        289 non-null    int64  \n",
      " 38  CORONATARIFARIA                 289 non-null    object \n",
      " 39  CORONA123                       289 non-null    int64  \n",
      " 40  ZONATRANSPORTE                  289 non-null    object \n",
      " 41  ENCUESTADOMICILIARIA            289 non-null    int64  \n",
      " 42  ENCUESTAAFOROS                  0 non-null      float64\n",
      " 43  HOJA25000                       275 non-null    object \n",
      " 44  ACONDICIONAMIENTOVIAJEROS       289 non-null    int64  \n",
      " 45  ACONDICIONAMIENTOVEHICULOS      289 non-null    int64  \n",
      " 46  FECHAALTA                       289 non-null    int64  \n",
      " 47  FECHAINICIO                     289 non-null    int64  \n",
      " 48  FECHAFIN                        0 non-null      float64\n",
      " 49  X                               289 non-null    int64  \n",
      " 50  Y                               289 non-null    int64  \n",
      " 51  GRADOACCESIBILIDAD              289 non-null    object \n",
      " 52  SITUACIONCALLE                  1 non-null      object \n",
      " 53  DENOMINACION_SAE                0 non-null      float64\n",
      " 54  INTERURBANOS_CODIGOEMT_CRTM     0 non-null      float64\n",
      " 55  INTERURBANOS_CODIGOEMT_EMPRESA  0 non-null      float64\n",
      "dtypes: float64(16), int64(20), object(20)\n",
      "memory usage: 126.6+ KB\n"
     ]
    }
   ],
   "source": [
    "dfc.info()"
   ]
  },
  {
   "cell_type": "code",
   "execution_count": 9,
   "id": "0a51d941",
   "metadata": {},
   "outputs": [
    {
     "data": {
      "text/html": [
       "<div>\n",
       "<style scoped>\n",
       "    .dataframe tbody tr th:only-of-type {\n",
       "        vertical-align: middle;\n",
       "    }\n",
       "\n",
       "    .dataframe tbody tr th {\n",
       "        vertical-align: top;\n",
       "    }\n",
       "\n",
       "    .dataframe thead th {\n",
       "        text-align: right;\n",
       "    }\n",
       "</style>\n",
       "<table border=\"1\" class=\"dataframe\">\n",
       "  <thead>\n",
       "    <tr style=\"text-align: right;\">\n",
       "      <th></th>\n",
       "      <th>latitude</th>\n",
       "      <th>longitude</th>\n",
       "      <th>altitude</th>\n",
       "      <th>OBJECTID</th>\n",
       "      <th>FECHAACTUAL</th>\n",
       "      <th>MODO</th>\n",
       "      <th>CODIGOESTACION</th>\n",
       "      <th>CODIGOCTMESTACIONREDMETRO</th>\n",
       "      <th>CODIGOEMPRESA</th>\n",
       "      <th>DENOMINACIONABREVIADA</th>\n",
       "      <th>...</th>\n",
       "      <th>ACONDICIONAMIENTOVIAJEROS</th>\n",
       "      <th>ACONDICIONAMIENTOVEHICULOS</th>\n",
       "      <th>FECHAALTA</th>\n",
       "      <th>FECHAINICIO</th>\n",
       "      <th>FECHAFIN</th>\n",
       "      <th>X</th>\n",
       "      <th>Y</th>\n",
       "      <th>DENOMINACION_SAE</th>\n",
       "      <th>INTERURBANOS_CODIGOEMT_CRTM</th>\n",
       "      <th>INTERURBANOS_CODIGOEMT_EMPRESA</th>\n",
       "    </tr>\n",
       "  </thead>\n",
       "  <tbody>\n",
       "    <tr>\n",
       "      <th>count</th>\n",
       "      <td>289.000000</td>\n",
       "      <td>289.000000</td>\n",
       "      <td>0.0</td>\n",
       "      <td>289.000000</td>\n",
       "      <td>289.0</td>\n",
       "      <td>289.0</td>\n",
       "      <td>289.000000</td>\n",
       "      <td>289.000000</td>\n",
       "      <td>289.000000</td>\n",
       "      <td>0.0</td>\n",
       "      <td>...</td>\n",
       "      <td>289.000000</td>\n",
       "      <td>289.0</td>\n",
       "      <td>2.890000e+02</td>\n",
       "      <td>2.890000e+02</td>\n",
       "      <td>0.0</td>\n",
       "      <td>289.000000</td>\n",
       "      <td>2.890000e+02</td>\n",
       "      <td>0.0</td>\n",
       "      <td>0.0</td>\n",
       "      <td>0.0</td>\n",
       "    </tr>\n",
       "    <tr>\n",
       "      <th>mean</th>\n",
       "      <td>40.417125</td>\n",
       "      <td>-3.688834</td>\n",
       "      <td>NaN</td>\n",
       "      <td>145.000000</td>\n",
       "      <td>20150709.0</td>\n",
       "      <td>4.0</td>\n",
       "      <td>148.986159</td>\n",
       "      <td>137.318339</td>\n",
       "      <td>642.647059</td>\n",
       "      <td>NaN</td>\n",
       "      <td>...</td>\n",
       "      <td>2.003460</td>\n",
       "      <td>3.0</td>\n",
       "      <td>2.001113e+07</td>\n",
       "      <td>1.997319e+07</td>\n",
       "      <td>NaN</td>\n",
       "      <td>441668.415225</td>\n",
       "      <td>4.474493e+06</td>\n",
       "      <td>NaN</td>\n",
       "      <td>NaN</td>\n",
       "      <td>NaN</td>\n",
       "    </tr>\n",
       "    <tr>\n",
       "      <th>std</th>\n",
       "      <td>0.050602</td>\n",
       "      <td>0.062711</td>\n",
       "      <td>NaN</td>\n",
       "      <td>83.571327</td>\n",
       "      <td>0.0</td>\n",
       "      <td>0.0</td>\n",
       "      <td>88.967885</td>\n",
       "      <td>94.200007</td>\n",
       "      <td>348.285184</td>\n",
       "      <td>NaN</td>\n",
       "      <td>...</td>\n",
       "      <td>0.131716</td>\n",
       "      <td>0.0</td>\n",
       "      <td>3.391985e+04</td>\n",
       "      <td>5.925956e+04</td>\n",
       "      <td>NaN</td>\n",
       "      <td>5340.276003</td>\n",
       "      <td>5.599776e+03</td>\n",
       "      <td>NaN</td>\n",
       "      <td>NaN</td>\n",
       "      <td>NaN</td>\n",
       "    </tr>\n",
       "    <tr>\n",
       "      <th>min</th>\n",
       "      <td>40.282676</td>\n",
       "      <td>-3.874712</td>\n",
       "      <td>NaN</td>\n",
       "      <td>1.000000</td>\n",
       "      <td>20150709.0</td>\n",
       "      <td>4.0</td>\n",
       "      <td>1.000000</td>\n",
       "      <td>1.000000</td>\n",
       "      <td>1.000000</td>\n",
       "      <td>NaN</td>\n",
       "      <td>...</td>\n",
       "      <td>1.000000</td>\n",
       "      <td>3.0</td>\n",
       "      <td>1.999040e+07</td>\n",
       "      <td>1.993070e+07</td>\n",
       "      <td>NaN</td>\n",
       "      <td>425790.000000</td>\n",
       "      <td>4.459646e+06</td>\n",
       "      <td>NaN</td>\n",
       "      <td>NaN</td>\n",
       "      <td>NaN</td>\n",
       "    </tr>\n",
       "    <tr>\n",
       "      <th>25%</th>\n",
       "      <td>40.392664</td>\n",
       "      <td>-3.715963</td>\n",
       "      <td>NaN</td>\n",
       "      <td>73.000000</td>\n",
       "      <td>20150709.0</td>\n",
       "      <td>4.0</td>\n",
       "      <td>73.000000</td>\n",
       "      <td>52.000000</td>\n",
       "      <td>357.000000</td>\n",
       "      <td>NaN</td>\n",
       "      <td>...</td>\n",
       "      <td>2.000000</td>\n",
       "      <td>3.0</td>\n",
       "      <td>1.999040e+07</td>\n",
       "      <td>1.993070e+07</td>\n",
       "      <td>NaN</td>\n",
       "      <td>439381.000000</td>\n",
       "      <td>4.471756e+06</td>\n",
       "      <td>NaN</td>\n",
       "      <td>NaN</td>\n",
       "      <td>NaN</td>\n",
       "    </tr>\n",
       "    <tr>\n",
       "      <th>50%</th>\n",
       "      <td>40.423613</td>\n",
       "      <td>-3.694176</td>\n",
       "      <td>NaN</td>\n",
       "      <td>145.000000</td>\n",
       "      <td>20150709.0</td>\n",
       "      <td>4.0</td>\n",
       "      <td>146.000000</td>\n",
       "      <td>124.000000</td>\n",
       "      <td>617.000000</td>\n",
       "      <td>NaN</td>\n",
       "      <td>...</td>\n",
       "      <td>2.000000</td>\n",
       "      <td>3.0</td>\n",
       "      <td>1.999040e+07</td>\n",
       "      <td>1.993070e+07</td>\n",
       "      <td>NaN</td>\n",
       "      <td>441203.000000</td>\n",
       "      <td>4.475173e+06</td>\n",
       "      <td>NaN</td>\n",
       "      <td>NaN</td>\n",
       "      <td>NaN</td>\n",
       "    </tr>\n",
       "    <tr>\n",
       "      <th>75%</th>\n",
       "      <td>40.444266</td>\n",
       "      <td>-3.661785</td>\n",
       "      <td>NaN</td>\n",
       "      <td>217.000000</td>\n",
       "      <td>20150709.0</td>\n",
       "      <td>4.0</td>\n",
       "      <td>219.000000</td>\n",
       "      <td>218.000000</td>\n",
       "      <td>924.000000</td>\n",
       "      <td>NaN</td>\n",
       "      <td>...</td>\n",
       "      <td>2.000000</td>\n",
       "      <td>3.0</td>\n",
       "      <td>2.003012e+07</td>\n",
       "      <td>2.003010e+07</td>\n",
       "      <td>NaN</td>\n",
       "      <td>443963.000000</td>\n",
       "      <td>4.477497e+06</td>\n",
       "      <td>NaN</td>\n",
       "      <td>NaN</td>\n",
       "      <td>NaN</td>\n",
       "    </tr>\n",
       "    <tr>\n",
       "      <th>max</th>\n",
       "      <td>40.559769</td>\n",
       "      <td>-3.447519</td>\n",
       "      <td>NaN</td>\n",
       "      <td>289.000000</td>\n",
       "      <td>20150709.0</td>\n",
       "      <td>4.0</td>\n",
       "      <td>345.000000</td>\n",
       "      <td>345.000000</td>\n",
       "      <td>1230.000000</td>\n",
       "      <td>NaN</td>\n",
       "      <td>...</td>\n",
       "      <td>4.000000</td>\n",
       "      <td>3.0</td>\n",
       "      <td>2.015032e+07</td>\n",
       "      <td>2.015032e+07</td>\n",
       "      <td>NaN</td>\n",
       "      <td>462079.000000</td>\n",
       "      <td>4.490276e+06</td>\n",
       "      <td>NaN</td>\n",
       "      <td>NaN</td>\n",
       "      <td>NaN</td>\n",
       "    </tr>\n",
       "  </tbody>\n",
       "</table>\n",
       "<p>8 rows × 36 columns</p>\n",
       "</div>"
      ],
      "text/plain": [
       "         latitude   longitude  altitude    OBJECTID  FECHAACTUAL   MODO  \\\n",
       "count  289.000000  289.000000       0.0  289.000000        289.0  289.0   \n",
       "mean    40.417125   -3.688834       NaN  145.000000   20150709.0    4.0   \n",
       "std      0.050602    0.062711       NaN   83.571327          0.0    0.0   \n",
       "min     40.282676   -3.874712       NaN    1.000000   20150709.0    4.0   \n",
       "25%     40.392664   -3.715963       NaN   73.000000   20150709.0    4.0   \n",
       "50%     40.423613   -3.694176       NaN  145.000000   20150709.0    4.0   \n",
       "75%     40.444266   -3.661785       NaN  217.000000   20150709.0    4.0   \n",
       "max     40.559769   -3.447519       NaN  289.000000   20150709.0    4.0   \n",
       "\n",
       "       CODIGOESTACION  CODIGOCTMESTACIONREDMETRO  CODIGOEMPRESA  \\\n",
       "count      289.000000                 289.000000     289.000000   \n",
       "mean       148.986159                 137.318339     642.647059   \n",
       "std         88.967885                  94.200007     348.285184   \n",
       "min          1.000000                   1.000000       1.000000   \n",
       "25%         73.000000                  52.000000     357.000000   \n",
       "50%        146.000000                 124.000000     617.000000   \n",
       "75%        219.000000                 218.000000     924.000000   \n",
       "max        345.000000                 345.000000    1230.000000   \n",
       "\n",
       "       DENOMINACIONABREVIADA  ...  ACONDICIONAMIENTOVIAJEROS  \\\n",
       "count                    0.0  ...                 289.000000   \n",
       "mean                     NaN  ...                   2.003460   \n",
       "std                      NaN  ...                   0.131716   \n",
       "min                      NaN  ...                   1.000000   \n",
       "25%                      NaN  ...                   2.000000   \n",
       "50%                      NaN  ...                   2.000000   \n",
       "75%                      NaN  ...                   2.000000   \n",
       "max                      NaN  ...                   4.000000   \n",
       "\n",
       "       ACONDICIONAMIENTOVEHICULOS     FECHAALTA   FECHAINICIO  FECHAFIN  \\\n",
       "count                       289.0  2.890000e+02  2.890000e+02       0.0   \n",
       "mean                          3.0  2.001113e+07  1.997319e+07       NaN   \n",
       "std                           0.0  3.391985e+04  5.925956e+04       NaN   \n",
       "min                           3.0  1.999040e+07  1.993070e+07       NaN   \n",
       "25%                           3.0  1.999040e+07  1.993070e+07       NaN   \n",
       "50%                           3.0  1.999040e+07  1.993070e+07       NaN   \n",
       "75%                           3.0  2.003012e+07  2.003010e+07       NaN   \n",
       "max                           3.0  2.015032e+07  2.015032e+07       NaN   \n",
       "\n",
       "                   X             Y  DENOMINACION_SAE  \\\n",
       "count     289.000000  2.890000e+02               0.0   \n",
       "mean   441668.415225  4.474493e+06               NaN   \n",
       "std      5340.276003  5.599776e+03               NaN   \n",
       "min    425790.000000  4.459646e+06               NaN   \n",
       "25%    439381.000000  4.471756e+06               NaN   \n",
       "50%    441203.000000  4.475173e+06               NaN   \n",
       "75%    443963.000000  4.477497e+06               NaN   \n",
       "max    462079.000000  4.490276e+06               NaN   \n",
       "\n",
       "       INTERURBANOS_CODIGOEMT_CRTM  INTERURBANOS_CODIGOEMT_EMPRESA  \n",
       "count                          0.0                             0.0  \n",
       "mean                           NaN                             NaN  \n",
       "std                            NaN                             NaN  \n",
       "min                            NaN                             NaN  \n",
       "25%                            NaN                             NaN  \n",
       "50%                            NaN                             NaN  \n",
       "75%                            NaN                             NaN  \n",
       "max                            NaN                             NaN  \n",
       "\n",
       "[8 rows x 36 columns]"
      ]
     },
     "execution_count": 9,
     "metadata": {},
     "output_type": "execute_result"
    }
   ],
   "source": [
    "dfc.describe()"
   ]
  },
  {
   "cell_type": "code",
   "execution_count": null,
   "id": "9386e3a7",
   "metadata": {},
   "outputs": [
    {
     "data": {
      "text/html": [
       "<div>\n",
       "<style scoped>\n",
       "    .dataframe tbody tr th:only-of-type {\n",
       "        vertical-align: middle;\n",
       "    }\n",
       "\n",
       "    .dataframe tbody tr th {\n",
       "        vertical-align: top;\n",
       "    }\n",
       "\n",
       "    .dataframe thead th {\n",
       "        text-align: right;\n",
       "    }\n",
       "</style>\n",
       "<table border=\"1\" class=\"dataframe\">\n",
       "  <thead>\n",
       "    <tr style=\"text-align: right;\">\n",
       "      <th></th>\n",
       "      <th>latitude</th>\n",
       "      <th>longitude</th>\n",
       "      <th>ENCUESTADOMICILIARIA</th>\n",
       "      <th>GRADOACCESIBILIDAD</th>\n",
       "    </tr>\n",
       "    <tr>\n",
       "      <th>DENOMINACION</th>\n",
       "      <th></th>\n",
       "      <th></th>\n",
       "      <th></th>\n",
       "      <th></th>\n",
       "    </tr>\n",
       "  </thead>\n",
       "  <tbody>\n",
       "    <tr>\n",
       "      <th>ABRANTES</th>\n",
       "      <td>40.380834</td>\n",
       "      <td>-3.727900</td>\n",
       "      <td>296</td>\n",
       "      <td>T</td>\n",
       "    </tr>\n",
       "    <tr>\n",
       "      <th>ACACIAS</th>\n",
       "      <td>40.403872</td>\n",
       "      <td>-3.706641</td>\n",
       "      <td>28</td>\n",
       "      <td>N</td>\n",
       "    </tr>\n",
       "    <tr>\n",
       "      <th>AEROPUERTO T1 T2 T3</th>\n",
       "      <td>40.468644</td>\n",
       "      <td>-3.569538</td>\n",
       "      <td>585</td>\n",
       "      <td>T</td>\n",
       "    </tr>\n",
       "    <tr>\n",
       "      <th>AEROPUERTO T4</th>\n",
       "      <td>40.491767</td>\n",
       "      <td>-3.593246</td>\n",
       "      <td>585</td>\n",
       "      <td>T</td>\n",
       "    </tr>\n",
       "    <tr>\n",
       "      <th>ALAMEDA DE OSUNA</th>\n",
       "      <td>40.457789</td>\n",
       "      <td>-3.587521</td>\n",
       "      <td>581</td>\n",
       "      <td>T</td>\n",
       "    </tr>\n",
       "    <tr>\n",
       "      <th>...</th>\n",
       "      <td>...</td>\n",
       "      <td>...</td>\n",
       "      <td>...</td>\n",
       "      <td>...</td>\n",
       "    </tr>\n",
       "    <tr>\n",
       "      <th>VILLA DE VALLECAS</th>\n",
       "      <td>40.379599</td>\n",
       "      <td>-3.621296</td>\n",
       "      <td>500</td>\n",
       "      <td>T</td>\n",
       "    </tr>\n",
       "    <tr>\n",
       "      <th>VILLAVERDE ALTO</th>\n",
       "      <td>40.341229</td>\n",
       "      <td>-3.711990</td>\n",
       "      <td>484</td>\n",
       "      <td>T</td>\n",
       "    </tr>\n",
       "    <tr>\n",
       "      <th>VILLAVERDE BAJO CRUCE</th>\n",
       "      <td>40.350895</td>\n",
       "      <td>-3.692649</td>\n",
       "      <td>481</td>\n",
       "      <td>T</td>\n",
       "    </tr>\n",
       "    <tr>\n",
       "      <th>VINATEROS</th>\n",
       "      <td>40.410240</td>\n",
       "      <td>-3.652734</td>\n",
       "      <td>380</td>\n",
       "      <td>N</td>\n",
       "    </tr>\n",
       "    <tr>\n",
       "      <th>VISTA ALEGRE</th>\n",
       "      <td>40.388847</td>\n",
       "      <td>-3.739825</td>\n",
       "      <td>289</td>\n",
       "      <td>N</td>\n",
       "    </tr>\n",
       "  </tbody>\n",
       "</table>\n",
       "<p>241 rows × 4 columns</p>\n",
       "</div>"
      ],
      "text/plain": [
       "                        latitude  longitude  ENCUESTADOMICILIARIA  \\\n",
       "DENOMINACION                                                        \n",
       "ABRANTES               40.380834  -3.727900                   296   \n",
       "ACACIAS                40.403872  -3.706641                    28   \n",
       "AEROPUERTO T1 T2 T3    40.468644  -3.569538                   585   \n",
       "AEROPUERTO T4          40.491767  -3.593246                   585   \n",
       "ALAMEDA DE OSUNA       40.457789  -3.587521                   581   \n",
       "...                          ...        ...                   ...   \n",
       "VILLA DE VALLECAS      40.379599  -3.621296                   500   \n",
       "VILLAVERDE ALTO        40.341229  -3.711990                   484   \n",
       "VILLAVERDE BAJO CRUCE  40.350895  -3.692649                   481   \n",
       "VINATEROS              40.410240  -3.652734                   380   \n",
       "VISTA ALEGRE           40.388847  -3.739825                   289   \n",
       "\n",
       "                      GRADOACCESIBILIDAD  \n",
       "DENOMINACION                              \n",
       "ABRANTES                               T  \n",
       "ACACIAS                                N  \n",
       "AEROPUERTO T1 T2 T3                    T  \n",
       "AEROPUERTO T4                          T  \n",
       "ALAMEDA DE OSUNA                       T  \n",
       "...                                  ...  \n",
       "VILLA DE VALLECAS                      T  \n",
       "VILLAVERDE ALTO                        T  \n",
       "VILLAVERDE BAJO CRUCE                  T  \n",
       "VINATEROS                              N  \n",
       "VISTA ALEGRE                           N  \n",
       "\n",
       "[241 rows x 4 columns]"
      ]
     },
     "execution_count": 13,
     "metadata": {},
     "output_type": "execute_result"
    }
   ],
   "source": [
    "# first se usa para tomar el primer valor de un grupo\n",
    "estaciones = dfc.groupby('DENOMINACION').agg({\n",
    "    'latitude':'first',\n",
    "    'longitude':'first',\n",
    "    'ENCUESTADOMICILIARIA':'sum',\n",
    "    'GRADOACCESIBILIDAD':'first'\n",
    "})\n",
    "estaciones"
   ]
  },
  {
   "cell_type": "code",
   "execution_count": 14,
   "id": "4479ae48",
   "metadata": {},
   "outputs": [],
   "source": [
    "import plotly.express as px"
   ]
  },
  {
   "cell_type": "code",
   "execution_count": 16,
   "id": "ca2c8eb5",
   "metadata": {},
   "outputs": [],
   "source": [
    "estaciones = estaciones.reset_index()"
   ]
  },
  {
   "cell_type": "code",
   "execution_count": null,
   "id": "779869cf",
   "metadata": {},
   "outputs": [
    {
     "name": "stderr",
     "output_type": "stream",
     "text": [
      "C:\\Users\\Scort\\AppData\\Local\\Temp\\ipykernel_25468\\778804304.py:1: DeprecationWarning:\n",
      "\n",
      "*scatter_mapbox* is deprecated! Use *scatter_map* instead. Learn more at: https://plotly.com/python/mapbox-to-maplibre/\n",
      "\n"
     ]
    },
    {
     "data": {
      "application/vnd.plotly.v1+json": {
       "config": {
        "plotlyServerURL": "https://plot.ly"
       },
       "data": [
        {
         "hovertemplate": "<b>%{hovertext}</b><br><br>latitude=%{lat}<br>longitude=%{lon}<br>ENCUESTADOMICILIARIA=%{marker.color}<extra></extra>",
         "hovertext": [
          "ABRANTES",
          "ACACIAS",
          "AEROPUERTO T1 T2 T3",
          "AEROPUERTO T4",
          "ALAMEDA DE OSUNA",
          "ALCORCON CENTRAL",
          "ALFONSO XIII",
          "ALMENDRALES",
          "ALONSO CANO",
          "ALONSO DE MENDOZA",
          "ALONSO MARTINEZ",
          "ALSACIA",
          "ALTO DE EXTREMADURA",
          "ALTO DEL ARENAL",
          "ALUCHE",
          "ALVARADO",
          "ANTON MARTIN",
          "ANTONIO MACHADO",
          "ARGANDA DEL REY",
          "ARGANZUELA-PLANETARIO",
          "ARGÜELLES",
          "ARROYO CULEBRO",
          "ARTILLEROS",
          "ARTURO SORIA",
          "ASCAO",
          "ATOCHA RENFE",
          "AVDA. DE LA ILUSTRACION",
          "AVENIDA DE AMERICA",
          "AVENIDA DE GUADALAJARA",
          "AVENIDA DE LA PAZ",
          "AVIACION ESPAÑOLA",
          "BAMBU",
          "BANCO DE ESPAÑA",
          "BARAJAS",
          "BARRIO DE LA CONCEPCION",
          "BARRIO DEL PILAR",
          "BARRIO DEL PUERTO",
          "BATAN",
          "BAUNATAL",
          "BEGOÑA",
          "BILBAO",
          "BUENOS AIRES",
          "CALLAO",
          "CAMPAMENTO",
          "CANAL",
          "CANILLAS",
          "CANILLEJAS",
          "CARABANCHEL",
          "CARABANCHEL ALTO",
          "CARPETANA",
          "CARTAGENA",
          "CASA DE CAMPO",
          "CASA DEL RELOJ",
          "CHAMARTIN",
          "CHUECA",
          "CIUDAD DE LOS ANGELES",
          "CIUDAD LINEAL",
          "CIUDAD UNIVERSITARIA",
          "COLOMBIA",
          "COLON",
          "COLONIA JARDIN",
          "CONCHA ESPINA",
          "CONDE DE CASAL",
          "CONGOSTO",
          "CONSERVATORIO",
          "COSLADA CENTRAL",
          "CRUZ DEL RAYO",
          "CUATRO CAMINOS",
          "CUATRO VIENTOS",
          "CUZCO",
          "DELICIAS",
          "DIEGO DE LEON",
          "DUQUE DE PASTRANA",
          "EL BERCIAL",
          "EL CAPRICHO",
          "EL CARMEN",
          "EL CARRASCAL",
          "EL CASAR",
          "EMBAJADORES",
          "EMPALME",
          "ESPERANZA",
          "ESTACIÓN DEL ARTE",
          "ESTADIO METROPOLITANO",
          "ESTRECHO",
          "ESTRELLA",
          "EUGENIA DE MONTIJO",
          "FERIA DE MADRID",
          "FRANCOS RODRIGUEZ",
          "FUENCARRAL",
          "FUENLABRADA CENTRAL",
          "GARCIA NOBLEJAS",
          "GETAFE CENTRAL",
          "GOYA",
          "GRAN VIA",
          "GREGORIO MARAÑON",
          "GUZMAN EL BUENO",
          "HENARES",
          "HERRERA ORIA",
          "HORTALEZA",
          "HOSPITAL 12 DE OCTUBRE",
          "HOSPITAL DE FUENLABRADA",
          "HOSPITAL DE MOSTOLES",
          "HOSPITAL DEL HENARES",
          "HOSPITAL INFANTA SOFIA",
          "HOSPITAL SEVERO OCHOA",
          "IBIZA",
          "IGLESIA",
          "ISLAS FILIPINAS",
          "JARAMA",
          "JOAQUIN VILUMBRALES",
          "JUAN DE LA CIERVA",
          "JULIAN BESTEIRO",
          "LA ALMUDENA",
          "LA ELIPA",
          "LA FORTUNA",
          "LA GAVIA",
          "LA GRANJA",
          "LA LATINA",
          "LA MORALEJA",
          "LA PESETA",
          "LA POVEDA",
          "LA RAMBLA",
          "LACOMA",
          "LAGO",
          "LAGUNA",
          "LAS MUSAS",
          "LAS ROSAS",
          "LAS SUERTES",
          "LAS TABLAS",
          "LAVAPIES",
          "LEGANES CENTRAL",
          "LEGAZPI",
          "LISTA",
          "LORANCA",
          "LOS ESPARTALES",
          "LUCERO",
          "MANOTERAS",
          "MANUEL BECERRA",
          "MANUEL DE FALLA",
          "MANUELA MALASAÑA",
          "MAR DE CRISTAL",
          "MARQUES DE LA VALDAVIA",
          "MARQUES DE VADILLO",
          "MENDEZ ALVARO",
          "MENENDEZ PELAYO",
          "MIGUEL HERNANDEZ",
          "MIRASIERRA",
          "MONCLOA",
          "MONTECARMELO",
          "MOSTOLES CENTRAL",
          "NOVICIADO",
          "NUEVA NUMANCIA",
          "NUEVOS MINISTERIOS",
          "NUÑEZ DE BALBOA",
          "O'DONNELL",
          "OPAÑEL",
          "OPERA",
          "OPORTO",
          "PACIFICO",
          "PACO DE LUCIA",
          "PALOS DE LA FRONTERA",
          "PAN BENDITO",
          "PARQUE DE LAS AVENIDAS",
          "PARQUE DE LOS ESTADOS",
          "PARQUE DE SANTA MARIA",
          "PARQUE EUROPA",
          "PARQUE LISBOA",
          "PARQUE OESTE",
          "PAVONES",
          "PEÑAGRANDE",
          "PINAR DE CHAMARTIN",
          "PINAR DEL REY",
          "PIO XII",
          "PIRAMIDES",
          "PITIS",
          "PLAZA DE CASTILLA",
          "PLAZA DE ESPAÑA",
          "PLAZA ELIPTICA",
          "PORTAZGO",
          "PRADILLO",
          "PRINCIPE DE VERGARA",
          "PRINCIPE PIO",
          "PROSPERIDAD",
          "PUEBLO NUEVO",
          "PUENTE DE VALLECAS",
          "PUERTA DE ARGANDA",
          "PUERTA DE TOLEDO",
          "PUERTA DEL ANGEL",
          "PUERTA DEL SUR",
          "QUEVEDO",
          "QUINTANA",
          "REPUBLICA ARGENTINA",
          "RETIRO",
          "REYES CATOLICOS",
          "RIOS ROSAS",
          "RIVAS FUTURA",
          "RIVAS URBANIZACIONES",
          "RIVAS VACIAMADRID",
          "RONDA DE LA COMUNICACION",
          "RUBEN DARIO",
          "SAINZ DE BARANDA",
          "SAN BERNARDO",
          "SAN BLAS",
          "SAN CIPRIANO",
          "SAN CRISTOBAL",
          "SAN FERMIN-ORCASUR",
          "SAN FERNANDO",
          "SAN FRANCISCO",
          "SAN LORENZO",
          "SAN NICASIO",
          "SANTIAGO BERNABEU",
          "SANTO DOMINGO",
          "SERRANO",
          "SEVILLA",
          "SIERRA DE GUADALUPE",
          "SIMANCAS",
          "SOL",
          "SUANZES",
          "TETUAN",
          "TIRSO DE MOLINA",
          "TORRE ARIAS",
          "TRES OLIVOS",
          "TRIBUNAL",
          "UNIVERSIDAD REY JUAN CARLOS",
          "URGEL",
          "USERA",
          "VALDEACEDERAS",
          "VALDEBERNARDO",
          "VALDECARROS",
          "VALDEZARZA",
          "VELAZQUEZ",
          "VENTAS",
          "VENTILLA",
          "VENTURA RODRIGUEZ",
          "VICALVARO",
          "VICENTE ALEIXANDRE",
          "VILLA DE VALLECAS",
          "VILLAVERDE ALTO",
          "VILLAVERDE BAJO CRUCE",
          "VINATEROS",
          "VISTA ALEGRE"
         ],
         "lat": {
          "bdata": "dj7oJ78wREAEzeYQsjNEQNxVy4j8O0RAKDOuNvI+RED1/FnRmDpEQL8rTJDPLERAb9EDNGA5RECo6Aj6KTFEQAjiL68cOERAx1NoEoEmREChp9/w2TZEQKPTcZ2KNURAgl2qdHg0REDCDTsE5DFEQNy2UkdcMURAip5qeqQ5REANtyqbyzREQPOJIRgwPERAKbKHot4mREBBzX4wUTJEQGN9ueUfN0RAML6DffUkRECxlORf3jNEQGmFFrhYOkRAL0uN+RA3REDxuGcJCzREQBComwB0PURA4TeVcxE4RECFRzL+EDZEQPkdYK8NOkRAe//aGBsxRECfNydJCD1EQH+Zc/6oNURAvff0KuY8REDwVL1oNDhEQIMrdbMKPURAwtyfYBQ2REDKNmjDNDREQPRp81b3RkRA7fvDK349REChOhiR5DZEQBn8e7seMkRAeJ2/ScU1REDjH4MPiTJEQBEmXmcnOERAYe/HJF47REB/WEqfhjlEQESi11CkMURA95V9xp0vREDsoksORDJEQPz9BjY8OERAb81WcZ0zRECbkDMezilEQIZGDOBtPERAgB+krCI2REC5+zLlBi5EQFYdYvgROERAh5IyusY4REBjIy4GjzpEQIMvwSJ0NkRA3+w8F9AyREDK+O4PyTlEQO/nmoYXNERAfSq7OaovREBu16wDiSVEQBVn7fw8NkRAnQhTtN04RECN7K12NjlEQLFeB7NYMERAQcuVja06REDgs2wUMDNEQBR+ZNRqN0RASn/1Kds7RECdLRgLHypEQJ5eFUALOkRAPHSGR0g3REC6zUP2FitEQNpuxaTIKERAKi7eNdszREAHTRVI/jFEQFLWRSvPOkRAVfjJP1U0REAZQQxweTdEQMHyKhwmOkRALFomH6s0REBR9cWNMzFEQFDdzNlgO0RADbsN/206REBRo1rzXj9EQMnMRLguJERAnR40ktY2REDTuby3qydEQDOaBJpXNkRAXPcZH8I1RECKQcybGDhEQKT7D4YiOURAWTByeHk1REA8LBNuCT5EQOMJ//rYPERAD9wTBwEwRECaP8GikyREQGQHH96DKERAfl29PnQ1RECvpniGpkdEQFttqcQvKURAYjXb1401RECEv5GSqzdEQLQZEmMzOERArSgOYiM2REDsKo3SxyxEQMfvzyPpJ0RAsj8LD9kqREDjz9b1ODZEQIoRwGSbNkRAvx57aNEtRECyV79wYi9EQNi2aWKIQ0RAZJl01aQ0REBLI2YfF0REQAqTdeSeLkRAElXpgdUoREASPggaazZEQACH7fgUPkRAlCa+Dk01RED63NL0GTNEQGOHrCdsN0RAeIh6Yz02REAcroNBfi5EQEXFHvYQQURA5s8pFko0RECT4yMwHCpEQBP3GHURMkRAVnx7/u42RED9kxb1/SVEQFXRVEWAKURAC5YrTtozREAn+vM2Cj1EQGNb8ZLFNkRAMYfFIHZGREBApv9LjidEQMGfl8QUPERASt2UQkBFREDd5ieS3DJEQKiC6qqbMkRAdPziCMUzREDLavmPkzFEQG2SzkrcPkRAx2C92a43REC9zk0arEBEQDg7j0sMKkRA5Jb1OmE2REB/ZJf+oDJEQE50TOIqOURAba91fg43REBO2jg1ITZEQGR6YRWGMURAvfSbEYQ1REAckZ42uTFEQFmM2otcM0RAH0YxsfQ/REAvzmLflzNEQC0Ep3YcMERAuS2s0T84REAEThcJtyREQMdeyBQSPURA9gcho4AkRECF+4aNwixEQJ7fXURGLERA4opj9kMzREBRb9kP6zxEQJLUDzp1PURAk0v4d+c7REBILamsQztEQKwJMVaIM0RA9YfUoF8/RECrYABEwztEQOMHonpINkRA+gEakzoxREB2JknRQjJEQD669bUsKURAAKOmDiM2RED8/nmV5TVEQOOYLi/bOERAciWCqMM3REBqCt319zJEQCHgx1BeM0RAuNtivxk0REAupJOj+jREQBMZI+swLERA11Q8qnM3REAaNhy2fzdEQEVQokLOOERAngZLnMw1REBAkbuuckZEQOCXAqaSOERABTSGGbErREBrVlxe8i5EQGI+8Q4IKkRAecoQCv1BREC2KCO4cTdEQOdYXqcfNURA0T6AqAo3REBkQlVwyDZEQKMDihqwM0RA169qpbcrREAwROHcWy9EQDMo/iNTNkRAPxQ6FtIvRECjtwp1uzxEQLgq32QHK0RAOKWarM05REDSnc2p7TVEQIavnY90NkRAdKHZr4I1REDnXhbC6jBEQFOKPnTINkRANAPcMVw1REC4tUPQbThEQAoUNV3zOkRAuGKF0sc0REDB9ZCUzDhEQMzRJXknQERA3ws4Po02RECIUEhP5SpEQOyryllZMkRA1v1qYowxREDLRmFAcjtEQLRIjb40M0RAXS5sthYuRECb+GdWfztEQJLZdHdnNkRAYgi1Oyc3REB531t1FjxEQBpie8yqNkRA1rzeWL0zREAQefPTJDlEQHbT8q+WMERATOdwYa0rRECxxp8e6ixEQNO08L2CNERAFGNFvcUxREA=",
          "dtype": "f8"
         },
         "legendgroup": "",
         "lon": {
          "bdata": "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",
          "dtype": "f8"
         },
         "marker": {
          "color": {
           "bdata": "KAEcAEkCSQJFApECYwBFAYYA1gKiATcCCQFaAQABdgAUANAAeQMoABEB2wKBAZEBpAEhAK8AnAE7ApEB8ABTAAoAPwKYAcYAhgPgAHMCwwAVAVkBGgD7AAQBxwEjAiABMgEfAWcAwAH/AqwABADTAZ8B2wC8AIwA+QBhADkA9gHbAoIDYQBhAekAXAAnANMAWADBAkYCmgH7AsUCFgD+AMoBFwArAm8AewEqAUIC2QCiALsCpwHSApYAHAAJAfIAogO5AL0BRgGxAiIDiQNtAgIDMACFAH4AoQOPAswC9AKoAaoB5AIAAlECEwBWAjEBdgODA6wA4AAIATYCPAIDApgAFADvAk8ASACmAsMCBgG6AZgATAIoA4gDUgIUASwAPABcAZ8AxQGRABMDBwBfAWgBigBOAB0BJAA2An8AoAAeAC4BRQC2Ar4BswKNAosCigGyABoDwQFaABsAngAXAe4AUgJmARsDlgCyAmEAPANfARMCFgAMARwFigCdAWAALwB1AoEAlAOSA5YDmQCHAHAAFAE0AhMC5AFQAaEDMwHCAesCYAAMAEYADwBeATECKgAmAnAAEwAhApQABwAOAxwBPAFwAAoCBQLSAEoAkgBqAAYADgLdAPQB5AHhAXwBIQE=",
           "dtype": "i2"
          },
          "coloraxis": "coloraxis",
          "size": 10
         },
         "mode": "markers",
         "name": "",
         "showlegend": false,
         "subplot": "mapbox",
         "type": "scattermapbox"
        }
       ],
       "layout": {
        "coloraxis": {
         "colorbar": {
          "title": {
           "text": "ENCUESTADOMICILIARIA"
          }
         },
         "colorscale": [
          [
           0,
           "rgb(253, 237, 176)"
          ],
          [
           0.09090909090909091,
           "rgb(250, 205, 145)"
          ],
          [
           0.18181818181818182,
           "rgb(246, 173, 119)"
          ],
          [
           0.2727272727272727,
           "rgb(240, 142, 98)"
          ],
          [
           0.36363636363636365,
           "rgb(231, 109, 84)"
          ],
          [
           0.45454545454545453,
           "rgb(216, 80, 83)"
          ],
          [
           0.5454545454545454,
           "rgb(195, 56, 90)"
          ],
          [
           0.6363636363636364,
           "rgb(168, 40, 96)"
          ],
          [
           0.7272727272727273,
           "rgb(138, 29, 99)"
          ],
          [
           0.8181818181818182,
           "rgb(107, 24, 93)"
          ],
          [
           0.9090909090909091,
           "rgb(76, 21, 80)"
          ],
          [
           1,
           "rgb(47, 15, 61)"
          ]
         ]
        },
        "legend": {
         "tracegroupgap": 0
        },
        "mapbox": {
         "center": {
          "lat": 40.41464064594003,
          "lon": -3.687291669282285
         },
         "domain": {
          "x": [
           0,
           1
          ],
          "y": [
           0,
           1
          ]
         },
         "style": "carto-positron",
         "zoom": 10
        },
        "margin": {
         "b": 0,
         "l": 0,
         "r": 0,
         "t": 0
        },
        "template": {
         "data": {
          "bar": [
           {
            "error_x": {
             "color": "#2a3f5f"
            },
            "error_y": {
             "color": "#2a3f5f"
            },
            "marker": {
             "line": {
              "color": "#E5ECF6",
              "width": 0.5
             },
             "pattern": {
              "fillmode": "overlay",
              "size": 10,
              "solidity": 0.2
             }
            },
            "type": "bar"
           }
          ],
          "barpolar": [
           {
            "marker": {
             "line": {
              "color": "#E5ECF6",
              "width": 0.5
             },
             "pattern": {
              "fillmode": "overlay",
              "size": 10,
              "solidity": 0.2
             }
            },
            "type": "barpolar"
           }
          ],
          "carpet": [
           {
            "aaxis": {
             "endlinecolor": "#2a3f5f",
             "gridcolor": "white",
             "linecolor": "white",
             "minorgridcolor": "white",
             "startlinecolor": "#2a3f5f"
            },
            "baxis": {
             "endlinecolor": "#2a3f5f",
             "gridcolor": "white",
             "linecolor": "white",
             "minorgridcolor": "white",
             "startlinecolor": "#2a3f5f"
            },
            "type": "carpet"
           }
          ],
          "choropleth": [
           {
            "colorbar": {
             "outlinewidth": 0,
             "ticks": ""
            },
            "type": "choropleth"
           }
          ],
          "contour": [
           {
            "colorbar": {
             "outlinewidth": 0,
             "ticks": ""
            },
            "colorscale": [
             [
              0,
              "#0d0887"
             ],
             [
              0.1111111111111111,
              "#46039f"
             ],
             [
              0.2222222222222222,
              "#7201a8"
             ],
             [
              0.3333333333333333,
              "#9c179e"
             ],
             [
              0.4444444444444444,
              "#bd3786"
             ],
             [
              0.5555555555555556,
              "#d8576b"
             ],
             [
              0.6666666666666666,
              "#ed7953"
             ],
             [
              0.7777777777777778,
              "#fb9f3a"
             ],
             [
              0.8888888888888888,
              "#fdca26"
             ],
             [
              1,
              "#f0f921"
             ]
            ],
            "type": "contour"
           }
          ],
          "contourcarpet": [
           {
            "colorbar": {
             "outlinewidth": 0,
             "ticks": ""
            },
            "type": "contourcarpet"
           }
          ],
          "heatmap": [
           {
            "colorbar": {
             "outlinewidth": 0,
             "ticks": ""
            },
            "colorscale": [
             [
              0,
              "#0d0887"
             ],
             [
              0.1111111111111111,
              "#46039f"
             ],
             [
              0.2222222222222222,
              "#7201a8"
             ],
             [
              0.3333333333333333,
              "#9c179e"
             ],
             [
              0.4444444444444444,
              "#bd3786"
             ],
             [
              0.5555555555555556,
              "#d8576b"
             ],
             [
              0.6666666666666666,
              "#ed7953"
             ],
             [
              0.7777777777777778,
              "#fb9f3a"
             ],
             [
              0.8888888888888888,
              "#fdca26"
             ],
             [
              1,
              "#f0f921"
             ]
            ],
            "type": "heatmap"
           }
          ],
          "histogram": [
           {
            "marker": {
             "pattern": {
              "fillmode": "overlay",
              "size": 10,
              "solidity": 0.2
             }
            },
            "type": "histogram"
           }
          ],
          "histogram2d": [
           {
            "colorbar": {
             "outlinewidth": 0,
             "ticks": ""
            },
            "colorscale": [
             [
              0,
              "#0d0887"
             ],
             [
              0.1111111111111111,
              "#46039f"
             ],
             [
              0.2222222222222222,
              "#7201a8"
             ],
             [
              0.3333333333333333,
              "#9c179e"
             ],
             [
              0.4444444444444444,
              "#bd3786"
             ],
             [
              0.5555555555555556,
              "#d8576b"
             ],
             [
              0.6666666666666666,
              "#ed7953"
             ],
             [
              0.7777777777777778,
              "#fb9f3a"
             ],
             [
              0.8888888888888888,
              "#fdca26"
             ],
             [
              1,
              "#f0f921"
             ]
            ],
            "type": "histogram2d"
           }
          ],
          "histogram2dcontour": [
           {
            "colorbar": {
             "outlinewidth": 0,
             "ticks": ""
            },
            "colorscale": [
             [
              0,
              "#0d0887"
             ],
             [
              0.1111111111111111,
              "#46039f"
             ],
             [
              0.2222222222222222,
              "#7201a8"
             ],
             [
              0.3333333333333333,
              "#9c179e"
             ],
             [
              0.4444444444444444,
              "#bd3786"
             ],
             [
              0.5555555555555556,
              "#d8576b"
             ],
             [
              0.6666666666666666,
              "#ed7953"
             ],
             [
              0.7777777777777778,
              "#fb9f3a"
             ],
             [
              0.8888888888888888,
              "#fdca26"
             ],
             [
              1,
              "#f0f921"
             ]
            ],
            "type": "histogram2dcontour"
           }
          ],
          "mesh3d": [
           {
            "colorbar": {
             "outlinewidth": 0,
             "ticks": ""
            },
            "type": "mesh3d"
           }
          ],
          "parcoords": [
           {
            "line": {
             "colorbar": {
              "outlinewidth": 0,
              "ticks": ""
             }
            },
            "type": "parcoords"
           }
          ],
          "pie": [
           {
            "automargin": true,
            "type": "pie"
           }
          ],
          "scatter": [
           {
            "fillpattern": {
             "fillmode": "overlay",
             "size": 10,
             "solidity": 0.2
            },
            "type": "scatter"
           }
          ],
          "scatter3d": [
           {
            "line": {
             "colorbar": {
              "outlinewidth": 0,
              "ticks": ""
             }
            },
            "marker": {
             "colorbar": {
              "outlinewidth": 0,
              "ticks": ""
             }
            },
            "type": "scatter3d"
           }
          ],
          "scattercarpet": [
           {
            "marker": {
             "colorbar": {
              "outlinewidth": 0,
              "ticks": ""
             }
            },
            "type": "scattercarpet"
           }
          ],
          "scattergeo": [
           {
            "marker": {
             "colorbar": {
              "outlinewidth": 0,
              "ticks": ""
             }
            },
            "type": "scattergeo"
           }
          ],
          "scattergl": [
           {
            "marker": {
             "colorbar": {
              "outlinewidth": 0,
              "ticks": ""
             }
            },
            "type": "scattergl"
           }
          ],
          "scattermap": [
           {
            "marker": {
             "colorbar": {
              "outlinewidth": 0,
              "ticks": ""
             }
            },
            "type": "scattermap"
           }
          ],
          "scattermapbox": [
           {
            "marker": {
             "colorbar": {
              "outlinewidth": 0,
              "ticks": ""
             }
            },
            "type": "scattermapbox"
           }
          ],
          "scatterpolar": [
           {
            "marker": {
             "colorbar": {
              "outlinewidth": 0,
              "ticks": ""
             }
            },
            "type": "scatterpolar"
           }
          ],
          "scatterpolargl": [
           {
            "marker": {
             "colorbar": {
              "outlinewidth": 0,
              "ticks": ""
             }
            },
            "type": "scatterpolargl"
           }
          ],
          "scatterternary": [
           {
            "marker": {
             "colorbar": {
              "outlinewidth": 0,
              "ticks": ""
             }
            },
            "type": "scatterternary"
           }
          ],
          "surface": [
           {
            "colorbar": {
             "outlinewidth": 0,
             "ticks": ""
            },
            "colorscale": [
             [
              0,
              "#0d0887"
             ],
             [
              0.1111111111111111,
              "#46039f"
             ],
             [
              0.2222222222222222,
              "#7201a8"
             ],
             [
              0.3333333333333333,
              "#9c179e"
             ],
             [
              0.4444444444444444,
              "#bd3786"
             ],
             [
              0.5555555555555556,
              "#d8576b"
             ],
             [
              0.6666666666666666,
              "#ed7953"
             ],
             [
              0.7777777777777778,
              "#fb9f3a"
             ],
             [
              0.8888888888888888,
              "#fdca26"
             ],
             [
              1,
              "#f0f921"
             ]
            ],
            "type": "surface"
           }
          ],
          "table": [
           {
            "cells": {
             "fill": {
              "color": "#EBF0F8"
             },
             "line": {
              "color": "white"
             }
            },
            "header": {
             "fill": {
              "color": "#C8D4E3"
             },
             "line": {
              "color": "white"
             }
            },
            "type": "table"
           }
          ]
         },
         "layout": {
          "annotationdefaults": {
           "arrowcolor": "#2a3f5f",
           "arrowhead": 0,
           "arrowwidth": 1
          },
          "autotypenumbers": "strict",
          "coloraxis": {
           "colorbar": {
            "outlinewidth": 0,
            "ticks": ""
           }
          },
          "colorscale": {
           "diverging": [
            [
             0,
             "#8e0152"
            ],
            [
             0.1,
             "#c51b7d"
            ],
            [
             0.2,
             "#de77ae"
            ],
            [
             0.3,
             "#f1b6da"
            ],
            [
             0.4,
             "#fde0ef"
            ],
            [
             0.5,
             "#f7f7f7"
            ],
            [
             0.6,
             "#e6f5d0"
            ],
            [
             0.7,
             "#b8e186"
            ],
            [
             0.8,
             "#7fbc41"
            ],
            [
             0.9,
             "#4d9221"
            ],
            [
             1,
             "#276419"
            ]
           ],
           "sequential": [
            [
             0,
             "#0d0887"
            ],
            [
             0.1111111111111111,
             "#46039f"
            ],
            [
             0.2222222222222222,
             "#7201a8"
            ],
            [
             0.3333333333333333,
             "#9c179e"
            ],
            [
             0.4444444444444444,
             "#bd3786"
            ],
            [
             0.5555555555555556,
             "#d8576b"
            ],
            [
             0.6666666666666666,
             "#ed7953"
            ],
            [
             0.7777777777777778,
             "#fb9f3a"
            ],
            [
             0.8888888888888888,
             "#fdca26"
            ],
            [
             1,
             "#f0f921"
            ]
           ],
           "sequentialminus": [
            [
             0,
             "#0d0887"
            ],
            [
             0.1111111111111111,
             "#46039f"
            ],
            [
             0.2222222222222222,
             "#7201a8"
            ],
            [
             0.3333333333333333,
             "#9c179e"
            ],
            [
             0.4444444444444444,
             "#bd3786"
            ],
            [
             0.5555555555555556,
             "#d8576b"
            ],
            [
             0.6666666666666666,
             "#ed7953"
            ],
            [
             0.7777777777777778,
             "#fb9f3a"
            ],
            [
             0.8888888888888888,
             "#fdca26"
            ],
            [
             1,
             "#f0f921"
            ]
           ]
          },
          "colorway": [
           "#636efa",
           "#EF553B",
           "#00cc96",
           "#ab63fa",
           "#FFA15A",
           "#19d3f3",
           "#FF6692",
           "#B6E880",
           "#FF97FF",
           "#FECB52"
          ],
          "font": {
           "color": "#2a3f5f"
          },
          "geo": {
           "bgcolor": "white",
           "lakecolor": "white",
           "landcolor": "#E5ECF6",
           "showlakes": true,
           "showland": true,
           "subunitcolor": "white"
          },
          "hoverlabel": {
           "align": "left"
          },
          "hovermode": "closest",
          "mapbox": {
           "style": "light"
          },
          "paper_bgcolor": "white",
          "plot_bgcolor": "#E5ECF6",
          "polar": {
           "angularaxis": {
            "gridcolor": "white",
            "linecolor": "white",
            "ticks": ""
           },
           "bgcolor": "#E5ECF6",
           "radialaxis": {
            "gridcolor": "white",
            "linecolor": "white",
            "ticks": ""
           }
          },
          "scene": {
           "xaxis": {
            "backgroundcolor": "#E5ECF6",
            "gridcolor": "white",
            "gridwidth": 2,
            "linecolor": "white",
            "showbackground": true,
            "ticks": "",
            "zerolinecolor": "white"
           },
           "yaxis": {
            "backgroundcolor": "#E5ECF6",
            "gridcolor": "white",
            "gridwidth": 2,
            "linecolor": "white",
            "showbackground": true,
            "ticks": "",
            "zerolinecolor": "white"
           },
           "zaxis": {
            "backgroundcolor": "#E5ECF6",
            "gridcolor": "white",
            "gridwidth": 2,
            "linecolor": "white",
            "showbackground": true,
            "ticks": "",
            "zerolinecolor": "white"
           }
          },
          "shapedefaults": {
           "line": {
            "color": "#2a3f5f"
           }
          },
          "ternary": {
           "aaxis": {
            "gridcolor": "white",
            "linecolor": "white",
            "ticks": ""
           },
           "baxis": {
            "gridcolor": "white",
            "linecolor": "white",
            "ticks": ""
           },
           "bgcolor": "#E5ECF6",
           "caxis": {
            "gridcolor": "white",
            "linecolor": "white",
            "ticks": ""
           }
          },
          "title": {
           "x": 0.05
          },
          "xaxis": {
           "automargin": true,
           "gridcolor": "white",
           "linecolor": "white",
           "ticks": "",
           "title": {
            "standoff": 15
           },
           "zerolinecolor": "white",
           "zerolinewidth": 2
          },
          "yaxis": {
           "automargin": true,
           "gridcolor": "white",
           "linecolor": "white",
           "ticks": "",
           "title": {
            "standoff": 15
           },
           "zerolinecolor": "white",
           "zerolinewidth": 2
          }
         }
        }
       }
      }
     },
     "metadata": {},
     "output_type": "display_data"
    }
   ],
   "source": [
    "fig = px.scatter_mapbox(\n",
    "    estaciones,\n",
    "    lat='latitude',\n",
    "    lon='longitude',\n",
    "    mapbox_style='carto-positron', # open-street-map, carto-positron, stamen-terrain\n",
    "    zoom=10,\n",
    "    hover_name='DENOMINACION',\n",
    "    color='ENCUESTADOMICILIARIA',\n",
    "    color_continuous_scale='matter',\n",
    ")\n",
    "fig.update_traces(\n",
    "    marker={\n",
    "        'size':10,\n",
    "    }\n",
    ")\n",
    "fig.update_layout(\n",
    "    margin={\n",
    "        'r':0,  # tight\n",
    "        't':0,  # top\n",
    "        'l':0,  # left\n",
    "        'b':0,  # bottom\n",
    "    }\n",
    ")\n",
    "fig.show()"
   ]
  },
  {
   "cell_type": "code",
   "execution_count": 24,
   "id": "620d841a",
   "metadata": {},
   "outputs": [
    {
     "name": "stderr",
     "output_type": "stream",
     "text": [
      "C:\\Users\\Scort\\AppData\\Local\\Temp\\ipykernel_25468\\3616636629.py:1: DeprecationWarning:\n",
      "\n",
      "*scatter_mapbox* is deprecated! Use *scatter_map* instead. Learn more at: https://plotly.com/python/mapbox-to-maplibre/\n",
      "\n"
     ]
    },
    {
     "data": {
      "application/vnd.plotly.v1+json": {
       "config": {
        "plotlyServerURL": "https://plot.ly"
       },
       "data": [
        {
         "hovertemplate": "<b>%{hovertext}</b><br><br>GRADOACCESIBILIDAD=T<br>ENCUESTADOMICILIARIA=%{marker.size}<br>latitude=%{lat}<br>longitude=%{lon}<extra></extra>",
         "hovertext": [
          "ABRANTES",
          "AEROPUERTO T1 T2 T3",
          "AEROPUERTO T4",
          "ALAMEDA DE OSUNA",
          "ALCORCON CENTRAL",
          "ALMENDRALES",
          "ALONSO CANO",
          "ALONSO DE MENDOZA",
          "ALSACIA",
          "ALTO DEL ARENAL",
          "ALUCHE",
          "ANTONIO MACHADO",
          "ARGANDA DEL REY",
          "ARGANZUELA-PLANETARIO",
          "ARROYO CULEBRO",
          "ATOCHA RENFE",
          "AVDA. DE LA ILUSTRACION",
          "AVENIDA DE GUADALAJARA",
          "AVIACION ESPAÑOLA",
          "BAMBU",
          "BARAJAS",
          "BARRIO DEL PUERTO",
          "BATAN",
          "BAUNATAL",
          "CALLAO",
          "CANAL",
          "CANILLAS",
          "CARABANCHEL ALTO",
          "CASA DE CAMPO",
          "CASA DEL RELOJ",
          "CHAMARTIN",
          "CIUDAD DE LOS ANGELES",
          "CIUDAD UNIVERSITARIA",
          "COLOMBIA",
          "COLONIA JARDIN",
          "CONDE DE CASAL",
          "CONGOSTO",
          "CONSERVATORIO",
          "COSLADA CENTRAL",
          "CUATRO CAMINOS",
          "CUATRO VIENTOS",
          "DELICIAS",
          "EL BERCIAL",
          "EL CAPRICHO",
          "EL CARRASCAL",
          "EL CASAR",
          "EMBAJADORES",
          "EMPALME",
          "ESTADIO METROPOLITANO",
          "EUGENIA DE MONTIJO",
          "FERIA DE MADRID",
          "FRANCOS RODRIGUEZ",
          "FUENLABRADA CENTRAL",
          "GETAFE CENTRAL",
          "GOYA",
          "GREGORIO MARAÑON",
          "GUZMAN EL BUENO",
          "HENARES",
          "HORTALEZA",
          "HOSPITAL 12 DE OCTUBRE",
          "HOSPITAL DE FUENLABRADA",
          "HOSPITAL DE MOSTOLES",
          "HOSPITAL DEL HENARES",
          "HOSPITAL INFANTA SOFIA",
          "HOSPITAL SEVERO OCHOA",
          "IGLESIA",
          "ISLAS FILIPINAS",
          "JARAMA",
          "JOAQUIN VILUMBRALES",
          "JUAN DE LA CIERVA",
          "JULIAN BESTEIRO",
          "LA ALMUDENA",
          "LA ELIPA",
          "LA FORTUNA",
          "LA GAVIA",
          "LA GRANJA",
          "LA MORALEJA",
          "LA PESETA",
          "LA POVEDA",
          "LA RAMBLA",
          "LACOMA",
          "LAGO",
          "LAS ROSAS",
          "LAS SUERTES",
          "LAS TABLAS",
          "LAVAPIES",
          "LEGANES CENTRAL",
          "LEGAZPI",
          "LORANCA",
          "LOS ESPARTALES",
          "LUCERO",
          "MANOTERAS",
          "MANUEL DE FALLA",
          "MANUELA MALASAÑA",
          "MAR DE CRISTAL",
          "MARQUES DE LA VALDAVIA",
          "MIGUEL HERNANDEZ",
          "MIRASIERRA",
          "MONCLOA",
          "MONTECARMELO",
          "MOSTOLES CENTRAL",
          "NUEVOS MINISTERIOS",
          "PACO DE LUCIA",
          "PALOS DE LA FRONTERA",
          "PAN BENDITO",
          "PARQUE DE LOS ESTADOS",
          "PARQUE DE SANTA MARIA",
          "PARQUE EUROPA",
          "PARQUE LISBOA",
          "PARQUE OESTE",
          "PEÑAGRANDE",
          "PINAR DE CHAMARTIN",
          "PINAR DEL REY",
          "PIRAMIDES",
          "PITIS",
          "PLAZA DE ESPAÑA",
          "PLAZA ELIPTICA",
          "PRADILLO",
          "PUERTA DE ARGANDA",
          "PUERTA DEL SUR",
          "REYES CATOLICOS",
          "RIVAS FUTURA",
          "RIVAS URBANIZACIONES",
          "RIVAS VACIAMADRID",
          "RONDA DE LA COMUNICACION",
          "SAN CIPRIANO",
          "SAN CRISTOBAL",
          "SAN FERMIN-ORCASUR",
          "SAN FERNANDO",
          "SAN FRANCISCO",
          "SAN LORENZO",
          "SAN NICASIO",
          "SIERRA DE GUADALUPE",
          "TRES OLIVOS",
          "UNIVERSIDAD REY JUAN CARLOS",
          "VALDEBERNARDO",
          "VALDECARROS",
          "VALDEZARZA",
          "VENTURA RODRIGUEZ",
          "VICALVARO",
          "VILLA DE VALLECAS",
          "VILLAVERDE ALTO",
          "VILLAVERDE BAJO CRUCE"
         ],
         "lat": {
          "bdata": "dj7oJ78wREDcVcuI/DtEQCgzrjbyPkRA9fxZ0Zg6REC/K0yQzyxEQKjoCPopMURACOIvrxw4REDHU2gSgSZEQKPTcZ2KNURAwg07BOQxREDctlJHXDFEQPOJIRgwPERAKbKHot4mREBBzX4wUTJEQDC+g331JERA8bhnCQs0REAQqJsAdD1EQIVHMv4QNkRAe//aGBsxRECfNydJCD1EQL339CrmPERAwtyfYBQ2REDKNmjDNDREQPRp81b3RkRAeJ2/ScU1REARJl5nJzhEQGHvxyReO0RA95V9xp0vREBvzVZxnTNEQJuQMx7OKURAhkYM4G08REC5+zLlBi5EQIeSMrrGOERAYyMuBo86REDf7DwX0DJEQO/nmoYXNERAfSq7OaovREBu16wDiSVEQBVn7fw8NkRAjeytdjY5RECxXgezWDBEQOCzbBQwM0RAnS0YCx8qRECeXhVACzpEQLrNQ/YWK0RA2m7FpMgoREAqLt412zNEQAdNFUj+MURAGUEMcHk3REBR9cWNMzFEQFDdzNlgO0RADbsN/206REDJzES4LiREQNO5vLerJ0RAM5oEmlc2RECKQcybGDhEQKT7D4YiOURAWTByeHk1REDjCf/62DxEQA/cEwcBMERAmj/BopMkREBkBx/egyhEQH5dvT50NURAr6Z4hqZHREBbbanELylEQIS/kZKrN0RAtBkSYzM4RECtKA5iIzZEQOwqjdLHLERAx+/PI+knRECyPwsP2SpEQOPP1vU4NkRAihHAZJs2REC/Hnto0S1EQLJXv3BiL0RA2LZpYohDREBLI2YfF0REQAqTdeSeLkRAElXpgdUoREASPggaazZEQACH7fgUPkRAlCa+Dk01REB4iHpjPTZEQByug0F+LkRARcUe9hBBREDmzykWSjREQJPjIzAcKkRAE/cYdREyRED9kxb1/SVEQFXRVEWAKURAC5YrTtozREAn+vM2Cj1EQDGHxSB2RkRAQKb/S44nREDBn5fEFDxEQErdlEJARURAy2r5j5MxREBtks5K3D5EQMdgvdmuN0RAvc5NGqxAREA4O49LDCpEQE50TOIqOURAH0YxsfQ/REAvzmLflzNEQC0Ep3YcMERABE4XCbckREDHXsgUEj1EQPYHIaOAJERAhfuGjcIsRECe311ERixEQFFv2Q/rPERAktQPOnU9RECTS/h35ztEQKwJMVaIM0RA9YfUoF8/REDjB6J6SDZEQPoBGpM6MURAPrr1tSwpREAh4MdQXjNEQBMZI+swLERAQJG7rnJGREAFNIYZsStEQGtWXF7yLkRAYj7xDggqREB5yhAK/UFEQKMDihqwM0RA169qpbcrREAwROHcWy9EQDMo/iNTNkRAPxQ6FtIvRECjtwp1uzxEQLgq32QHK0RA514WwuowREDM0SV5J0BEQIhQSE/lKkRAtEiNvjQzREBdLmy2Fi5EQJv4Z1Z/O0RAGmJ7zKo2REDWvN5YvTNEQHbT8q+WMERATOdwYa0rRECxxp8e6ixEQA==",
          "dtype": "f8"
         },
         "legendgroup": "T",
         "lon": {
          "bdata": "8NKlXb3SDcCVxrgSao4MwKs4NIz3vgzAm6g/LD6zDMDBAqmMe6cOwNlTm9dClQ3Am5iMGQ6YDcBnPLTsoeQNwBEX7Lbw/AzAw9BHS2cpDcCVLu1OIBYOwOAl3szWvQ3AcyQn0oSUC8A+7tfeVYINwPrhbWf5DQ7AbYrCq9iDDcD6QjaVR78NwNT0TCGC5QzAK1TMZHlFDsAmlUlVM2kNwEOpjGQEqQzABWlIr7KNDMDhtLOAXgYOwDB05fO8FA3AafEOkzOlDcDOuozWnKMNwB9HGhOzFQ3AQ0MyeecDDsBgHnJVjhYOwDZ862hNEw7AfhQkNfJ1DcB91GoFjIwNwKTM9I100A3AzymMBl9qDcDtf/oBajIOwMP0nef+XA3APpQBGGPzDMCYrnqQUfcNwHnuHmpSfQzAS+Sg6YWhDcB7883rBVUOwLksPoe4jQ3AtznC60nWDcAl+BkvicAMwBLnSA3m6w3As+XE9MetDcCVeDD0Fp8NwJQr/bRuHw7AYVfrWx3NDMDEQHgCewIOwIj0brj87QzAcpWZyPeyDcCMQhtNKWQOwGeQrYNI3w3AtAQumENoDcBxXbQqKIgNwNl8UjfHsg3A7CbDSKk3DMC2zD/9dzgNwEqK1kMckQ3A6KwpiQWIDsA3qGlBaf8OwDfXfUW6RgzAVrEmYULkDMD7D5MNzyQOwGGPfdKClw3AiQ0dXbe1DcDD8DMTNjQMwF4sbfIldQ7ALf9W1CXHDcBValwOcgUOwPYrc6f2HA3ARiOlQkM0DcA2S1rC/DgOwLbJ6Ipf6AzAUUyd7ctEDcBgviU7oBUNwHzWIQIjDg7Aw7ai6s/RC8AKGAfkJWIMwH/Q0xnMyA3Ax3NviZLiDcDNpVPikdMMwEQlesvXywzAigSOtgRbDcCPOPaec5sNwGpyw5YbLA7AKqIZF3ePDcD62WVik7MOwMODoYXevg3AJ8FKOXP2DcAi86wknE0NwMGmACLPLA3AvRgJ8oPpDsDU2xiiRxsNwL2IqkZdGQ3AG2rlXbcdDcBJKeHQErsNwFnOhVNvwQ3Ayn2LveWQDcCIrdjMiOgOwGjEtmUMig3Ag4tJ6TKsDcBTf4/dyY0NwBhS5OuT3w3AVZsbDLlLDsCedIqjdCkNwB/3DnhZcw7AC2l3Ec+RDsDLNmwLcssOwOJdHwQCug3APSyFlp1VDcAhEpMJeTANwNrPLH3msA3AulgOEKDODcDjmqKEdq0NwF2xIRA5vw3AyVCjIkvrDsDaFBuzjsQMwBYTvukzfw7Aoo2B1Lj8DMAdEOiUxDIMwMnpXiPSYAzAzf92CC8qDMDQz2PKV00NwGupsfiz0QzA2OTZHKKLDcBdlS9drI0NwO1NwWiHSAzA1P3py67pDcCt4PCw2h0NwBD3Mzv9NA7AHjt832v/DMBl1GZNxo8NwH2mLk05+g7AR0E/AvT4DMAaBzDbyr4MwDJlLZhPug3AnBr37BG1DcDknkxg8d4MwP+DnUpq+AzA5JuD9CeyDcD0lEWHi4oNwA==",
          "dtype": "f8"
         },
         "marker": {
          "color": "#636efa",
          "size": {
           "bdata": "KAFJAkkCRQKRAkUBhgDWAjcCWgEAAdAAeQMoANsCIQCvADsC8ABTAD8ChgPgAHMCGgAEAccBMgHAAf8CrADTAdsAvAD5ADkA9gHbAoIDYQHpACcAwQJGAvsCxQIWAP4AKwIqAUIC2QC7AtIClgAJAfIAogO9AUYBsQIiA4kDbQICA4UAfgChA48CzAL0AqgBqgHkAgACUQJWAjEBdgODA6wA4AA8AgMCmAAUAO8CTwCmAsMCBgG6AUwCKAOIA1ICXAGfAMUBkQATA2gBoAAeAC4BtgK+AbMCjQKLArIAGgPBARsAngDuAFICGwMTAhwFdQKUA5IDlgOZABMC5AFQAaEDMwHCAesCXgGUAA4DCgIFAtIABgAOAvQB5AHhAQ==",
           "dtype": "i2"
          },
          "sizemode": "area",
          "sizeref": 3.27
         },
         "mode": "markers",
         "name": "T",
         "showlegend": true,
         "subplot": "mapbox",
         "type": "scattermapbox"
        },
        {
         "hovertemplate": "<b>%{hovertext}</b><br><br>GRADOACCESIBILIDAD=N<br>ENCUESTADOMICILIARIA=%{marker.size}<br>latitude=%{lat}<br>longitude=%{lon}<extra></extra>",
         "hovertext": [
          "ACACIAS",
          "ALFONSO XIII",
          "ALONSO MARTINEZ",
          "ALTO DE EXTREMADURA",
          "ALVARADO",
          "ANTON MARTIN",
          "ARGÜELLES",
          "ARTILLEROS",
          "ARTURO SORIA",
          "ASCAO",
          "AVENIDA DE AMERICA",
          "AVENIDA DE LA PAZ",
          "BANCO DE ESPAÑA",
          "BARRIO DE LA CONCEPCION",
          "BARRIO DEL PILAR",
          "BEGOÑA",
          "BILBAO",
          "BUENOS AIRES",
          "CAMPAMENTO",
          "CANILLEJAS",
          "CARABANCHEL",
          "CARPETANA",
          "CARTAGENA",
          "CHUECA",
          "CIUDAD LINEAL",
          "COLON",
          "CONCHA ESPINA",
          "CRUZ DEL RAYO",
          "CUZCO",
          "DIEGO DE LEON",
          "DUQUE DE PASTRANA",
          "EL CARMEN",
          "ESPERANZA",
          "ESTACIÓN DEL ARTE",
          "ESTRECHO",
          "ESTRELLA",
          "FUENCARRAL",
          "GARCIA NOBLEJAS",
          "GRAN VIA",
          "HERRERA ORIA",
          "IBIZA",
          "LA LATINA",
          "LAGUNA",
          "LAS MUSAS",
          "LISTA",
          "MANUEL BECERRA",
          "MARQUES DE VADILLO",
          "MENDEZ ALVARO",
          "MENENDEZ PELAYO",
          "NOVICIADO",
          "NUEVA NUMANCIA",
          "NUÑEZ DE BALBOA",
          "O'DONNELL",
          "OPAÑEL",
          "OPERA",
          "OPORTO",
          "PACIFICO",
          "PARQUE DE LAS AVENIDAS",
          "PAVONES",
          "PIO XII",
          "PLAZA DE CASTILLA",
          "PORTAZGO",
          "PRINCIPE DE VERGARA",
          "PROSPERIDAD",
          "PUEBLO NUEVO",
          "PUENTE DE VALLECAS",
          "PUERTA DE TOLEDO",
          "PUERTA DEL ANGEL",
          "QUEVEDO",
          "QUINTANA",
          "REPUBLICA ARGENTINA",
          "RETIRO",
          "RIOS ROSAS",
          "RUBEN DARIO",
          "SAINZ DE BARANDA",
          "SAN BERNARDO",
          "SAN BLAS",
          "SANTIAGO BERNABEU",
          "SANTO DOMINGO",
          "SERRANO",
          "SEVILLA",
          "SIMANCAS",
          "SUANZES",
          "TETUAN",
          "TIRSO DE MOLINA",
          "TORRE ARIAS",
          "TRIBUNAL",
          "URGEL",
          "USERA",
          "VALDEACEDERAS",
          "VELAZQUEZ",
          "VENTAS",
          "VENTILLA",
          "VICENTE ALEIXANDRE",
          "VINATEROS",
          "VISTA ALEGRE"
         ],
         "lat": {
          "bdata": "BM3mELIzREBv0QM0YDlEQKGn3/DZNkRAgl2qdHg0RECKnmp6pDlEQA23KpvLNERAY3255R83RECxlORf3jNEQGmFFrhYOkRAL0uN+RA3REDhN5VzEThEQPkdYK8NOkRAf5lz/qg1REDwVL1oNDhEQIMrdbMKPURA7fvDK349REChOhiR5DZEQBn8e7seMkRA4x+DD4kyREB/WEqfhjlEQESi11CkMURA7KJLDkQyRED8/QY2PDhEQIAfpKwiNkRAVh1i+BE4RECDL8EidDZEQMr47g/JOURAnQhTtN04REBBy5WNrTpEQBR+ZNRqN0RASn/1Kds7REA8dIZHSDdEQFLWRSvPOkRAVfjJP1U0REDB8iocJjpEQCxaJh+rNERAUaNa814/RECdHjSS1jZEQFz3GR/CNURAPCwTbgk+REBiNdvXjTVEQGSZdNWkNERA+tzS9BkzREBjh6wnbDdEQFZ8e/7uNkRAY1vxksU2REDd5ieS3DJEQKiC6qqbMkRAdPziCMUzREDklvU6YTZEQH9kl/6gMkRAba91fg43REBO2jg1ITZEQGR6YRWGMURAvfSbEYQ1REAckZ42uTFEQFmM2otcM0RAuS2s0T84REDiimP2QzNEQEgtqaxDO0RAq2AARMM7REB2JknRQjJEQACjpg4jNkRA45guL9s4REByJYKowzdEQGoK3fX3MkRAuNtivxk0REAupJOj+jREQNdUPKpzN0RAGjYctn83REBFUKJCzjhEQJ4GS5zMNURA4JcCppI4REC2KCO4cTdEQOdYXqcfNURA0T6AqAo3REBkQlVwyDZEQDilmqzNOURA0p3Nqe01RECGr52PdDZEQHSh2a+CNURAU4o+dMg2REC4tUPQbThEQAoUNV3zOkRAuGKF0sc0REDB9ZCUzDhEQN8LOD6NNkRA7KvKWVkyREDW/WpijDFEQMtGYUByO0RAktl0d2c2REBiCLU7JzdEQHnfW3UWPERAEHnz0yQ5REDTtPC9gjREQBRjRb3FMURA",
          "dtype": "f8"
         },
         "legendgroup": "N",
         "lon": {
          "bdata": "dp8VcTOnDcB5Tl8u31cNwPk5cuFKkg3AyHhtX1fpDcBtNj0zY6ANwOsuKtpQmA3AxuBcoEq6DcBOS8eBbiINwC7WP/DbPw3AWSuW0eEgDcA9c8r/wWkNwL25yskZSg3AbKqC3UmPDcByYLPfTTcNwNuqHbYUoA3A7N3jw558DcAtPPBU7psNwAP0JiIzOw3AXx1VXSAlDsBpNtQog90MwIUE/ax+9Q3AZTjAF47tDcDQUs0EkWANwEGLDQK4lA3A8BqdXfIaDcCzG0PiLocNwDGzFUVGaw3AicjlhPtsDcCnrHx40IQNwIkJhJ0tYg3AAmR6+PBuDcA80klltUINwKO4mzKiKg3A3ncwxDaKDcDkkmqAyp8NwLMhdxNWSw3Aq5C2GeuKDcAi/G5P/xANwG4YAWFLnQ3AB21UHfuoDcBa7fDIuG0NwNLE1D5Qqg3AEK62pE30DcAgzU3v79wMwFWs0EM9Zw3AGsPrPohaDcC+9M5GSboNwL/aV3TVbA3AdLcsVqVyDcDRvqRQy6gNwHNTPoYpUA3A2jTpPlZvDcDCtHxpSFkNwDxJrEf6yA3Ar//cqeOsDcDj/2wJwNkNwLMpqv6tZg3A7lgYhcNNDcBf24EiuxQNwJVSiqoEaA3AuLxRkz+DDcAvb5pK+0QNwMzNAinkcA3AhJb4cwdmDcAQ7yRagCQNwBfXzpo7Wg3A6t4fHzmwDcAZASdxY9ENwDWLZER5og3A9dFTQcwtDcAYm5tt9XgNwElfD99tfQ3ATEdTG1KcDcAE6LhiLoQNwCZniwUqWw3AENVi2QGlDcCwzxENe+wMwO56YJvlhQ3A4i3CdOSpDcAioyUZOH4NwKOXDPsQmA3AfnJNXXoBDcAwl0iOxAMNwH1fWAoElg3AO5czTSKjDcC7f57rmu8MwGfS5jzamw3Ago18U/HJDcBguBvnuKcNwGRUfq98jw3APAA/yp12DcBpOl2UEE8NwF5ieUcrkQ3AmTO+ymLBDcCn9kO2zDgNwA1zOCIp6w3A",
          "dtype": "f8"
         },
         "marker": {
          "color": "#EF553B",
          "size": {
           "bdata": "HABjAKIBCQF2ABQAEQGBAZEBpAGcAZEBCgCYAcYAwwAVAVkB+wAjAiABHwFnAAQAnwGMAGEAYQBcANMAWACaAcoBFwBvAHsBogCnARwAuQAwABMACAE2AkgAmAAUASwAPAAHAF8BigBOAB0BJAA2An8ARQCKAVoAFwFmAZYAYQA8A18BFgAMAYoAnQFgAC8AgQCHAHAAFAE0AmAADABGAA8AMQImAnAAEwAhAgcAHAE8AXAASgCSAGoA3QB8ASEB",
           "dtype": "i2"
          },
          "sizemode": "area",
          "sizeref": 3.27
         },
         "mode": "markers",
         "name": "N",
         "showlegend": true,
         "subplot": "mapbox",
         "type": "scattermapbox"
        },
        {
         "hovertemplate": "<b>%{hovertext}</b><br><br>GRADOACCESIBILIDAD=P<br>ENCUESTADOMICILIARIA=%{marker.size}<br>latitude=%{lat}<br>longitude=%{lon}<extra></extra>",
         "hovertext": [
          "PRINCIPE PIO",
          "SOL"
         ],
         "lat": {
          "bdata": "/P55leU1REA0A9wxXDVEQA==",
          "dtype": "f8"
         },
         "legendgroup": "P",
         "lon": {
          "bdata": "RG+I/zjDDcCES6mkR6ANwA==",
          "dtype": "f8"
         },
         "marker": {
          "color": "#00cc96",
          "size": {
           "bdata": "sgIqAA==",
           "dtype": "i2"
          },
          "sizemode": "area",
          "sizeref": 3.27
         },
         "mode": "markers",
         "name": "P",
         "showlegend": true,
         "subplot": "mapbox",
         "type": "scattermapbox"
        }
       ],
       "layout": {
        "legend": {
         "itemsizing": "constant",
         "title": {
          "text": "GRADOACCESIBILIDAD"
         },
         "tracegroupgap": 0
        },
        "mapbox": {
         "center": {
          "lat": 40.41464064594003,
          "lon": -3.687291669282285
         },
         "domain": {
          "x": [
           0,
           1
          ],
          "y": [
           0,
           1
          ]
         },
         "style": "carto-positron",
         "zoom": 10
        },
        "margin": {
         "b": 0,
         "l": 0,
         "r": 0,
         "t": 0
        },
        "template": {
         "data": {
          "bar": [
           {
            "error_x": {
             "color": "#2a3f5f"
            },
            "error_y": {
             "color": "#2a3f5f"
            },
            "marker": {
             "line": {
              "color": "#E5ECF6",
              "width": 0.5
             },
             "pattern": {
              "fillmode": "overlay",
              "size": 10,
              "solidity": 0.2
             }
            },
            "type": "bar"
           }
          ],
          "barpolar": [
           {
            "marker": {
             "line": {
              "color": "#E5ECF6",
              "width": 0.5
             },
             "pattern": {
              "fillmode": "overlay",
              "size": 10,
              "solidity": 0.2
             }
            },
            "type": "barpolar"
           }
          ],
          "carpet": [
           {
            "aaxis": {
             "endlinecolor": "#2a3f5f",
             "gridcolor": "white",
             "linecolor": "white",
             "minorgridcolor": "white",
             "startlinecolor": "#2a3f5f"
            },
            "baxis": {
             "endlinecolor": "#2a3f5f",
             "gridcolor": "white",
             "linecolor": "white",
             "minorgridcolor": "white",
             "startlinecolor": "#2a3f5f"
            },
            "type": "carpet"
           }
          ],
          "choropleth": [
           {
            "colorbar": {
             "outlinewidth": 0,
             "ticks": ""
            },
            "type": "choropleth"
           }
          ],
          "contour": [
           {
            "colorbar": {
             "outlinewidth": 0,
             "ticks": ""
            },
            "colorscale": [
             [
              0,
              "#0d0887"
             ],
             [
              0.1111111111111111,
              "#46039f"
             ],
             [
              0.2222222222222222,
              "#7201a8"
             ],
             [
              0.3333333333333333,
              "#9c179e"
             ],
             [
              0.4444444444444444,
              "#bd3786"
             ],
             [
              0.5555555555555556,
              "#d8576b"
             ],
             [
              0.6666666666666666,
              "#ed7953"
             ],
             [
              0.7777777777777778,
              "#fb9f3a"
             ],
             [
              0.8888888888888888,
              "#fdca26"
             ],
             [
              1,
              "#f0f921"
             ]
            ],
            "type": "contour"
           }
          ],
          "contourcarpet": [
           {
            "colorbar": {
             "outlinewidth": 0,
             "ticks": ""
            },
            "type": "contourcarpet"
           }
          ],
          "heatmap": [
           {
            "colorbar": {
             "outlinewidth": 0,
             "ticks": ""
            },
            "colorscale": [
             [
              0,
              "#0d0887"
             ],
             [
              0.1111111111111111,
              "#46039f"
             ],
             [
              0.2222222222222222,
              "#7201a8"
             ],
             [
              0.3333333333333333,
              "#9c179e"
             ],
             [
              0.4444444444444444,
              "#bd3786"
             ],
             [
              0.5555555555555556,
              "#d8576b"
             ],
             [
              0.6666666666666666,
              "#ed7953"
             ],
             [
              0.7777777777777778,
              "#fb9f3a"
             ],
             [
              0.8888888888888888,
              "#fdca26"
             ],
             [
              1,
              "#f0f921"
             ]
            ],
            "type": "heatmap"
           }
          ],
          "histogram": [
           {
            "marker": {
             "pattern": {
              "fillmode": "overlay",
              "size": 10,
              "solidity": 0.2
             }
            },
            "type": "histogram"
           }
          ],
          "histogram2d": [
           {
            "colorbar": {
             "outlinewidth": 0,
             "ticks": ""
            },
            "colorscale": [
             [
              0,
              "#0d0887"
             ],
             [
              0.1111111111111111,
              "#46039f"
             ],
             [
              0.2222222222222222,
              "#7201a8"
             ],
             [
              0.3333333333333333,
              "#9c179e"
             ],
             [
              0.4444444444444444,
              "#bd3786"
             ],
             [
              0.5555555555555556,
              "#d8576b"
             ],
             [
              0.6666666666666666,
              "#ed7953"
             ],
             [
              0.7777777777777778,
              "#fb9f3a"
             ],
             [
              0.8888888888888888,
              "#fdca26"
             ],
             [
              1,
              "#f0f921"
             ]
            ],
            "type": "histogram2d"
           }
          ],
          "histogram2dcontour": [
           {
            "colorbar": {
             "outlinewidth": 0,
             "ticks": ""
            },
            "colorscale": [
             [
              0,
              "#0d0887"
             ],
             [
              0.1111111111111111,
              "#46039f"
             ],
             [
              0.2222222222222222,
              "#7201a8"
             ],
             [
              0.3333333333333333,
              "#9c179e"
             ],
             [
              0.4444444444444444,
              "#bd3786"
             ],
             [
              0.5555555555555556,
              "#d8576b"
             ],
             [
              0.6666666666666666,
              "#ed7953"
             ],
             [
              0.7777777777777778,
              "#fb9f3a"
             ],
             [
              0.8888888888888888,
              "#fdca26"
             ],
             [
              1,
              "#f0f921"
             ]
            ],
            "type": "histogram2dcontour"
           }
          ],
          "mesh3d": [
           {
            "colorbar": {
             "outlinewidth": 0,
             "ticks": ""
            },
            "type": "mesh3d"
           }
          ],
          "parcoords": [
           {
            "line": {
             "colorbar": {
              "outlinewidth": 0,
              "ticks": ""
             }
            },
            "type": "parcoords"
           }
          ],
          "pie": [
           {
            "automargin": true,
            "type": "pie"
           }
          ],
          "scatter": [
           {
            "fillpattern": {
             "fillmode": "overlay",
             "size": 10,
             "solidity": 0.2
            },
            "type": "scatter"
           }
          ],
          "scatter3d": [
           {
            "line": {
             "colorbar": {
              "outlinewidth": 0,
              "ticks": ""
             }
            },
            "marker": {
             "colorbar": {
              "outlinewidth": 0,
              "ticks": ""
             }
            },
            "type": "scatter3d"
           }
          ],
          "scattercarpet": [
           {
            "marker": {
             "colorbar": {
              "outlinewidth": 0,
              "ticks": ""
             }
            },
            "type": "scattercarpet"
           }
          ],
          "scattergeo": [
           {
            "marker": {
             "colorbar": {
              "outlinewidth": 0,
              "ticks": ""
             }
            },
            "type": "scattergeo"
           }
          ],
          "scattergl": [
           {
            "marker": {
             "colorbar": {
              "outlinewidth": 0,
              "ticks": ""
             }
            },
            "type": "scattergl"
           }
          ],
          "scattermap": [
           {
            "marker": {
             "colorbar": {
              "outlinewidth": 0,
              "ticks": ""
             }
            },
            "type": "scattermap"
           }
          ],
          "scattermapbox": [
           {
            "marker": {
             "colorbar": {
              "outlinewidth": 0,
              "ticks": ""
             }
            },
            "type": "scattermapbox"
           }
          ],
          "scatterpolar": [
           {
            "marker": {
             "colorbar": {
              "outlinewidth": 0,
              "ticks": ""
             }
            },
            "type": "scatterpolar"
           }
          ],
          "scatterpolargl": [
           {
            "marker": {
             "colorbar": {
              "outlinewidth": 0,
              "ticks": ""
             }
            },
            "type": "scatterpolargl"
           }
          ],
          "scatterternary": [
           {
            "marker": {
             "colorbar": {
              "outlinewidth": 0,
              "ticks": ""
             }
            },
            "type": "scatterternary"
           }
          ],
          "surface": [
           {
            "colorbar": {
             "outlinewidth": 0,
             "ticks": ""
            },
            "colorscale": [
             [
              0,
              "#0d0887"
             ],
             [
              0.1111111111111111,
              "#46039f"
             ],
             [
              0.2222222222222222,
              "#7201a8"
             ],
             [
              0.3333333333333333,
              "#9c179e"
             ],
             [
              0.4444444444444444,
              "#bd3786"
             ],
             [
              0.5555555555555556,
              "#d8576b"
             ],
             [
              0.6666666666666666,
              "#ed7953"
             ],
             [
              0.7777777777777778,
              "#fb9f3a"
             ],
             [
              0.8888888888888888,
              "#fdca26"
             ],
             [
              1,
              "#f0f921"
             ]
            ],
            "type": "surface"
           }
          ],
          "table": [
           {
            "cells": {
             "fill": {
              "color": "#EBF0F8"
             },
             "line": {
              "color": "white"
             }
            },
            "header": {
             "fill": {
              "color": "#C8D4E3"
             },
             "line": {
              "color": "white"
             }
            },
            "type": "table"
           }
          ]
         },
         "layout": {
          "annotationdefaults": {
           "arrowcolor": "#2a3f5f",
           "arrowhead": 0,
           "arrowwidth": 1
          },
          "autotypenumbers": "strict",
          "coloraxis": {
           "colorbar": {
            "outlinewidth": 0,
            "ticks": ""
           }
          },
          "colorscale": {
           "diverging": [
            [
             0,
             "#8e0152"
            ],
            [
             0.1,
             "#c51b7d"
            ],
            [
             0.2,
             "#de77ae"
            ],
            [
             0.3,
             "#f1b6da"
            ],
            [
             0.4,
             "#fde0ef"
            ],
            [
             0.5,
             "#f7f7f7"
            ],
            [
             0.6,
             "#e6f5d0"
            ],
            [
             0.7,
             "#b8e186"
            ],
            [
             0.8,
             "#7fbc41"
            ],
            [
             0.9,
             "#4d9221"
            ],
            [
             1,
             "#276419"
            ]
           ],
           "sequential": [
            [
             0,
             "#0d0887"
            ],
            [
             0.1111111111111111,
             "#46039f"
            ],
            [
             0.2222222222222222,
             "#7201a8"
            ],
            [
             0.3333333333333333,
             "#9c179e"
            ],
            [
             0.4444444444444444,
             "#bd3786"
            ],
            [
             0.5555555555555556,
             "#d8576b"
            ],
            [
             0.6666666666666666,
             "#ed7953"
            ],
            [
             0.7777777777777778,
             "#fb9f3a"
            ],
            [
             0.8888888888888888,
             "#fdca26"
            ],
            [
             1,
             "#f0f921"
            ]
           ],
           "sequentialminus": [
            [
             0,
             "#0d0887"
            ],
            [
             0.1111111111111111,
             "#46039f"
            ],
            [
             0.2222222222222222,
             "#7201a8"
            ],
            [
             0.3333333333333333,
             "#9c179e"
            ],
            [
             0.4444444444444444,
             "#bd3786"
            ],
            [
             0.5555555555555556,
             "#d8576b"
            ],
            [
             0.6666666666666666,
             "#ed7953"
            ],
            [
             0.7777777777777778,
             "#fb9f3a"
            ],
            [
             0.8888888888888888,
             "#fdca26"
            ],
            [
             1,
             "#f0f921"
            ]
           ]
          },
          "colorway": [
           "#636efa",
           "#EF553B",
           "#00cc96",
           "#ab63fa",
           "#FFA15A",
           "#19d3f3",
           "#FF6692",
           "#B6E880",
           "#FF97FF",
           "#FECB52"
          ],
          "font": {
           "color": "#2a3f5f"
          },
          "geo": {
           "bgcolor": "white",
           "lakecolor": "white",
           "landcolor": "#E5ECF6",
           "showlakes": true,
           "showland": true,
           "subunitcolor": "white"
          },
          "hoverlabel": {
           "align": "left"
          },
          "hovermode": "closest",
          "mapbox": {
           "style": "light"
          },
          "paper_bgcolor": "white",
          "plot_bgcolor": "#E5ECF6",
          "polar": {
           "angularaxis": {
            "gridcolor": "white",
            "linecolor": "white",
            "ticks": ""
           },
           "bgcolor": "#E5ECF6",
           "radialaxis": {
            "gridcolor": "white",
            "linecolor": "white",
            "ticks": ""
           }
          },
          "scene": {
           "xaxis": {
            "backgroundcolor": "#E5ECF6",
            "gridcolor": "white",
            "gridwidth": 2,
            "linecolor": "white",
            "showbackground": true,
            "ticks": "",
            "zerolinecolor": "white"
           },
           "yaxis": {
            "backgroundcolor": "#E5ECF6",
            "gridcolor": "white",
            "gridwidth": 2,
            "linecolor": "white",
            "showbackground": true,
            "ticks": "",
            "zerolinecolor": "white"
           },
           "zaxis": {
            "backgroundcolor": "#E5ECF6",
            "gridcolor": "white",
            "gridwidth": 2,
            "linecolor": "white",
            "showbackground": true,
            "ticks": "",
            "zerolinecolor": "white"
           }
          },
          "shapedefaults": {
           "line": {
            "color": "#2a3f5f"
           }
          },
          "ternary": {
           "aaxis": {
            "gridcolor": "white",
            "linecolor": "white",
            "ticks": ""
           },
           "baxis": {
            "gridcolor": "white",
            "linecolor": "white",
            "ticks": ""
           },
           "bgcolor": "#E5ECF6",
           "caxis": {
            "gridcolor": "white",
            "linecolor": "white",
            "ticks": ""
           }
          },
          "title": {
           "x": 0.05
          },
          "xaxis": {
           "automargin": true,
           "gridcolor": "white",
           "linecolor": "white",
           "ticks": "",
           "title": {
            "standoff": 15
           },
           "zerolinecolor": "white",
           "zerolinewidth": 2
          },
          "yaxis": {
           "automargin": true,
           "gridcolor": "white",
           "linecolor": "white",
           "ticks": "",
           "title": {
            "standoff": 15
           },
           "zerolinecolor": "white",
           "zerolinewidth": 2
          }
         }
        }
       }
      }
     },
     "metadata": {},
     "output_type": "display_data"
    }
   ],
   "source": [
    "fig = px.scatter_mapbox(\n",
    "    estaciones,\n",
    "    lat='latitude',\n",
    "    lon='longitude',\n",
    "    mapbox_style='carto-positron', # open-street-map, carto-positron, stamen-terrain\n",
    "    zoom=10,\n",
    "    hover_name='DENOMINACION',\n",
    "    color='GRADOACCESIBILIDAD',\n",
    "    size='ENCUESTADOMICILIARIA',\n",
    "    size_max=20,\n",
    ")\n",
    "fig.update_layout(\n",
    "    margin={\n",
    "        'r':0,  # tight\n",
    "        't':0,  # top\n",
    "        'l':0,  # left\n",
    "        'b':0,  # bottom\n",
    "    }\n",
    ")\n",
    "fig.show()"
   ]
  }
 ],
 "metadata": {
  "kernelspec": {
   "display_name": "myenv (3.13.7)",
   "language": "python",
   "name": "python3"
  },
  "language_info": {
   "codemirror_mode": {
    "name": "ipython",
    "version": 3
   },
   "file_extension": ".py",
   "mimetype": "text/x-python",
   "name": "python",
   "nbconvert_exporter": "python",
   "pygments_lexer": "ipython3",
   "version": "3.13.7"
  }
 },
 "nbformat": 4,
 "nbformat_minor": 5
}
