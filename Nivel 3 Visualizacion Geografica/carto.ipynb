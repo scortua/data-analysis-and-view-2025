{
 "cells": [
  {
   "cell_type": "markdown",
   "id": "1dc1017e",
   "metadata": {},
   "source": [
    "# Carto"
   ]
  },
  {
   "cell_type": "markdown",
   "id": "98740ea3",
   "metadata": {},
   "source": [
    "[carto](https://carto.com/) es una herramienta que permite hacer pruebas de mapas para mostrar datos."
   ]
  }
 ],
 "metadata": {
  "kernelspec": {
   "display_name": "myenv (3.13.7)",
   "language": "python",
   "name": "python3"
  },
  "language_info": {
   "name": "python",
   "version": "3.13.7"
  }
 },
 "nbformat": 4,
 "nbformat_minor": 5
}
