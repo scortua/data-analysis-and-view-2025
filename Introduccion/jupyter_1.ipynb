{
 "cells": [
  {
   "cell_type": "markdown",
   "id": "75cb9789",
   "metadata": {},
   "source": [
    "# Mi primer cuaderno\n",
    "\n",
    "## Este va a ser mi primer cuaderno de Jupyter\n",
    "\n",
    "### Aqui vamos a hacer cosas muy interesantes\n",
    "\n",
    "Entre lo que haremos se encuentra:   \n",
    "- Vamos a hacer analisis de sentimientos\n",
    "- Vamos a imprimir *mensajes*\n",
    "- Y muchas cosas **mas**\n",
    "\n",
    "![imagen](https://upload.wikimedia.org/wikipedia/commons/thumb/3/3a/Linear_regression.svg/1200px-Linear_regression.svg.png)"
   ]
  },
  {
   "cell_type": "code",
   "execution_count": 1,
   "id": "db5fe237",
   "metadata": {},
   "outputs": [
    {
     "name": "stdout",
     "output_type": "stream",
     "text": [
      "Este es el bloque 1\n"
     ]
    }
   ],
   "source": [
    "# Hola Mundo\n",
    "print(\"Este es el bloque 1\")\n",
    "x = 10"
   ]
  },
  {
   "cell_type": "code",
   "execution_count": 2,
   "id": "18fbad93",
   "metadata": {},
   "outputs": [
    {
     "name": "stdout",
     "output_type": "stream",
     "text": [
      "Este es el bloque 2\n",
      "Variable X: 10\n"
     ]
    }
   ],
   "source": [
    "print (\"Este es el bloque 2\")\n",
    "print (\"Variable X:\", x)"
   ]
  },
  {
   "cell_type": "code",
   "execution_count": null,
   "id": "10188fb7",
   "metadata": {},
   "outputs": [],
   "source": []
  }
 ],
 "metadata": {
  "kernelspec": {
   "display_name": "myenv (3.13.7)",
   "language": "python",
   "name": "python3"
  },
  "language_info": {
   "codemirror_mode": {
    "name": "ipython",
    "version": 3
   },
   "file_extension": ".py",
   "mimetype": "text/x-python",
   "name": "python",
   "nbconvert_exporter": "python",
   "pygments_lexer": "ipython3",
   "version": "3.13.7"
  }
 },
 "nbformat": 4,
 "nbformat_minor": 5
}
